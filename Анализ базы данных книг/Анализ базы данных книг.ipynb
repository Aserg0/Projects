{
 "cells": [
  {
   "cell_type": "markdown",
   "metadata": {
    "toc": true
   },
   "source": [
    "<h1>Table of Contents<span class=\"tocSkip\"></span></h1>\n",
    "<div class=\"toc\"><ul class=\"toc-item\"><li><span><a href=\"#Изучение-данных\" data-toc-modified-id=\"Изучение-данных-1\"><span class=\"toc-item-num\">1&nbsp;&nbsp;</span>Изучение данных</a></span></li><li><span><a href=\"#Решение-заданий\" data-toc-modified-id=\"Решение-заданий-2\"><span class=\"toc-item-num\">2&nbsp;&nbsp;</span>Решение заданий</a></span><ul class=\"toc-item\"><li><span><a href=\"#Определить-количество-книг,-вышедших-после-1-января-2000-года\" data-toc-modified-id=\"Определить-количество-книг,-вышедших-после-1-января-2000-года-2.1\"><span class=\"toc-item-num\">2.1&nbsp;&nbsp;</span>Определить количество книг, вышедших после 1 января 2000 года</a></span></li><li><span><a href=\"#Определить-количество-обзоров-и-среднюю-оценку-по-каждой-книге\" data-toc-modified-id=\"Определить-количество-обзоров-и-среднюю-оценку-по-каждой-книге-2.2\"><span class=\"toc-item-num\">2.2&nbsp;&nbsp;</span>Определить количество обзоров и среднюю оценку по каждой книге</a></span></li><li><span><a href=\"#Определить-издательство,-которое-выпустило-наибольшее-число-книг-толще-50-страниц\" data-toc-modified-id=\"Определить-издательство,-которое-выпустило-наибольшее-число-книг-толще-50-страниц-2.3\"><span class=\"toc-item-num\">2.3&nbsp;&nbsp;</span>Определить издательство, которое выпустило наибольшее число книг толще 50 страниц</a></span></li><li><span><a href=\"#Определить-автора-с-самой-высокой-средней-оценкой-книг-—-учитывать-только-книги-с-50-и-более-оценками\" data-toc-modified-id=\"Определить-автора-с-самой-высокой-средней-оценкой-книг-—-учитывать-только-книги-с-50-и-более-оценками-2.4\"><span class=\"toc-item-num\">2.4&nbsp;&nbsp;</span>Определить автора с самой высокой средней оценкой книг — учитывать только книги с 50 и более оценками</a></span></li><li><span><a href=\"#Определить-среднее-количество-обзоров-от-пользователей,-которые-поставили-больше-50-оценок.\" data-toc-modified-id=\"Определить-среднее-количество-обзоров-от-пользователей,-которые-поставили-больше-50-оценок.-2.5\"><span class=\"toc-item-num\">2.5&nbsp;&nbsp;</span>Определить среднее количество обзоров от пользователей, которые поставили больше 50 оценок.</a></span></li></ul></li><li><span><a href=\"#Выводы-по-каждой-из-решённых-задач\" data-toc-modified-id=\"Выводы-по-каждой-из-решённых-задач-3\"><span class=\"toc-item-num\">3&nbsp;&nbsp;</span>Выводы по каждой из решённых задач</a></span></li></ul></div>"
   ]
  },
  {
   "cell_type": "markdown",
   "metadata": {},
   "source": [
    "# Анализ базы данных (SQL)"
   ]
  },
  {
   "cell_type": "markdown",
   "metadata": {},
   "source": [
    "**Цель проекта:** Провести анализ имеющейся базы данных по заранее заданным параметрам. Результаты анализа помогут сформулировать ценностное предложение для нового продукта, связанного с сервисом для чтения книг по подписке. \n",
    "    \n",
    "\n",
    "**Исходные данные** — база данных с информацией о книгах, издательствах, авторах, а также пользовательские обзоры книг.\n",
    "\n",
    "\n",
    "**План работы по проекту:**<p>  \n",
    "1. Исследовать таблицы — вывести первые строки.  \n",
    "2. Сделать по одному SQL-запросу для решения каждого задания:  \n",
    "- Посчитать, сколько книг вышло после 1 января 2000 года;  \n",
    "- Для каждой книги посчитать количество обзоров и среднюю оценку;  \n",
    "- Определите издательство, которое выпустило наибольшее число книг толще 50 страниц — так будут исключены из анализа брошюры;  \n",
    "- Определить автора с самой высокой средней оценкой книг — учитывать только книги с 50 и более оценками;  \n",
    "- Посчитать среднее количество обзоров от пользователей, которые поставили больше 50 оценок.  \n",
    "`Вывести результаты каждого запроса в тетрадке.`<br>      \n",
    "  \n",
    "<br>  \n",
    "3. Привести выводы по каждой из решённых задач.  \n",
    "    \n",
    "\n",
    "      \n"
   ]
  },
  {
   "cell_type": "markdown",
   "metadata": {},
   "source": [
    "## Изучение данных"
   ]
  },
  {
   "cell_type": "code",
   "execution_count": 1,
   "metadata": {},
   "outputs": [],
   "source": [
    "#импорт библиотек\n",
    "import pandas as pd\n",
    "from sqlalchemy import create_engine\n",
    "from datetime import datetime"
   ]
  },
  {
   "cell_type": "code",
   "execution_count": 2,
   "metadata": {},
   "outputs": [],
   "source": [
    "# создаем подключение к базе данных, загружаем таблицу и выгружаем данные в файл:\n",
    "# Задаём параметры подключения к БД\n",
    "db_config = {'user': '***************', # имя пользователя\n",
    "            'pwd': '**************', # пароль\n",
    "            'host': '********************.mdb.yandexcloud.net',\n",
    "            'port': ****, # порт подключения\n",
    "            'db': '*********-final-project-db'} # название базы данных\n",
    "\n",
    "# Формируем строку соединения с БД\n",
    "connection_string = 'postgresql://{}:{}@{}:{}/{}'.format(db_config['user'],\n",
    "                                                         db_config['pwd'],\n",
    "                                                         db_config['host'],\n",
    "                                                         db_config['port'],\n",
    "                                                         db_config['db'])\n",
    "# Подключаемся к БД\n",
    "engine = create_engine(connection_string, connect_args={'sslmode':'require'}) "
   ]
  },
  {
   "cell_type": "code",
   "execution_count": 3,
   "metadata": {},
   "outputs": [
    {
     "data": {
      "text/html": [
       "<div>\n",
       "<style scoped>\n",
       "    .dataframe tbody tr th:only-of-type {\n",
       "        vertical-align: middle;\n",
       "    }\n",
       "\n",
       "    .dataframe tbody tr th {\n",
       "        vertical-align: top;\n",
       "    }\n",
       "\n",
       "    .dataframe thead th {\n",
       "        text-align: right;\n",
       "    }\n",
       "</style>\n",
       "<table border=\"1\" class=\"dataframe\">\n",
       "  <thead>\n",
       "    <tr style=\"text-align: right;\">\n",
       "      <th></th>\n",
       "      <th>book_id</th>\n",
       "      <th>author_id</th>\n",
       "      <th>title</th>\n",
       "      <th>num_pages</th>\n",
       "      <th>publication_date</th>\n",
       "      <th>publisher_id</th>\n",
       "    </tr>\n",
       "  </thead>\n",
       "  <tbody>\n",
       "    <tr>\n",
       "      <th>0</th>\n",
       "      <td>1</td>\n",
       "      <td>546</td>\n",
       "      <td>'Salem's Lot</td>\n",
       "      <td>594</td>\n",
       "      <td>2005-11-01</td>\n",
       "      <td>93</td>\n",
       "    </tr>\n",
       "    <tr>\n",
       "      <th>1</th>\n",
       "      <td>2</td>\n",
       "      <td>465</td>\n",
       "      <td>1 000 Places to See Before You Die</td>\n",
       "      <td>992</td>\n",
       "      <td>2003-05-22</td>\n",
       "      <td>336</td>\n",
       "    </tr>\n",
       "    <tr>\n",
       "      <th>2</th>\n",
       "      <td>3</td>\n",
       "      <td>407</td>\n",
       "      <td>13 Little Blue Envelopes (Little Blue Envelope...</td>\n",
       "      <td>322</td>\n",
       "      <td>2010-12-21</td>\n",
       "      <td>135</td>\n",
       "    </tr>\n",
       "    <tr>\n",
       "      <th>3</th>\n",
       "      <td>4</td>\n",
       "      <td>82</td>\n",
       "      <td>1491: New Revelations of the Americas Before C...</td>\n",
       "      <td>541</td>\n",
       "      <td>2006-10-10</td>\n",
       "      <td>309</td>\n",
       "    </tr>\n",
       "    <tr>\n",
       "      <th>4</th>\n",
       "      <td>5</td>\n",
       "      <td>125</td>\n",
       "      <td>1776</td>\n",
       "      <td>386</td>\n",
       "      <td>2006-07-04</td>\n",
       "      <td>268</td>\n",
       "    </tr>\n",
       "  </tbody>\n",
       "</table>\n",
       "</div>"
      ],
      "text/plain": [
       "   book_id  author_id                                              title  \\\n",
       "0        1        546                                       'Salem's Lot   \n",
       "1        2        465                 1 000 Places to See Before You Die   \n",
       "2        3        407  13 Little Blue Envelopes (Little Blue Envelope...   \n",
       "3        4         82  1491: New Revelations of the Americas Before C...   \n",
       "4        5        125                                               1776   \n",
       "\n",
       "   num_pages publication_date  publisher_id  \n",
       "0        594       2005-11-01            93  \n",
       "1        992       2003-05-22           336  \n",
       "2        322       2010-12-21           135  \n",
       "3        541       2006-10-10           309  \n",
       "4        386       2006-07-04           268  "
      ]
     },
     "execution_count": 3,
     "metadata": {},
     "output_type": "execute_result"
    }
   ],
   "source": [
    "# Формируем sql-запрос вывод первых строк таблицы books.\n",
    "query = ''' SELECT *\n",
    "            FROM books\n",
    "            LIMIT 5\n",
    "        '''\n",
    "#посмотрим результат запроса\n",
    "pd.io.sql.read_sql(query, con = engine) "
   ]
  },
  {
   "cell_type": "code",
   "execution_count": 4,
   "metadata": {},
   "outputs": [
    {
     "data": {
      "text/html": [
       "<div>\n",
       "<style scoped>\n",
       "    .dataframe tbody tr th:only-of-type {\n",
       "        vertical-align: middle;\n",
       "    }\n",
       "\n",
       "    .dataframe tbody tr th {\n",
       "        vertical-align: top;\n",
       "    }\n",
       "\n",
       "    .dataframe thead th {\n",
       "        text-align: right;\n",
       "    }\n",
       "</style>\n",
       "<table border=\"1\" class=\"dataframe\">\n",
       "  <thead>\n",
       "    <tr style=\"text-align: right;\">\n",
       "      <th></th>\n",
       "      <th>author_id</th>\n",
       "      <th>author</th>\n",
       "    </tr>\n",
       "  </thead>\n",
       "  <tbody>\n",
       "    <tr>\n",
       "      <th>0</th>\n",
       "      <td>1</td>\n",
       "      <td>A.S. Byatt</td>\n",
       "    </tr>\n",
       "    <tr>\n",
       "      <th>1</th>\n",
       "      <td>2</td>\n",
       "      <td>Aesop/Laura Harris/Laura Gibbs</td>\n",
       "    </tr>\n",
       "    <tr>\n",
       "      <th>2</th>\n",
       "      <td>3</td>\n",
       "      <td>Agatha Christie</td>\n",
       "    </tr>\n",
       "    <tr>\n",
       "      <th>3</th>\n",
       "      <td>4</td>\n",
       "      <td>Alan Brennert</td>\n",
       "    </tr>\n",
       "    <tr>\n",
       "      <th>4</th>\n",
       "      <td>5</td>\n",
       "      <td>Alan Moore/David   Lloyd</td>\n",
       "    </tr>\n",
       "  </tbody>\n",
       "</table>\n",
       "</div>"
      ],
      "text/plain": [
       "   author_id                          author\n",
       "0          1                      A.S. Byatt\n",
       "1          2  Aesop/Laura Harris/Laura Gibbs\n",
       "2          3                 Agatha Christie\n",
       "3          4                   Alan Brennert\n",
       "4          5        Alan Moore/David   Lloyd"
      ]
     },
     "execution_count": 4,
     "metadata": {},
     "output_type": "execute_result"
    }
   ],
   "source": [
    "# Формируем sql-запрос вывод первых строк таблицы authors.\n",
    "query = ''' SELECT *\n",
    "            FROM authors\n",
    "            LIMIT 5\n",
    "        '''\n",
    "#посмотрим результат запроса\n",
    "pd.io.sql.read_sql(query, con = engine) "
   ]
  },
  {
   "cell_type": "code",
   "execution_count": 5,
   "metadata": {},
   "outputs": [
    {
     "data": {
      "text/html": [
       "<div>\n",
       "<style scoped>\n",
       "    .dataframe tbody tr th:only-of-type {\n",
       "        vertical-align: middle;\n",
       "    }\n",
       "\n",
       "    .dataframe tbody tr th {\n",
       "        vertical-align: top;\n",
       "    }\n",
       "\n",
       "    .dataframe thead th {\n",
       "        text-align: right;\n",
       "    }\n",
       "</style>\n",
       "<table border=\"1\" class=\"dataframe\">\n",
       "  <thead>\n",
       "    <tr style=\"text-align: right;\">\n",
       "      <th></th>\n",
       "      <th>rating_id</th>\n",
       "      <th>book_id</th>\n",
       "      <th>username</th>\n",
       "      <th>rating</th>\n",
       "    </tr>\n",
       "  </thead>\n",
       "  <tbody>\n",
       "    <tr>\n",
       "      <th>0</th>\n",
       "      <td>1</td>\n",
       "      <td>1</td>\n",
       "      <td>ryanfranco</td>\n",
       "      <td>4</td>\n",
       "    </tr>\n",
       "    <tr>\n",
       "      <th>1</th>\n",
       "      <td>2</td>\n",
       "      <td>1</td>\n",
       "      <td>grantpatricia</td>\n",
       "      <td>2</td>\n",
       "    </tr>\n",
       "    <tr>\n",
       "      <th>2</th>\n",
       "      <td>3</td>\n",
       "      <td>1</td>\n",
       "      <td>brandtandrea</td>\n",
       "      <td>5</td>\n",
       "    </tr>\n",
       "    <tr>\n",
       "      <th>3</th>\n",
       "      <td>4</td>\n",
       "      <td>2</td>\n",
       "      <td>lorichen</td>\n",
       "      <td>3</td>\n",
       "    </tr>\n",
       "    <tr>\n",
       "      <th>4</th>\n",
       "      <td>5</td>\n",
       "      <td>2</td>\n",
       "      <td>mariokeller</td>\n",
       "      <td>2</td>\n",
       "    </tr>\n",
       "  </tbody>\n",
       "</table>\n",
       "</div>"
      ],
      "text/plain": [
       "   rating_id  book_id       username  rating\n",
       "0          1        1     ryanfranco       4\n",
       "1          2        1  grantpatricia       2\n",
       "2          3        1   brandtandrea       5\n",
       "3          4        2       lorichen       3\n",
       "4          5        2    mariokeller       2"
      ]
     },
     "execution_count": 5,
     "metadata": {},
     "output_type": "execute_result"
    }
   ],
   "source": [
    "# Формируем sql-запрос вывод первых строк таблицы ratings.\n",
    "query = ''' SELECT *\n",
    "            FROM ratings\n",
    "            LIMIT 5\n",
    "        '''\n",
    "#посмотрим результат запроса\n",
    "pd.io.sql.read_sql(query, con = engine) "
   ]
  },
  {
   "cell_type": "code",
   "execution_count": 40,
   "metadata": {},
   "outputs": [
    {
     "data": {
      "text/html": [
       "<div>\n",
       "<style scoped>\n",
       "    .dataframe tbody tr th:only-of-type {\n",
       "        vertical-align: middle;\n",
       "    }\n",
       "\n",
       "    .dataframe tbody tr th {\n",
       "        vertical-align: top;\n",
       "    }\n",
       "\n",
       "    .dataframe thead th {\n",
       "        text-align: right;\n",
       "    }\n",
       "</style>\n",
       "<table border=\"1\" class=\"dataframe\">\n",
       "  <thead>\n",
       "    <tr style=\"text-align: right;\">\n",
       "      <th></th>\n",
       "      <th>review_id</th>\n",
       "      <th>book_id</th>\n",
       "      <th>username</th>\n",
       "      <th>text</th>\n",
       "    </tr>\n",
       "  </thead>\n",
       "  <tbody>\n",
       "    <tr>\n",
       "      <th>0</th>\n",
       "      <td>1</td>\n",
       "      <td>1</td>\n",
       "      <td>brandtandrea</td>\n",
       "      <td>Mention society tell send professor analysis. ...</td>\n",
       "    </tr>\n",
       "    <tr>\n",
       "      <th>1</th>\n",
       "      <td>2</td>\n",
       "      <td>1</td>\n",
       "      <td>ryanfranco</td>\n",
       "      <td>Foot glass pretty audience hit themselves. Amo...</td>\n",
       "    </tr>\n",
       "    <tr>\n",
       "      <th>2</th>\n",
       "      <td>3</td>\n",
       "      <td>2</td>\n",
       "      <td>lorichen</td>\n",
       "      <td>Listen treat keep worry. Miss husband tax but ...</td>\n",
       "    </tr>\n",
       "    <tr>\n",
       "      <th>3</th>\n",
       "      <td>4</td>\n",
       "      <td>3</td>\n",
       "      <td>johnsonamanda</td>\n",
       "      <td>Finally month interesting blue could nature cu...</td>\n",
       "    </tr>\n",
       "    <tr>\n",
       "      <th>4</th>\n",
       "      <td>5</td>\n",
       "      <td>3</td>\n",
       "      <td>scotttamara</td>\n",
       "      <td>Nation purpose heavy give wait song will. List...</td>\n",
       "    </tr>\n",
       "  </tbody>\n",
       "</table>\n",
       "</div>"
      ],
      "text/plain": [
       "   review_id  book_id       username  \\\n",
       "0          1        1   brandtandrea   \n",
       "1          2        1     ryanfranco   \n",
       "2          3        2       lorichen   \n",
       "3          4        3  johnsonamanda   \n",
       "4          5        3    scotttamara   \n",
       "\n",
       "                                                text  \n",
       "0  Mention society tell send professor analysis. ...  \n",
       "1  Foot glass pretty audience hit themselves. Amo...  \n",
       "2  Listen treat keep worry. Miss husband tax but ...  \n",
       "3  Finally month interesting blue could nature cu...  \n",
       "4  Nation purpose heavy give wait song will. List...  "
      ]
     },
     "execution_count": 40,
     "metadata": {},
     "output_type": "execute_result"
    }
   ],
   "source": [
    "# Формируем sql-запрос вывод первых строк таблицы reviews.\n",
    "query = ''' SELECT *\n",
    "            FROM reviews\n",
    "            LIMIT 5\n",
    "        '''\n",
    "      \n",
    "#посмотрим результат запроса\n",
    "pd.io.sql.read_sql(query, con = engine) "
   ]
  },
  {
   "cell_type": "code",
   "execution_count": 7,
   "metadata": {},
   "outputs": [
    {
     "data": {
      "text/html": [
       "<div>\n",
       "<style scoped>\n",
       "    .dataframe tbody tr th:only-of-type {\n",
       "        vertical-align: middle;\n",
       "    }\n",
       "\n",
       "    .dataframe tbody tr th {\n",
       "        vertical-align: top;\n",
       "    }\n",
       "\n",
       "    .dataframe thead th {\n",
       "        text-align: right;\n",
       "    }\n",
       "</style>\n",
       "<table border=\"1\" class=\"dataframe\">\n",
       "  <thead>\n",
       "    <tr style=\"text-align: right;\">\n",
       "      <th></th>\n",
       "      <th>publisher_id</th>\n",
       "      <th>publisher</th>\n",
       "    </tr>\n",
       "  </thead>\n",
       "  <tbody>\n",
       "    <tr>\n",
       "      <th>0</th>\n",
       "      <td>1</td>\n",
       "      <td>Ace</td>\n",
       "    </tr>\n",
       "    <tr>\n",
       "      <th>1</th>\n",
       "      <td>2</td>\n",
       "      <td>Ace Book</td>\n",
       "    </tr>\n",
       "    <tr>\n",
       "      <th>2</th>\n",
       "      <td>3</td>\n",
       "      <td>Ace Books</td>\n",
       "    </tr>\n",
       "    <tr>\n",
       "      <th>3</th>\n",
       "      <td>4</td>\n",
       "      <td>Ace Hardcover</td>\n",
       "    </tr>\n",
       "    <tr>\n",
       "      <th>4</th>\n",
       "      <td>5</td>\n",
       "      <td>Addison Wesley Publishing Company</td>\n",
       "    </tr>\n",
       "  </tbody>\n",
       "</table>\n",
       "</div>"
      ],
      "text/plain": [
       "   publisher_id                          publisher\n",
       "0             1                                Ace\n",
       "1             2                           Ace Book\n",
       "2             3                          Ace Books\n",
       "3             4                      Ace Hardcover\n",
       "4             5  Addison Wesley Publishing Company"
      ]
     },
     "execution_count": 7,
     "metadata": {},
     "output_type": "execute_result"
    }
   ],
   "source": [
    "# Формируем sql-запрос вывод первых строк таблицы publishers.\n",
    "query = ''' SELECT *\n",
    "            FROM publishers\n",
    "            LIMIT 5\n",
    "        '''\n",
    "#посмотрим результат запроса\n",
    "pd.io.sql.read_sql(query, con = engine) "
   ]
  },
  {
   "cell_type": "markdown",
   "metadata": {},
   "source": [
    "Данные по всем указанным в задании таблицам получены, выведены для ознакомления. "
   ]
  },
  {
   "cell_type": "markdown",
   "metadata": {},
   "source": [
    "## Решение заданий"
   ]
  },
  {
   "cell_type": "markdown",
   "metadata": {},
   "source": [
    "### Определить количество книг, вышедших после 1 января 2000 года"
   ]
  },
  {
   "cell_type": "code",
   "execution_count": 8,
   "metadata": {},
   "outputs": [
    {
     "data": {
      "text/html": [
       "<div>\n",
       "<style scoped>\n",
       "    .dataframe tbody tr th:only-of-type {\n",
       "        vertical-align: middle;\n",
       "    }\n",
       "\n",
       "    .dataframe tbody tr th {\n",
       "        vertical-align: top;\n",
       "    }\n",
       "\n",
       "    .dataframe thead th {\n",
       "        text-align: right;\n",
       "    }\n",
       "</style>\n",
       "<table border=\"1\" class=\"dataframe\">\n",
       "  <thead>\n",
       "    <tr style=\"text-align: right;\">\n",
       "      <th></th>\n",
       "      <th>count</th>\n",
       "    </tr>\n",
       "  </thead>\n",
       "  <tbody>\n",
       "    <tr>\n",
       "      <th>0</th>\n",
       "      <td>819</td>\n",
       "    </tr>\n",
       "  </tbody>\n",
       "</table>\n",
       "</div>"
      ],
      "text/plain": [
       "   count\n",
       "0    819"
      ]
     },
     "execution_count": 8,
     "metadata": {},
     "output_type": "execute_result"
    }
   ],
   "source": [
    "# Формируем sql-запрос для решения задачи по таблицам ratings, reviews.\n",
    "query = ''' SELECT COUNT (title)                                           -- названия книг по условию даты публикации \n",
    "            FROM books\n",
    "            WHERE DATE_TRUNC('day', publication_date)::date > '2000-01-01' -- берем дату после 01.01.2000\n",
    "        '''\n",
    "#посмотрим результат запроса\n",
    "pd.io.sql.read_sql(query, con = engine) "
   ]
  },
  {
   "cell_type": "markdown",
   "metadata": {},
   "source": [
    "После первого января 2000 года вышло 819 книг."
   ]
  },
  {
   "cell_type": "markdown",
   "metadata": {},
   "source": [
    "### Определить количество обзоров и среднюю оценку по каждой книге"
   ]
  },
  {
   "cell_type": "code",
   "execution_count": 41,
   "metadata": {},
   "outputs": [
    {
     "data": {
      "text/html": [
       "<div>\n",
       "<style scoped>\n",
       "    .dataframe tbody tr th:only-of-type {\n",
       "        vertical-align: middle;\n",
       "    }\n",
       "\n",
       "    .dataframe tbody tr th {\n",
       "        vertical-align: top;\n",
       "    }\n",
       "\n",
       "    .dataframe thead th {\n",
       "        text-align: right;\n",
       "    }\n",
       "</style>\n",
       "<table border=\"1\" class=\"dataframe\">\n",
       "  <thead>\n",
       "    <tr style=\"text-align: right;\">\n",
       "      <th></th>\n",
       "      <th>review_cnt</th>\n",
       "    </tr>\n",
       "  </thead>\n",
       "  <tbody>\n",
       "    <tr>\n",
       "      <th>0</th>\n",
       "      <td>2793</td>\n",
       "    </tr>\n",
       "  </tbody>\n",
       "</table>\n",
       "</div>"
      ],
      "text/plain": [
       "   review_cnt\n",
       "0        2793"
      ]
     },
     "execution_count": 41,
     "metadata": {},
     "output_type": "execute_result"
    }
   ],
   "source": [
    "#Посчитаем количество ревью в базе данных\n",
    "query = '''SELECT COUNT (review_id) AS review_CNT      \n",
    "           FROM reviews\n",
    "        '''\n",
    "#посмотрим результат запроса\n",
    "pd.io.sql.read_sql(query, con = engine)  "
   ]
  },
  {
   "cell_type": "code",
   "execution_count": 58,
   "metadata": {},
   "outputs": [
    {
     "data": {
      "text/html": [
       "<div>\n",
       "<style scoped>\n",
       "    .dataframe tbody tr th:only-of-type {\n",
       "        vertical-align: middle;\n",
       "    }\n",
       "\n",
       "    .dataframe tbody tr th {\n",
       "        vertical-align: top;\n",
       "    }\n",
       "\n",
       "    .dataframe thead th {\n",
       "        text-align: right;\n",
       "    }\n",
       "</style>\n",
       "<table border=\"1\" class=\"dataframe\">\n",
       "  <thead>\n",
       "    <tr style=\"text-align: right;\">\n",
       "      <th></th>\n",
       "      <th>avg_rating</th>\n",
       "    </tr>\n",
       "  </thead>\n",
       "  <tbody>\n",
       "    <tr>\n",
       "      <th>0</th>\n",
       "      <td>3.6625</td>\n",
       "    </tr>\n",
       "  </tbody>\n",
       "</table>\n",
       "</div>"
      ],
      "text/plain": [
       "   avg_rating\n",
       "0      3.6625"
      ]
     },
     "execution_count": 58,
     "metadata": {},
     "output_type": "execute_result"
    }
   ],
   "source": [
    "#Проверка среднего рейтинга книги Twilight (Twilight #1)\n",
    "query = ''' SELECT AVG (rating) AS AVG_rating      --Twilight (Twilight #1)\n",
    "            FROM ratings\n",
    "            WHERE book_id=948\n",
    "        '''\n",
    "#посмотрим результат запроса\n",
    "pd.io.sql.read_sql(query, con = engine) \n"
   ]
  },
  {
   "cell_type": "code",
   "execution_count": 60,
   "metadata": {},
   "outputs": [
    {
     "data": {
      "text/html": [
       "<div>\n",
       "<style scoped>\n",
       "    .dataframe tbody tr th:only-of-type {\n",
       "        vertical-align: middle;\n",
       "    }\n",
       "\n",
       "    .dataframe tbody tr th {\n",
       "        vertical-align: top;\n",
       "    }\n",
       "\n",
       "    .dataframe thead th {\n",
       "        text-align: right;\n",
       "    }\n",
       "</style>\n",
       "<table border=\"1\" class=\"dataframe\">\n",
       "  <thead>\n",
       "    <tr style=\"text-align: right;\">\n",
       "      <th></th>\n",
       "      <th>book_id</th>\n",
       "      <th>title</th>\n",
       "      <th>review_cnt</th>\n",
       "      <th>avg_rating</th>\n",
       "    </tr>\n",
       "  </thead>\n",
       "  <tbody>\n",
       "    <tr>\n",
       "      <th>0</th>\n",
       "      <td>948</td>\n",
       "      <td>Twilight (Twilight  #1)</td>\n",
       "      <td>7</td>\n",
       "      <td>3.66</td>\n",
       "    </tr>\n",
       "    <tr>\n",
       "      <th>1</th>\n",
       "      <td>963</td>\n",
       "      <td>Water for Elephants</td>\n",
       "      <td>6</td>\n",
       "      <td>3.98</td>\n",
       "    </tr>\n",
       "    <tr>\n",
       "      <th>2</th>\n",
       "      <td>734</td>\n",
       "      <td>The Glass Castle</td>\n",
       "      <td>6</td>\n",
       "      <td>4.21</td>\n",
       "    </tr>\n",
       "    <tr>\n",
       "      <th>3</th>\n",
       "      <td>302</td>\n",
       "      <td>Harry Potter and the Prisoner of Azkaban (Harr...</td>\n",
       "      <td>6</td>\n",
       "      <td>4.41</td>\n",
       "    </tr>\n",
       "    <tr>\n",
       "      <th>4</th>\n",
       "      <td>695</td>\n",
       "      <td>The Curious Incident of the Dog in the Night-Time</td>\n",
       "      <td>6</td>\n",
       "      <td>4.08</td>\n",
       "    </tr>\n",
       "    <tr>\n",
       "      <th>...</th>\n",
       "      <td>...</td>\n",
       "      <td>...</td>\n",
       "      <td>...</td>\n",
       "      <td>...</td>\n",
       "    </tr>\n",
       "    <tr>\n",
       "      <th>995</th>\n",
       "      <td>83</td>\n",
       "      <td>Anne Rice's The Vampire Lestat: A Graphic Novel</td>\n",
       "      <td>0</td>\n",
       "      <td>3.67</td>\n",
       "    </tr>\n",
       "    <tr>\n",
       "      <th>996</th>\n",
       "      <td>808</td>\n",
       "      <td>The Natural Way to Draw</td>\n",
       "      <td>0</td>\n",
       "      <td>3.00</td>\n",
       "    </tr>\n",
       "    <tr>\n",
       "      <th>997</th>\n",
       "      <td>672</td>\n",
       "      <td>The Cat in the Hat and Other Dr. Seuss Favorites</td>\n",
       "      <td>0</td>\n",
       "      <td>5.00</td>\n",
       "    </tr>\n",
       "    <tr>\n",
       "      <th>998</th>\n",
       "      <td>221</td>\n",
       "      <td>Essential Tales and Poems</td>\n",
       "      <td>0</td>\n",
       "      <td>4.00</td>\n",
       "    </tr>\n",
       "    <tr>\n",
       "      <th>999</th>\n",
       "      <td>191</td>\n",
       "      <td>Disney's Beauty and the Beast (A Little Golden...</td>\n",
       "      <td>0</td>\n",
       "      <td>4.00</td>\n",
       "    </tr>\n",
       "  </tbody>\n",
       "</table>\n",
       "<p>1000 rows × 4 columns</p>\n",
       "</div>"
      ],
      "text/plain": [
       "     book_id                                              title  review_cnt  \\\n",
       "0        948                            Twilight (Twilight  #1)           7   \n",
       "1        963                                Water for Elephants           6   \n",
       "2        734                                   The Glass Castle           6   \n",
       "3        302  Harry Potter and the Prisoner of Azkaban (Harr...           6   \n",
       "4        695  The Curious Incident of the Dog in the Night-Time           6   \n",
       "..       ...                                                ...         ...   \n",
       "995       83    Anne Rice's The Vampire Lestat: A Graphic Novel           0   \n",
       "996      808                            The Natural Way to Draw           0   \n",
       "997      672   The Cat in the Hat and Other Dr. Seuss Favorites           0   \n",
       "998      221                          Essential Tales and Poems           0   \n",
       "999      191  Disney's Beauty and the Beast (A Little Golden...           0   \n",
       "\n",
       "     avg_rating  \n",
       "0          3.66  \n",
       "1          3.98  \n",
       "2          4.21  \n",
       "3          4.41  \n",
       "4          4.08  \n",
       "..          ...  \n",
       "995        3.67  \n",
       "996        3.00  \n",
       "997        5.00  \n",
       "998        4.00  \n",
       "999        4.00  \n",
       "\n",
       "[1000 rows x 4 columns]"
      ]
     },
     "execution_count": 60,
     "metadata": {},
     "output_type": "execute_result"
    }
   ],
   "source": [
    "#Формируем sql-запрос для решения задачи по таблицам books, reviews, ratings.\n",
    "query = '''\n",
    "    SELECT b.book_id, b.title, \n",
    "           COUNT (DISTINCT rv.review_id) AS review_cnt, \n",
    "           ROUND(AVG (rt.rating), 2) AS avg_rating              -- в сгруппированном списке выводим данные\n",
    "    FROM books as b\n",
    "    LEFT JOIN reviews AS rv ON b.book_id = rv.book_id\n",
    "    LEFT JOIN ratings AS rt ON b.book_id = rt.book_id            -- обьединили в 1 таблицу все данные\n",
    "    GROUP BY b.book_id                                          -- группируем по индексу книги  \n",
    "    ORDER BY review_cnt DESC                -- сортируем группировку по индексу книги по количеству обзоров\n",
    "    '''\n",
    "#посмотрим результат запроса\n",
    "pd.io.sql.read_sql(query, con = engine) "
   ]
  },
  {
   "cell_type": "code",
   "execution_count": 61,
   "metadata": {
    "scrolled": false
   },
   "outputs": [
    {
     "data": {
      "text/html": [
       "<div>\n",
       "<style scoped>\n",
       "    .dataframe tbody tr th:only-of-type {\n",
       "        vertical-align: middle;\n",
       "    }\n",
       "\n",
       "    .dataframe tbody tr th {\n",
       "        vertical-align: top;\n",
       "    }\n",
       "\n",
       "    .dataframe thead th {\n",
       "        text-align: right;\n",
       "    }\n",
       "</style>\n",
       "<table border=\"1\" class=\"dataframe\">\n",
       "  <thead>\n",
       "    <tr style=\"text-align: right;\">\n",
       "      <th></th>\n",
       "      <th>sum</th>\n",
       "    </tr>\n",
       "  </thead>\n",
       "  <tbody>\n",
       "    <tr>\n",
       "      <th>0</th>\n",
       "      <td>2793.0</td>\n",
       "    </tr>\n",
       "  </tbody>\n",
       "</table>\n",
       "</div>"
      ],
      "text/plain": [
       "      sum\n",
       "0  2793.0"
      ]
     },
     "execution_count": 61,
     "metadata": {},
     "output_type": "execute_result"
    }
   ],
   "source": [
    "# Проверка по полю количество review после решения задачи.\n",
    "query = '''\n",
    "WITH TOTAL AS (\n",
    "    SELECT b.book_id, b.title, \n",
    "           COUNT (DISTINCT rv.review_id) AS review_cnt, \n",
    "           ROUND(AVG (rt.rating), 2) AS avg_rating              -- в сгруппированном списке выводим данные\n",
    "    FROM books as b\n",
    "    LEFT JOIN reviews AS rv ON b.book_id = rv.book_id\n",
    "    LEFT JOIN ratings AS rt ON b.book_id = rt.book_id            -- обьединили в 1 таблицу все данные\n",
    "    GROUP BY b.book_id                                          -- группируем по индексу книги  \n",
    "    ORDER BY review_cnt DESC)              -- сортируем группировку по индексу книги по количеству обзоров\n",
    "    \n",
    "    SELECT SUM (review_CNT)\n",
    "    FROM TOTAL\n",
    "    '''\n",
    "#посмотрим результат запроса\n",
    "pd.io.sql.read_sql(query, con = engine) "
   ]
  },
  {
   "cell_type": "markdown",
   "metadata": {},
   "source": [
    "Получили сведения о количестве обзоров каждой книги и ее среднем рейтинге.\n",
    "Всего 1000 книг с оценками и обзорами. Наибольшее количество обзоров у книги с названием Twilight (Twilight #1)\tи средним рейтингом 3,66."
   ]
  },
  {
   "cell_type": "code",
   "execution_count": null,
   "metadata": {},
   "outputs": [],
   "source": [
    "# Формируем sql-запрос для решения задачи по таблицам books, reviews, ratings.\n",
    "query = '''\n",
    "    SELECT b.title, \n",
    "           COUNT (rv.review_id) AS review_cnt, \n",
    "           ROUND(AVG (rt.rating), 2) AS avg_rating               -- в сгруппированном списке выводим данные\n",
    "    FROM books as b\n",
    "    LEFT JOIN reviews AS rv ON b.book_id = rv.book_id\n",
    "    LEFT JOIN ratings AS rt ON b.book_id = rt.book_id            -- обьединили в 1 таблицу все данные\n",
    "    GROUP BY b.book_id                                          -- группируем по индексу книги  \n",
    "    ORDER BY review_cnt DESC                                    -- сортируем группировку по индексу книги по количеству обзоров\n",
    "    '''\n",
    "#посмотрим результат запроса\n",
    "pd.io.sql.read_sql(query, con = engine) "
   ]
  },
  {
   "cell_type": "markdown",
   "metadata": {},
   "source": [
    "### Определить издательство, которое выпустило наибольшее число книг толще 50 страниц"
   ]
  },
  {
   "cell_type": "code",
   "execution_count": 10,
   "metadata": {
    "scrolled": false
   },
   "outputs": [
    {
     "data": {
      "text/html": [
       "<div>\n",
       "<style scoped>\n",
       "    .dataframe tbody tr th:only-of-type {\n",
       "        vertical-align: middle;\n",
       "    }\n",
       "\n",
       "    .dataframe tbody tr th {\n",
       "        vertical-align: top;\n",
       "    }\n",
       "\n",
       "    .dataframe thead th {\n",
       "        text-align: right;\n",
       "    }\n",
       "</style>\n",
       "<table border=\"1\" class=\"dataframe\">\n",
       "  <thead>\n",
       "    <tr style=\"text-align: right;\">\n",
       "      <th></th>\n",
       "      <th>publisher_id</th>\n",
       "      <th>publisher</th>\n",
       "      <th>book_count</th>\n",
       "    </tr>\n",
       "  </thead>\n",
       "  <tbody>\n",
       "    <tr>\n",
       "      <th>0</th>\n",
       "      <td>212</td>\n",
       "      <td>Penguin Books</td>\n",
       "      <td>42</td>\n",
       "    </tr>\n",
       "  </tbody>\n",
       "</table>\n",
       "</div>"
      ],
      "text/plain": [
       "   publisher_id      publisher  book_count\n",
       "0           212  Penguin Books          42"
      ]
     },
     "execution_count": 10,
     "metadata": {},
     "output_type": "execute_result"
    }
   ],
   "source": [
    "# Формируем sql-запрос для решения задачи по таблице books, publishers.\n",
    "query = '''\n",
    "    SELECT b.publisher_id, \n",
    "           p.publisher, \n",
    "           COUNT (b.book_id) AS book_count                          -- в сгруппированном списке выводим данные\n",
    "    FROM books AS b\n",
    "    LEFT JOIN publishers AS p ON p.publisher_id = b.publisher_id\n",
    "    WHERE b.num_pages > 50                                          --сначала выберем книги толще 50 страниц\n",
    "    GROUP BY b.publisher_id, p.publisher                      -- группируем по издательствам, которые такие книги выпустило\n",
    "    ORDER BY book_count DESC                              -- сортируем группировку по количеству выбранных книг по убыванию\n",
    "    LIMIT 1\n",
    "        '''\n",
    "#посмотрим результат запроса\n",
    "pd.io.sql.read_sql(query, con = engine) "
   ]
  },
  {
   "cell_type": "markdown",
   "metadata": {},
   "source": [
    "Наибольшее число книг толще 50 страниц выпустило издание Penguin Books - 42 таких книги."
   ]
  },
  {
   "cell_type": "markdown",
   "metadata": {},
   "source": [
    "### Определить автора с самой высокой средней оценкой книг — учитывать только книги с 50 и более оценками"
   ]
  },
  {
   "cell_type": "code",
   "execution_count": 11,
   "metadata": {},
   "outputs": [
    {
     "data": {
      "text/html": [
       "<div>\n",
       "<style scoped>\n",
       "    .dataframe tbody tr th:only-of-type {\n",
       "        vertical-align: middle;\n",
       "    }\n",
       "\n",
       "    .dataframe tbody tr th {\n",
       "        vertical-align: top;\n",
       "    }\n",
       "\n",
       "    .dataframe thead th {\n",
       "        text-align: right;\n",
       "    }\n",
       "</style>\n",
       "<table border=\"1\" class=\"dataframe\">\n",
       "  <thead>\n",
       "    <tr style=\"text-align: right;\">\n",
       "      <th></th>\n",
       "      <th>author_id</th>\n",
       "      <th>author</th>\n",
       "      <th>avg_rating</th>\n",
       "      <th>rating_cnt</th>\n",
       "      <th>book_cnt</th>\n",
       "    </tr>\n",
       "  </thead>\n",
       "  <tbody>\n",
       "    <tr>\n",
       "      <th>0</th>\n",
       "      <td>236</td>\n",
       "      <td>J.K. Rowling/Mary GrandPré</td>\n",
       "      <td>4.29</td>\n",
       "      <td>310.0</td>\n",
       "      <td>4</td>\n",
       "    </tr>\n",
       "  </tbody>\n",
       "</table>\n",
       "</div>"
      ],
      "text/plain": [
       "   author_id                      author  avg_rating  rating_cnt  book_cnt\n",
       "0        236  J.K. Rowling/Mary GrandPré        4.29       310.0         4"
      ]
     },
     "execution_count": 11,
     "metadata": {},
     "output_type": "execute_result"
    }
   ],
   "source": [
    "# Формируем sql-запрос для решения задачи по таблице authors, ratings.\n",
    "query = '''\n",
    "    WITH Books_50 AS (\n",
    "        SELECT book_id, \n",
    "               ROUND (AVG (rating), 2) AS rating, \n",
    "               COUNT (rating) AS rating_CNT\n",
    "        FROM ratings \n",
    "        GROUP BY book_id\n",
    "        HAVING COUNT (rating) > 50\n",
    "    )                                                       -- записываем список книг с 50 и более оценками в таблицу Books_50\n",
    "    \n",
    "    SELECT a.author_id,                                     -- в сгруппированном списке выводим данные\n",
    "           a.author,\n",
    "           ROUND (AVG (rt.rating), 2) AS avg_rating, \n",
    "           SUM (rt.rating_CNT) AS rating_CNT,\n",
    "           COUNT (rt.book_id) AS book_CNT\n",
    "    FROM books AS b\n",
    "    LEFT JOIN authors AS a ON a.author_id = b.author_id\n",
    "    JOIN Books_50 AS rt ON rt.book_id = b.book_id         -- обьединили в 1 таблицу все данные для книг с 50 и более оценками\n",
    "    GROUP BY a.author_id                                  -- группируем по авторам, которые такие книги выпустили\n",
    "    ORDER BY avg_rating DESC                              -- сортируем группировку по сред.рейтингу авторов по убыванию\n",
    "    LIMIT 1\n",
    "    '''\n",
    "#посмотрим результат запроса\n",
    "pd.io.sql.read_sql(query, con = engine) "
   ]
  },
  {
   "cell_type": "markdown",
   "metadata": {},
   "source": [
    "Имя автора с самой высокой средней оценкой книг, если учитывать только книги с 50 и более оценками, - это J.K. Rowling/Mary GrandPré, имеющий среднюю оценку по книгам 4.29, и общее количество оценок по 4 книгам - 310."
   ]
  },
  {
   "cell_type": "markdown",
   "metadata": {},
   "source": [
    "### Определить среднее количество обзоров от пользователей, которые поставили больше 50 оценок."
   ]
  },
  {
   "cell_type": "code",
   "execution_count": 12,
   "metadata": {},
   "outputs": [
    {
     "data": {
      "text/html": [
       "<div>\n",
       "<style scoped>\n",
       "    .dataframe tbody tr th:only-of-type {\n",
       "        vertical-align: middle;\n",
       "    }\n",
       "\n",
       "    .dataframe tbody tr th {\n",
       "        vertical-align: top;\n",
       "    }\n",
       "\n",
       "    .dataframe thead th {\n",
       "        text-align: right;\n",
       "    }\n",
       "</style>\n",
       "<table border=\"1\" class=\"dataframe\">\n",
       "  <thead>\n",
       "    <tr style=\"text-align: right;\">\n",
       "      <th></th>\n",
       "      <th>avg_review_cnt</th>\n",
       "    </tr>\n",
       "  </thead>\n",
       "  <tbody>\n",
       "    <tr>\n",
       "      <th>0</th>\n",
       "      <td>24.0</td>\n",
       "    </tr>\n",
       "  </tbody>\n",
       "</table>\n",
       "</div>"
      ],
      "text/plain": [
       "   avg_review_cnt\n",
       "0            24.0"
      ]
     },
     "execution_count": 12,
     "metadata": {},
     "output_type": "execute_result"
    }
   ],
   "source": [
    "# Формируем sql-запрос для решения задачи по таблицам reviews, ratings.\n",
    "query = '''\n",
    "    WITH Users_50 AS (\n",
    "            SELECT username, COUNT (review_id) AS review_CNT     -- в сгруппированном списке выводим данные о количестве \n",
    "            FROM reviews                                         -- обзоров у пользователей \n",
    "            WHERE username IN (\n",
    "                    SELECT username                             -- отбираем пользователейс с более 50 оценок\n",
    "                    FROM ratings\n",
    "                    GROUP BY username\n",
    "                    HAVING COUNT (rating_id) > 50\n",
    "                   ) \n",
    "            GROUP BY username                                   -- группируем по пользователям для вывода списка\n",
    "     )\n",
    "     \n",
    "     SELECT ROUND (AVG (review_CNT), 0) AS AVG_review_CNT    -- среднее количество обзоров среди отобранных пользователей\n",
    "     FROM Users_50                                           -- с округлением до целого.\n",
    "        '''\n",
    "\n",
    "#посмотрим результат запроса\n",
    "pd.io.sql.read_sql(query, con = engine)              "
   ]
  },
  {
   "cell_type": "markdown",
   "metadata": {},
   "source": [
    "Среднее количество обзоров среди пользователей, которые поставили более 50 оценок, с округлением до целого, составляет 24 обзора."
   ]
  },
  {
   "cell_type": "markdown",
   "metadata": {},
   "source": [
    "## Выводы по каждой из решённых задач"
   ]
  },
  {
   "cell_type": "markdown",
   "metadata": {},
   "source": [
    "1. Данные по всем указанным в задании таблицам получены, выведены для ознакомления.  <br>\n",
    "<p>\n",
    "2. Составлены SQL-запросы по задачам и получены следующие данные:  <br>\n",
    "<p>\n",
    "    2.1  Задача: Определить количество книг, вышедших после 1 января 2000 года.<br>   \n",
    "     Данные: После первого января 2000 года вышло 819 книг.  <p>\n",
    "    2.2  Задача: Определить количество обзоров и среднюю оценку по каждой книге.  <br>\n",
    "     Данные: Получили сведения о количестве обзоров каждой книги и ее среднем рейтинге.\n",
    "Всего 1000 книг с оценками и обзорами. Наибольшее количество обзоров у книги с названием Twilight (Twilight #1)\tи средним рейтингом 3,66.  <p>\n",
    "    2.3  Задача: Определить издательство, которое выпустило наибольшее число книг толще 50 страниц. <br> \n",
    "     Данные: Наибольшее число книг толще 50 страниц выпустило издание Penguin Books - 42 таких книги. <p> \n",
    "    2.4  Задача: Определить автора с самой высокой средней оценкой книг — учитывать только книги с 50 и более оценками.  <br>\n",
    "     Данные: Имя автора с самой высокой средней оценкой книг, если учитывать только книги с 50 и более оценками, - это J.K. Rowling/Mary GrandPré, имеющий среднюю оценку по книгам 4.29, и общее количество оценок по 4 книгам - 310.  <p>\n",
    "    2.5  Задача: Определить среднее количество обзоров от пользователей, которые поставили больше 50 оценок.<br>      Данные: Среднее количество обзоров среди пользователей, которые поставили более 50 оценок, с округлением до целого, составляет 24 обзора.<p>"
   ]
  }
 ],
 "metadata": {
  "ExecuteTimeLog": [
   {
    "duration": 56,
    "start_time": "2023-04-18T09:44:05.337Z"
   },
   {
    "duration": 10,
    "start_time": "2023-04-18T09:51:02.059Z"
   },
   {
    "duration": 7,
    "start_time": "2023-04-18T09:51:19.221Z"
   },
   {
    "duration": 8,
    "start_time": "2023-04-18T09:53:56.538Z"
   },
   {
    "duration": 16,
    "start_time": "2023-04-18T09:54:57.373Z"
   },
   {
    "duration": 71,
    "start_time": "2023-04-18T09:56:31.483Z"
   },
   {
    "duration": 10,
    "start_time": "2023-04-18T09:58:13.726Z"
   },
   {
    "duration": 9,
    "start_time": "2023-04-18T09:58:49.313Z"
   },
   {
    "duration": 10,
    "start_time": "2023-04-18T09:58:53.566Z"
   },
   {
    "duration": 10,
    "start_time": "2023-04-18T09:58:57.021Z"
   },
   {
    "duration": 51,
    "start_time": "2023-04-18T09:58:59.478Z"
   },
   {
    "duration": 8,
    "start_time": "2023-04-18T09:59:12.510Z"
   },
   {
    "duration": 9,
    "start_time": "2023-04-18T09:59:17.310Z"
   },
   {
    "duration": 46,
    "start_time": "2023-04-18T09:59:21.133Z"
   },
   {
    "duration": 53,
    "start_time": "2023-04-18T09:59:24.025Z"
   },
   {
    "duration": 9,
    "start_time": "2023-04-18T09:59:25.514Z"
   },
   {
    "duration": 7,
    "start_time": "2023-04-18T10:02:08.125Z"
   },
   {
    "duration": 12,
    "start_time": "2023-04-18T10:02:16.156Z"
   },
   {
    "duration": 7,
    "start_time": "2023-04-18T10:03:21.225Z"
   },
   {
    "duration": 7,
    "start_time": "2023-04-18T10:03:30.425Z"
   },
   {
    "duration": 28,
    "start_time": "2023-04-18T10:04:02.958Z"
   },
   {
    "duration": 9,
    "start_time": "2023-04-18T10:04:15.129Z"
   },
   {
    "duration": 539,
    "start_time": "2023-04-18T10:29:17.025Z"
   },
   {
    "duration": 5856,
    "start_time": "2023-04-18T10:29:17.644Z"
   },
   {
    "duration": 148,
    "start_time": "2023-04-18T10:36:43.688Z"
   },
   {
    "duration": 40,
    "start_time": "2023-04-18T10:37:26.160Z"
   },
   {
    "duration": 13,
    "start_time": "2023-04-18T10:37:45.830Z"
   },
   {
    "duration": 11,
    "start_time": "2023-04-18T10:43:54.714Z"
   },
   {
    "duration": 15,
    "start_time": "2023-04-18T10:44:26.818Z"
   },
   {
    "duration": 16,
    "start_time": "2023-04-18T10:44:44.937Z"
   },
   {
    "duration": 31,
    "start_time": "2023-04-18T10:45:11.956Z"
   },
   {
    "duration": 14,
    "start_time": "2023-04-18T10:49:05.130Z"
   },
   {
    "duration": 106,
    "start_time": "2023-04-18T10:50:21.011Z"
   },
   {
    "duration": 86,
    "start_time": "2023-04-18T10:53:21.219Z"
   },
   {
    "duration": 104,
    "start_time": "2023-04-18T10:54:08.425Z"
   },
   {
    "duration": 100,
    "start_time": "2023-04-18T10:55:06.752Z"
   },
   {
    "duration": 98,
    "start_time": "2023-04-18T10:55:17.216Z"
   },
   {
    "duration": 3,
    "start_time": "2023-04-18T10:56:34.494Z"
   },
   {
    "duration": 66,
    "start_time": "2023-04-18T10:56:38.947Z"
   },
   {
    "duration": 90,
    "start_time": "2023-04-18T10:56:56.217Z"
   },
   {
    "duration": 17,
    "start_time": "2023-04-18T10:58:31.280Z"
   },
   {
    "duration": 13,
    "start_time": "2023-04-18T10:58:41.615Z"
   },
   {
    "duration": 13,
    "start_time": "2023-04-18T10:59:17.959Z"
   },
   {
    "duration": 14,
    "start_time": "2023-04-18T10:59:32.491Z"
   },
   {
    "duration": 11,
    "start_time": "2023-04-18T11:00:14.010Z"
   },
   {
    "duration": 12,
    "start_time": "2023-04-18T11:00:22.122Z"
   },
   {
    "duration": 112,
    "start_time": "2023-04-18T15:37:30.312Z"
   },
   {
    "duration": 142,
    "start_time": "2023-04-18T15:37:33.282Z"
   },
   {
    "duration": 105,
    "start_time": "2023-04-18T15:37:59.519Z"
   },
   {
    "duration": 112,
    "start_time": "2023-04-18T15:39:21.141Z"
   },
   {
    "duration": 372,
    "start_time": "2023-04-18T15:40:03.129Z"
   },
   {
    "duration": 21,
    "start_time": "2023-04-18T15:40:21.609Z"
   },
   {
    "duration": 18,
    "start_time": "2023-04-18T15:41:19.043Z"
   },
   {
    "duration": 57,
    "start_time": "2023-04-18T15:42:05.984Z"
   },
   {
    "duration": 52,
    "start_time": "2023-04-18T15:42:21.383Z"
   },
   {
    "duration": 104,
    "start_time": "2023-04-18T15:42:53.501Z"
   },
   {
    "duration": 21,
    "start_time": "2023-04-18T15:42:58.214Z"
   },
   {
    "duration": 112,
    "start_time": "2023-04-18T15:43:18.040Z"
   },
   {
    "duration": 43,
    "start_time": "2023-04-18T15:43:35.090Z"
   },
   {
    "duration": 56,
    "start_time": "2023-04-18T15:43:47.784Z"
   },
   {
    "duration": 119,
    "start_time": "2023-04-18T15:44:23.219Z"
   },
   {
    "duration": 156,
    "start_time": "2023-04-18T15:44:43.183Z"
   },
   {
    "duration": 150,
    "start_time": "2023-04-18T15:45:12.982Z"
   },
   {
    "duration": 102,
    "start_time": "2023-04-18T15:46:34.232Z"
   },
   {
    "duration": 31,
    "start_time": "2023-04-18T15:47:01.031Z"
   },
   {
    "duration": 53,
    "start_time": "2023-04-18T15:47:47.482Z"
   },
   {
    "duration": 37,
    "start_time": "2023-04-18T15:48:09.345Z"
   },
   {
    "duration": 27,
    "start_time": "2023-04-18T15:52:41.510Z"
   },
   {
    "duration": 40,
    "start_time": "2023-04-18T15:52:52.648Z"
   },
   {
    "duration": 36,
    "start_time": "2023-04-18T15:53:35.405Z"
   },
   {
    "duration": 11,
    "start_time": "2023-04-18T15:54:42.230Z"
   },
   {
    "duration": 14,
    "start_time": "2023-04-18T15:55:15.513Z"
   },
   {
    "duration": 18,
    "start_time": "2023-04-18T15:55:52.748Z"
   },
   {
    "duration": 26,
    "start_time": "2023-04-18T15:56:29.821Z"
   },
   {
    "duration": 49,
    "start_time": "2023-04-18T15:56:44.487Z"
   },
   {
    "duration": 12,
    "start_time": "2023-04-18T15:57:55.115Z"
   },
   {
    "duration": 96,
    "start_time": "2023-04-18T16:19:05.121Z"
   },
   {
    "duration": 17,
    "start_time": "2023-04-18T16:19:29.377Z"
   },
   {
    "duration": 16,
    "start_time": "2023-04-18T16:19:54.676Z"
   },
   {
    "duration": 102,
    "start_time": "2023-04-18T16:31:01.425Z"
   },
   {
    "duration": 97,
    "start_time": "2023-04-18T16:32:22.837Z"
   },
   {
    "duration": 117,
    "start_time": "2023-04-18T16:33:09.140Z"
   },
   {
    "duration": 17,
    "start_time": "2023-04-18T16:37:17.231Z"
   },
   {
    "duration": 14,
    "start_time": "2023-04-18T16:37:34.414Z"
   },
   {
    "duration": 14,
    "start_time": "2023-04-18T16:37:52.321Z"
   },
   {
    "duration": 21,
    "start_time": "2023-04-18T16:39:12.855Z"
   },
   {
    "duration": 8,
    "start_time": "2023-04-18T16:40:27.041Z"
   },
   {
    "duration": 14,
    "start_time": "2023-04-18T16:40:32.227Z"
   },
   {
    "duration": 152,
    "start_time": "2023-04-18T16:41:00.955Z"
   },
   {
    "duration": 98,
    "start_time": "2023-04-18T16:45:59.916Z"
   },
   {
    "duration": 76,
    "start_time": "2023-04-18T16:46:25.204Z"
   },
   {
    "duration": 105,
    "start_time": "2023-04-18T16:47:41.151Z"
   },
   {
    "duration": 82,
    "start_time": "2023-04-18T16:48:32.508Z"
   },
   {
    "duration": 121,
    "start_time": "2023-04-18T16:49:29.129Z"
   },
   {
    "duration": 116,
    "start_time": "2023-04-18T16:49:40.621Z"
   },
   {
    "duration": 142,
    "start_time": "2023-04-18T16:49:57.255Z"
   },
   {
    "duration": 58,
    "start_time": "2023-04-18T16:50:16.661Z"
   },
   {
    "duration": 113,
    "start_time": "2023-04-18T16:50:35.428Z"
   },
   {
    "duration": 14,
    "start_time": "2023-04-18T16:50:40.638Z"
   },
   {
    "duration": 128,
    "start_time": "2023-04-18T16:51:50.615Z"
   },
   {
    "duration": 11,
    "start_time": "2023-04-18T16:52:12.923Z"
   },
   {
    "duration": 70,
    "start_time": "2023-04-18T16:52:26.859Z"
   },
   {
    "duration": 122,
    "start_time": "2023-04-18T16:54:00.212Z"
   },
   {
    "duration": 84,
    "start_time": "2023-04-18T16:54:06.710Z"
   },
   {
    "duration": 129,
    "start_time": "2023-04-18T16:54:26.951Z"
   },
   {
    "duration": 127,
    "start_time": "2023-04-18T16:55:50.560Z"
   },
   {
    "duration": 22,
    "start_time": "2023-04-18T16:56:41.909Z"
   },
   {
    "duration": 95,
    "start_time": "2023-04-18T16:58:31.211Z"
   },
   {
    "duration": 14,
    "start_time": "2023-04-18T16:58:56.618Z"
   },
   {
    "duration": 16,
    "start_time": "2023-04-18T16:59:26.298Z"
   },
   {
    "duration": 50,
    "start_time": "2023-04-18T17:01:32.059Z"
   },
   {
    "duration": 47,
    "start_time": "2023-04-18T17:04:20.952Z"
   },
   {
    "duration": 28,
    "start_time": "2023-04-18T17:04:26.832Z"
   },
   {
    "duration": 22,
    "start_time": "2023-04-18T17:06:36.403Z"
   },
   {
    "duration": 11,
    "start_time": "2023-04-18T17:08:42.138Z"
   },
   {
    "duration": 28,
    "start_time": "2023-04-18T17:08:43.788Z"
   },
   {
    "duration": 15,
    "start_time": "2023-04-18T17:08:45.823Z"
   },
   {
    "duration": 18,
    "start_time": "2023-04-18T17:09:28.120Z"
   },
   {
    "duration": 26,
    "start_time": "2023-04-18T17:09:41.132Z"
   },
   {
    "duration": 16,
    "start_time": "2023-04-18T17:10:19.021Z"
   },
   {
    "duration": 6,
    "start_time": "2023-04-18T17:18:20.591Z"
   },
   {
    "duration": 149,
    "start_time": "2023-04-18T17:18:37.383Z"
   },
   {
    "duration": 16,
    "start_time": "2023-04-18T17:18:55.306Z"
   },
   {
    "duration": 101,
    "start_time": "2023-04-18T17:19:08.339Z"
   },
   {
    "duration": 16,
    "start_time": "2023-04-18T17:19:18.235Z"
   },
   {
    "duration": 18,
    "start_time": "2023-04-18T17:19:29.546Z"
   },
   {
    "duration": 16,
    "start_time": "2023-04-18T17:22:35.935Z"
   },
   {
    "duration": 32,
    "start_time": "2023-04-18T17:23:02.092Z"
   },
   {
    "duration": 21,
    "start_time": "2023-04-18T17:34:56.525Z"
   },
   {
    "duration": 131,
    "start_time": "2023-04-18T17:36:10.393Z"
   },
   {
    "duration": 164,
    "start_time": "2023-04-18T17:37:02.191Z"
   },
   {
    "duration": 42,
    "start_time": "2023-04-18T17:37:32.640Z"
   },
   {
    "duration": 20,
    "start_time": "2023-04-18T17:38:23.935Z"
   },
   {
    "duration": 19,
    "start_time": "2023-04-18T17:40:00.208Z"
   },
   {
    "duration": 16,
    "start_time": "2023-04-18T17:41:38.042Z"
   },
   {
    "duration": 33,
    "start_time": "2023-04-18T17:42:24.636Z"
   },
   {
    "duration": 15,
    "start_time": "2023-04-18T17:43:19.440Z"
   },
   {
    "duration": 46,
    "start_time": "2023-04-18T17:43:49.889Z"
   },
   {
    "duration": 37,
    "start_time": "2023-04-18T17:46:23.910Z"
   },
   {
    "duration": 83,
    "start_time": "2023-04-18T17:46:47.761Z"
   },
   {
    "duration": 16,
    "start_time": "2023-04-18T17:49:25.127Z"
   },
   {
    "duration": 29,
    "start_time": "2023-04-18T17:49:42.120Z"
   },
   {
    "duration": 18,
    "start_time": "2023-04-18T18:09:15.420Z"
   },
   {
    "duration": 128,
    "start_time": "2023-04-18T18:11:57.422Z"
   },
   {
    "duration": 119,
    "start_time": "2023-04-18T18:12:16.736Z"
   },
   {
    "duration": 112,
    "start_time": "2023-04-18T18:12:25.990Z"
   },
   {
    "duration": 76,
    "start_time": "2023-04-18T18:12:49.507Z"
   },
   {
    "duration": 112,
    "start_time": "2023-04-18T18:13:36.232Z"
   },
   {
    "duration": 83,
    "start_time": "2023-04-18T18:13:52.706Z"
   },
   {
    "duration": 89,
    "start_time": "2023-04-18T18:14:11.032Z"
   },
   {
    "duration": 126,
    "start_time": "2023-04-18T18:14:41.516Z"
   },
   {
    "duration": 21,
    "start_time": "2023-04-18T18:14:50.509Z"
   },
   {
    "duration": 105,
    "start_time": "2023-04-18T18:24:15.724Z"
   },
   {
    "duration": 12,
    "start_time": "2023-04-18T18:24:25.918Z"
   },
   {
    "duration": 67,
    "start_time": "2023-04-18T18:25:21.596Z"
   },
   {
    "duration": 12,
    "start_time": "2023-04-18T18:25:29.611Z"
   },
   {
    "duration": 45,
    "start_time": "2023-04-18T18:28:10.192Z"
   },
   {
    "duration": 39,
    "start_time": "2023-04-18T18:28:33.732Z"
   },
   {
    "duration": 16,
    "start_time": "2023-04-18T18:29:14.617Z"
   },
   {
    "duration": 28,
    "start_time": "2023-04-18T18:30:05.826Z"
   },
   {
    "duration": 33,
    "start_time": "2023-04-18T18:30:50.813Z"
   },
   {
    "duration": 46,
    "start_time": "2023-04-18T18:30:55.888Z"
   },
   {
    "duration": 14,
    "start_time": "2023-04-18T18:33:25.922Z"
   },
   {
    "duration": 114,
    "start_time": "2023-04-18T18:36:48.985Z"
   },
   {
    "duration": 97,
    "start_time": "2023-04-18T18:44:51.334Z"
   },
   {
    "duration": 121,
    "start_time": "2023-04-18T18:45:03.315Z"
   },
   {
    "duration": 16,
    "start_time": "2023-04-18T18:46:02.114Z"
   },
   {
    "duration": 17,
    "start_time": "2023-04-18T18:46:07.808Z"
   },
   {
    "duration": 13,
    "start_time": "2023-04-18T18:46:17.810Z"
   },
   {
    "duration": 16,
    "start_time": "2023-04-18T18:46:31.717Z"
   },
   {
    "duration": 17,
    "start_time": "2023-04-18T18:46:40.309Z"
   },
   {
    "duration": 124,
    "start_time": "2023-04-18T18:49:35.747Z"
   },
   {
    "duration": 112,
    "start_time": "2023-04-18T18:49:50.721Z"
   },
   {
    "duration": 15,
    "start_time": "2023-04-18T18:51:50.839Z"
   },
   {
    "duration": 95,
    "start_time": "2023-04-18T18:55:52.346Z"
   },
   {
    "duration": 96,
    "start_time": "2023-04-18T18:56:40.328Z"
   },
   {
    "duration": 106,
    "start_time": "2023-04-18T18:56:45.034Z"
   },
   {
    "duration": 91,
    "start_time": "2023-04-18T18:57:39.411Z"
   },
   {
    "duration": 85,
    "start_time": "2023-04-18T18:58:05.319Z"
   },
   {
    "duration": 100,
    "start_time": "2023-04-18T18:59:40.142Z"
   },
   {
    "duration": 16,
    "start_time": "2023-04-18T18:59:59.155Z"
   },
   {
    "duration": 119,
    "start_time": "2023-04-18T19:01:43.732Z"
   },
   {
    "duration": 103,
    "start_time": "2023-04-18T19:02:02.124Z"
   },
   {
    "duration": 15,
    "start_time": "2023-04-18T19:02:18.928Z"
   },
   {
    "duration": 25,
    "start_time": "2023-04-18T19:03:51.703Z"
   },
   {
    "duration": 16,
    "start_time": "2023-04-18T19:03:57.924Z"
   },
   {
    "duration": 21,
    "start_time": "2023-04-18T19:04:00.015Z"
   },
   {
    "duration": 21,
    "start_time": "2023-04-18T19:04:13.919Z"
   },
   {
    "duration": 27,
    "start_time": "2023-04-18T19:05:24.350Z"
   },
   {
    "duration": 54,
    "start_time": "2023-04-18T19:05:30.655Z"
   },
   {
    "duration": 18,
    "start_time": "2023-04-18T19:06:00.398Z"
   },
   {
    "duration": 42,
    "start_time": "2023-04-18T19:08:30.697Z"
   },
   {
    "duration": 37,
    "start_time": "2023-04-18T19:09:29.241Z"
   },
   {
    "duration": 111,
    "start_time": "2023-04-18T19:12:05.315Z"
   },
   {
    "duration": 113,
    "start_time": "2023-04-18T19:12:31.917Z"
   },
   {
    "duration": 122,
    "start_time": "2023-04-18T19:12:42.315Z"
   },
   {
    "duration": 119,
    "start_time": "2023-04-18T19:12:56.123Z"
   },
   {
    "duration": 26,
    "start_time": "2023-04-18T19:13:13.411Z"
   },
   {
    "duration": 14,
    "start_time": "2023-04-18T19:13:42.836Z"
   },
   {
    "duration": 31,
    "start_time": "2023-04-18T19:13:48.804Z"
   },
   {
    "duration": 3,
    "start_time": "2023-04-18T19:18:07.933Z"
   },
   {
    "duration": 38,
    "start_time": "2023-04-18T19:43:29.723Z"
   },
   {
    "duration": 15,
    "start_time": "2023-04-18T19:44:00.521Z"
   },
   {
    "duration": 4,
    "start_time": "2023-04-18T19:44:06.612Z"
   },
   {
    "duration": 7,
    "start_time": "2023-04-18T19:44:07.213Z"
   },
   {
    "duration": 119,
    "start_time": "2023-04-18T19:44:08.605Z"
   },
   {
    "duration": 642,
    "start_time": "2023-04-18T19:44:15.139Z"
   },
   {
    "duration": 7224,
    "start_time": "2023-04-18T19:44:15.784Z"
   },
   {
    "duration": 73,
    "start_time": "2023-04-18T19:44:23.010Z"
   },
   {
    "duration": 32,
    "start_time": "2023-04-18T19:44:23.085Z"
   },
   {
    "duration": 12,
    "start_time": "2023-04-18T19:44:23.119Z"
   },
   {
    "duration": 12,
    "start_time": "2023-04-18T19:44:23.133Z"
   },
   {
    "duration": 12,
    "start_time": "2023-04-18T19:44:23.147Z"
   },
   {
    "duration": 56,
    "start_time": "2023-04-18T19:44:23.161Z"
   },
   {
    "duration": 27,
    "start_time": "2023-04-18T19:44:23.220Z"
   },
   {
    "duration": 18,
    "start_time": "2023-04-18T19:44:23.250Z"
   },
   {
    "duration": 42,
    "start_time": "2023-04-18T19:44:23.274Z"
   },
   {
    "duration": 14,
    "start_time": "2023-04-18T19:44:23.318Z"
   },
   {
    "duration": 10,
    "start_time": "2023-04-18T19:44:31.001Z"
   },
   {
    "duration": 5,
    "start_time": "2023-04-18T19:44:31.931Z"
   },
   {
    "duration": 41,
    "start_time": "2023-04-18T19:44:33.516Z"
   },
   {
    "duration": 16,
    "start_time": "2023-04-18T19:44:35.416Z"
   },
   {
    "duration": 13,
    "start_time": "2023-04-18T19:44:36.738Z"
   },
   {
    "duration": 12,
    "start_time": "2023-04-18T19:44:38.032Z"
   },
   {
    "duration": 20,
    "start_time": "2023-04-18T19:44:39.602Z"
   },
   {
    "duration": 11,
    "start_time": "2023-04-18T19:44:43.146Z"
   },
   {
    "duration": 69,
    "start_time": "2023-04-18T19:44:44.742Z"
   },
   {
    "duration": 12,
    "start_time": "2023-04-18T19:44:48.700Z"
   },
   {
    "duration": 23,
    "start_time": "2023-04-18T19:44:53.597Z"
   },
   {
    "duration": 13,
    "start_time": "2023-04-18T19:45:07.013Z"
   },
   {
    "duration": 534,
    "start_time": "2023-04-19T00:00:23.295Z"
   },
   {
    "duration": 12569,
    "start_time": "2023-04-19T00:00:23.831Z"
   },
   {
    "duration": 61,
    "start_time": "2023-04-19T00:00:36.402Z"
   },
   {
    "duration": 11,
    "start_time": "2023-04-19T00:00:36.466Z"
   },
   {
    "duration": 13,
    "start_time": "2023-04-19T00:00:36.479Z"
   },
   {
    "duration": 14,
    "start_time": "2023-04-19T00:00:36.494Z"
   },
   {
    "duration": 9,
    "start_time": "2023-04-19T00:00:36.509Z"
   },
   {
    "duration": 10,
    "start_time": "2023-04-19T00:00:36.519Z"
   },
   {
    "duration": 36,
    "start_time": "2023-04-19T00:00:36.530Z"
   },
   {
    "duration": 13,
    "start_time": "2023-04-19T00:00:36.569Z"
   },
   {
    "duration": 19,
    "start_time": "2023-04-19T00:00:36.584Z"
   },
   {
    "duration": 14,
    "start_time": "2023-04-19T00:00:36.605Z"
   },
   {
    "duration": 14,
    "start_time": "2023-04-19T05:50:39.375Z"
   },
   {
    "duration": 11,
    "start_time": "2023-04-19T05:50:52.771Z"
   },
   {
    "duration": 16,
    "start_time": "2023-04-19T05:51:03.851Z"
   },
   {
    "duration": 145,
    "start_time": "2023-04-19T05:51:23.269Z"
   },
   {
    "duration": 16,
    "start_time": "2023-04-19T05:51:28.659Z"
   },
   {
    "duration": 74,
    "start_time": "2023-04-19T05:54:45.206Z"
   },
   {
    "duration": 12,
    "start_time": "2023-04-19T05:55:52.520Z"
   },
   {
    "duration": 11,
    "start_time": "2023-04-19T05:56:20.098Z"
   },
   {
    "duration": 50,
    "start_time": "2023-04-19T05:57:10.489Z"
   },
   {
    "duration": 11,
    "start_time": "2023-04-19T05:57:16.518Z"
   },
   {
    "duration": 10,
    "start_time": "2023-04-19T05:57:31.738Z"
   },
   {
    "duration": 10,
    "start_time": "2023-04-19T05:57:52.147Z"
   },
   {
    "duration": 25,
    "start_time": "2023-04-19T05:58:52.329Z"
   },
   {
    "duration": 66,
    "start_time": "2023-04-19T05:59:45.268Z"
   },
   {
    "duration": 20,
    "start_time": "2023-04-19T06:00:59.023Z"
   },
   {
    "duration": 11,
    "start_time": "2023-04-19T06:04:43.179Z"
   },
   {
    "duration": 10,
    "start_time": "2023-04-19T06:05:04.890Z"
   },
   {
    "duration": 71,
    "start_time": "2023-04-19T06:05:06.395Z"
   },
   {
    "duration": 28,
    "start_time": "2023-04-19T06:05:23.516Z"
   },
   {
    "duration": 28,
    "start_time": "2023-04-19T06:05:39.318Z"
   },
   {
    "duration": 82,
    "start_time": "2023-04-19T06:13:57.036Z"
   },
   {
    "duration": 29,
    "start_time": "2023-04-19T06:14:35.235Z"
   },
   {
    "duration": 28,
    "start_time": "2023-04-19T06:14:49.271Z"
   },
   {
    "duration": 45,
    "start_time": "2023-04-19T06:15:47.538Z"
   },
   {
    "duration": 11,
    "start_time": "2023-04-19T06:15:59.009Z"
   },
   {
    "duration": 28,
    "start_time": "2023-04-19T06:16:24.842Z"
   },
   {
    "duration": 27,
    "start_time": "2023-04-19T06:16:32.744Z"
   },
   {
    "duration": 25,
    "start_time": "2023-04-19T06:17:03.341Z"
   },
   {
    "duration": 26,
    "start_time": "2023-04-19T06:17:10.290Z"
   },
   {
    "duration": 11,
    "start_time": "2023-04-19T06:18:30.195Z"
   },
   {
    "duration": 29,
    "start_time": "2023-04-19T06:19:09.328Z"
   },
   {
    "duration": 20,
    "start_time": "2023-04-19T06:19:49.847Z"
   },
   {
    "duration": 20,
    "start_time": "2023-04-19T06:20:12.010Z"
   },
   {
    "duration": 11,
    "start_time": "2023-04-19T06:22:42.543Z"
   },
   {
    "duration": 19,
    "start_time": "2023-04-19T06:23:14.683Z"
   },
   {
    "duration": 27,
    "start_time": "2023-04-19T06:23:48.872Z"
   },
   {
    "duration": 21,
    "start_time": "2023-04-19T06:24:19.594Z"
   }
  ],
  "kernelspec": {
   "display_name": "Python 3 (ipykernel)",
   "language": "python",
   "name": "python3"
  },
  "language_info": {
   "codemirror_mode": {
    "name": "ipython",
    "version": 3
   },
   "file_extension": ".py",
   "mimetype": "text/x-python",
   "name": "python",
   "nbconvert_exporter": "python",
   "pygments_lexer": "ipython3",
   "version": "3.9.13"
  },
  "toc": {
   "base_numbering": 1,
   "nav_menu": {},
   "number_sections": true,
   "sideBar": true,
   "skip_h1_title": true,
   "title_cell": "Table of Contents",
   "title_sidebar": "Contents",
   "toc_cell": true,
   "toc_position": {},
   "toc_section_display": true,
   "toc_window_display": true
  }
 },
 "nbformat": 4,
 "nbformat_minor": 2
}
