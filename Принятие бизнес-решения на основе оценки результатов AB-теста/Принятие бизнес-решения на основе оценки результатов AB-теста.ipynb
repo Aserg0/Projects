{
 "cells": [
  {
   "cell_type": "markdown",
   "metadata": {
    "toc": true
   },
   "source": [
    "<h1>Table of Contents<span class=\"tocSkip\"></span></h1>\n",
    "<div class=\"toc\"><ul class=\"toc-item\"><li><span><a href=\"#Изучение-данных-и-их-подготовка-к-анализу\" data-toc-modified-id=\"Изучение-данных-и-их-подготовка-к-анализу-1\"><span class=\"toc-item-num\">1&nbsp;&nbsp;</span>Изучение данных и их подготовка к анализу</a></span></li><li><span><a href=\"#Ранжирование-гипотез-в-порядке-приоритета\" data-toc-modified-id=\"Ранжирование-гипотез-в-порядке-приоритета-2\"><span class=\"toc-item-num\">2&nbsp;&nbsp;</span>Ранжирование гипотез в порядке приоритета</a></span><ul class=\"toc-item\"><li><span><a href=\"#Применим-фреймворк-ICE-для-приоритизации-гипотез.-Отсортируем-гипотезы-по-убыванию-приоритета.\" data-toc-modified-id=\"Применим-фреймворк-ICE-для-приоритизации-гипотез.-Отсортируем-гипотезы-по-убыванию-приоритета.-2.1\"><span class=\"toc-item-num\">2.1&nbsp;&nbsp;</span>Применим фреймворк ICE для приоритизации гипотез. Отсортируем гипотезы по убыванию приоритета.</a></span></li><li><span><a href=\"#Применим-фреймворк-RICE-для-приоритизации-гипотез.-Отсортируем-гипотезы-по-убыванию-приоритета.\" data-toc-modified-id=\"Применим-фреймворк-RICE-для-приоритизации-гипотез.-Отсортируем-гипотезы-по-убыванию-приоритета.-2.2\"><span class=\"toc-item-num\">2.2&nbsp;&nbsp;</span>Применим фреймворк RICE для приоритизации гипотез. Отсортируем гипотезы по убыванию приоритета.</a></span></li><li><span><a href=\"#Рассмотрим,-как-изменилась-приоритизация-гипотез-при-применении-фреймфорка-RICE-вместо-ICE.\" data-toc-modified-id=\"Рассмотрим,-как-изменилась-приоритизация-гипотез-при-применении-фреймфорка-RICE-вместо-ICE.-2.3\"><span class=\"toc-item-num\">2.3&nbsp;&nbsp;</span>Рассмотрим, как изменилась приоритизация гипотез при применении фреймфорка RICE вместо ICE.</a></span></li></ul></li><li><span><a href=\"#Анализ-проведенного-A/B-теста-и-полученных-результатов-(из-файлов-orders.csv-и-visitors.csv):\" data-toc-modified-id=\"Анализ-проведенного-A/B-теста-и-полученных-результатов-(из-файлов-orders.csv-и-visitors.csv):-3\"><span class=\"toc-item-num\">3&nbsp;&nbsp;</span>Анализ проведенного A/B-теста и полученных результатов (из файлов orders.csv и visitors.csv):</a></span><ul class=\"toc-item\"><li><span><a href=\"#Построим-график-кумулятивной-выручки-по-группам.\" data-toc-modified-id=\"Построим-график-кумулятивной-выручки-по-группам.-3.1\"><span class=\"toc-item-num\">3.1&nbsp;&nbsp;</span>Построим график кумулятивной выручки по группам.</a></span></li><li><span><a href=\"#Постром-график-кумулятивного-среднего-чека-по-группам.\" data-toc-modified-id=\"Постром-график-кумулятивного-среднего-чека-по-группам.-3.2\"><span class=\"toc-item-num\">3.2&nbsp;&nbsp;</span>Постром график кумулятивного среднего чека по группам.</a></span></li><li><span><a href=\"#Построим-график-относительного-изменения-кумулятивного-среднего-чека-группы-B-к-группе-A.\" data-toc-modified-id=\"Построим-график-относительного-изменения-кумулятивного-среднего-чека-группы-B-к-группе-A.-3.3\"><span class=\"toc-item-num\">3.3&nbsp;&nbsp;</span>Построим график относительного изменения кумулятивного среднего чека группы B к группе A.</a></span></li><li><span><a href=\"#Построить-график-кумулятивного-среднего-количества-заказов-на-посетителя-по-группам.-Сделать-выводы-и-предположения.\" data-toc-modified-id=\"Построить-график-кумулятивного-среднего-количества-заказов-на-посетителя-по-группам.-Сделать-выводы-и-предположения.-3.4\"><span class=\"toc-item-num\">3.4&nbsp;&nbsp;</span>Построить график кумулятивного среднего количества заказов на посетителя по группам. Сделать выводы и предположения.</a></span></li><li><span><a href=\"#Построим-график-относительного-изменения-кумулятивного-среднего-количества-заказов-на-посетителя-группы-B-к-группе-A.\" data-toc-modified-id=\"Построим-график-относительного-изменения-кумулятивного-среднего-количества-заказов-на-посетителя-группы-B-к-группе-A.-3.5\"><span class=\"toc-item-num\">3.5&nbsp;&nbsp;</span>Построим график относительного изменения кумулятивного среднего количества заказов на посетителя группы B к группе A.</a></span></li><li><span><a href=\"#Построим-точечный-график-количества-заказов-по-пользователям.\" data-toc-modified-id=\"Построим-точечный-график-количества-заказов-по-пользователям.-3.6\"><span class=\"toc-item-num\">3.6&nbsp;&nbsp;</span>Построим точечный график количества заказов по пользователям.</a></span></li><li><span><a href=\"#Посчитаем-95-й-и-99-й-перцентили-количества-заказов-на-пользователя.-Выберем-границу-для-определения-аномальных-пользователей.\" data-toc-modified-id=\"Посчитаем-95-й-и-99-й-перцентили-количества-заказов-на-пользователя.-Выберем-границу-для-определения-аномальных-пользователей.-3.7\"><span class=\"toc-item-num\">3.7&nbsp;&nbsp;</span>Посчитаем 95-й и 99-й перцентили количества заказов на пользователя. Выберем границу для определения аномальных пользователей.</a></span></li><li><span><a href=\"#Построим-точечный-график-стоимостей-заказов.\" data-toc-modified-id=\"Построим-точечный-график-стоимостей-заказов.-3.8\"><span class=\"toc-item-num\">3.8&nbsp;&nbsp;</span>Построим точечный график стоимостей заказов.</a></span></li><li><span><a href=\"#Посчитаем-95-й-и-99-й-перцентили-стоимости-заказов.-Выберем-границу-для-определения-аномальных-заказов.\" data-toc-modified-id=\"Посчитаем-95-й-и-99-й-перцентили-стоимости-заказов.-Выберем-границу-для-определения-аномальных-заказов.-3.9\"><span class=\"toc-item-num\">3.9&nbsp;&nbsp;</span>Посчитаем 95-й и 99-й перцентили стоимости заказов. Выберем границу для определения аномальных заказов.</a></span></li><li><span><a href=\"#Посчитаем-статистическую-значимость-различий-в-среднем-количестве-заказов-на-посетителя-между-группами-по-«сырым»-данным.\" data-toc-modified-id=\"Посчитаем-статистическую-значимость-различий-в-среднем-количестве-заказов-на-посетителя-между-группами-по-«сырым»-данным.-3.10\"><span class=\"toc-item-num\">3.10&nbsp;&nbsp;</span>Посчитаем статистическую значимость различий в среднем количестве заказов на посетителя между группами по «сырым» данным.</a></span></li><li><span><a href=\"#Посчитаем-статистическую-значимость-различий-в-среднем-чеке-заказа-между-группами-по-«сырым»-данным.\" data-toc-modified-id=\"Посчитаем-статистическую-значимость-различий-в-среднем-чеке-заказа-между-группами-по-«сырым»-данным.-3.11\"><span class=\"toc-item-num\">3.11&nbsp;&nbsp;</span>Посчитаем статистическую значимость различий в среднем чеке заказа между группами по «сырым» данным.</a></span></li><li><span><a href=\"#Посчитаем-статистическую-значимость-различий-в-среднем-количестве-заказов-на-посетителя-между-группами-по-«очищенным»-данным.\" data-toc-modified-id=\"Посчитаем-статистическую-значимость-различий-в-среднем-количестве-заказов-на-посетителя-между-группами-по-«очищенным»-данным.-3.12\"><span class=\"toc-item-num\">3.12&nbsp;&nbsp;</span>Посчитаем статистическую значимость различий в среднем количестве заказов на посетителя между группами по «очищенным» данным.</a></span></li><li><span><a href=\"#Посчитаем-статистическую-значимость-различий-в-среднем-чеке-заказа-между-группами-по-«очищенным»-данным.\" data-toc-modified-id=\"Посчитаем-статистическую-значимость-различий-в-среднем-чеке-заказа-между-группами-по-«очищенным»-данным.-3.13\"><span class=\"toc-item-num\">3.13&nbsp;&nbsp;</span>Посчитаем статистическую значимость различий в среднем чеке заказа между группами по «очищенным» данным.</a></span></li></ul></li><li><span><a href=\"#Принятие-решения-по-результатам-A/B-теста.\" data-toc-modified-id=\"Принятие-решения-по-результатам-A/B-теста.-4\"><span class=\"toc-item-num\">4&nbsp;&nbsp;</span>Принятие решения по результатам A/B-теста.</a></span></li></ul></div>"
   ]
  },
  {
   "cell_type": "markdown",
   "metadata": {},
   "source": [
    "# Принятие бизнес-решения на основе оценки результатов A/B-теста."
   ]
  },
  {
   "cell_type": "markdown",
   "metadata": {},
   "source": [
    "**Цель проекта:** проверка гипотез для увеличения выручки.<p>\n",
    "     Результаты выполнения проекта, в случае подтверждения одной или нескольких гипотез, позволят увеличить выручку интернет-магазина.\n",
    "    \n",
    "**Задача проекта:** Проранжировать гипотезы в порядке приоритета, запустить A/B-тест и проанализировать полученные результаты.  \n",
    "\n",
    "\n",
    "**Исходные данные** — это данные интернет-магазина о заказах пользователей и их посещениях.\n",
    "Также имеется файл c предварительными 10-бальными оценками зафиксированных гипотез (по критериям:\n",
    "Reach, Impact, Confidence, Efforts)<p>  \n",
    "\n",
    "    "
   ]
  },
  {
   "cell_type": "markdown",
   "metadata": {},
   "source": [
    "### 1. Изучение данных и их подготовка к анализу"
   ]
  },
  {
   "cell_type": "markdown",
   "metadata": {},
   "source": [
    "Загружаем данные о гипотезах, заказах и посещениях сайта из CSV-файлов в переменные.\n",
    "\n",
    "Имеем файлы  \n",
    "         - *оценка гипотез по критериям:* hypothesis.csv;  \n",
    "         - *заказы:* orders.csv;  \n",
    "         - *посещения:* visitors.csv.  \n",
    "Изучим данные и выполним предобработку. Проверим наличие в данных пропусков и дубликатов. Убедимся, что типы данных во всех \n",
    "колонках соответствуют сохранённым в них значениям. Особое внимание на столбцы с датой и временем.  "
   ]
  },
  {
   "cell_type": "code",
   "execution_count": 1,
   "metadata": {},
   "outputs": [],
   "source": [
    "import pandas as pd\n",
    "import matplotlib.pyplot as plt \n",
    "import seaborn as sns\n",
    "sns.set_style(\"darkgrid\")\n",
    "import datetime as dt\n",
    "import numpy as np\n",
    "import scipy.stats as stats\n",
    "from IPython.display import display"
   ]
  },
  {
   "cell_type": "code",
   "execution_count": 2,
   "metadata": {
    "scrolled": false
   },
   "outputs": [
    {
     "data": {
      "text/html": [
       "<div>\n",
       "<style scoped>\n",
       "    .dataframe tbody tr th:only-of-type {\n",
       "        vertical-align: middle;\n",
       "    }\n",
       "\n",
       "    .dataframe tbody tr th {\n",
       "        vertical-align: top;\n",
       "    }\n",
       "\n",
       "    .dataframe thead th {\n",
       "        text-align: right;\n",
       "    }\n",
       "</style>\n",
       "<table border=\"1\" class=\"dataframe\">\n",
       "  <thead>\n",
       "    <tr style=\"text-align: right;\">\n",
       "      <th></th>\n",
       "      <th>Hypothesis</th>\n",
       "      <th>Reach</th>\n",
       "      <th>Impact</th>\n",
       "      <th>Confidence</th>\n",
       "      <th>Efforts</th>\n",
       "    </tr>\n",
       "  </thead>\n",
       "  <tbody>\n",
       "    <tr>\n",
       "      <th>0</th>\n",
       "      <td>Добавить два новых канала привлечения трафика, что позволит привлекать на 30% больше пользователей</td>\n",
       "      <td>3</td>\n",
       "      <td>10</td>\n",
       "      <td>8</td>\n",
       "      <td>6</td>\n",
       "    </tr>\n",
       "    <tr>\n",
       "      <th>1</th>\n",
       "      <td>Запустить собственную службу доставки, что сократит срок доставки заказов</td>\n",
       "      <td>2</td>\n",
       "      <td>5</td>\n",
       "      <td>4</td>\n",
       "      <td>10</td>\n",
       "    </tr>\n",
       "    <tr>\n",
       "      <th>2</th>\n",
       "      <td>Добавить блоки рекомендаций товаров на сайт интернет магазина, чтобы повысить конверсию и средний чек заказа</td>\n",
       "      <td>8</td>\n",
       "      <td>3</td>\n",
       "      <td>7</td>\n",
       "      <td>3</td>\n",
       "    </tr>\n",
       "    <tr>\n",
       "      <th>3</th>\n",
       "      <td>Изменить структура категорий, что увеличит конверсию, т.к. пользователи быстрее найдут нужный товар</td>\n",
       "      <td>8</td>\n",
       "      <td>3</td>\n",
       "      <td>3</td>\n",
       "      <td>8</td>\n",
       "    </tr>\n",
       "    <tr>\n",
       "      <th>4</th>\n",
       "      <td>Изменить цвет фона главной страницы, чтобы увеличить вовлеченность пользователей</td>\n",
       "      <td>3</td>\n",
       "      <td>1</td>\n",
       "      <td>1</td>\n",
       "      <td>1</td>\n",
       "    </tr>\n",
       "    <tr>\n",
       "      <th>5</th>\n",
       "      <td>Добавить страницу отзывов клиентов о магазине, что позволит увеличить количество заказов</td>\n",
       "      <td>3</td>\n",
       "      <td>2</td>\n",
       "      <td>2</td>\n",
       "      <td>3</td>\n",
       "    </tr>\n",
       "    <tr>\n",
       "      <th>6</th>\n",
       "      <td>Показать на главной странице баннеры с актуальными акциями и распродажами, чтобы увеличить конверсию</td>\n",
       "      <td>5</td>\n",
       "      <td>3</td>\n",
       "      <td>8</td>\n",
       "      <td>3</td>\n",
       "    </tr>\n",
       "    <tr>\n",
       "      <th>7</th>\n",
       "      <td>Добавить форму подписки на все основные страницы, чтобы собрать базу клиентов для email-рассылок</td>\n",
       "      <td>10</td>\n",
       "      <td>7</td>\n",
       "      <td>8</td>\n",
       "      <td>5</td>\n",
       "    </tr>\n",
       "    <tr>\n",
       "      <th>8</th>\n",
       "      <td>Запустить акцию, дающую скидку на товар в день рождения</td>\n",
       "      <td>1</td>\n",
       "      <td>9</td>\n",
       "      <td>9</td>\n",
       "      <td>5</td>\n",
       "    </tr>\n",
       "  </tbody>\n",
       "</table>\n",
       "</div>"
      ],
      "text/plain": [
       "                                                                                                     Hypothesis  \\\n",
       "0            Добавить два новых канала привлечения трафика, что позволит привлекать на 30% больше пользователей   \n",
       "1                                     Запустить собственную службу доставки, что сократит срок доставки заказов   \n",
       "2  Добавить блоки рекомендаций товаров на сайт интернет магазина, чтобы повысить конверсию и средний чек заказа   \n",
       "3           Изменить структура категорий, что увеличит конверсию, т.к. пользователи быстрее найдут нужный товар   \n",
       "4                              Изменить цвет фона главной страницы, чтобы увеличить вовлеченность пользователей   \n",
       "5                      Добавить страницу отзывов клиентов о магазине, что позволит увеличить количество заказов   \n",
       "6          Показать на главной странице баннеры с актуальными акциями и распродажами, чтобы увеличить конверсию   \n",
       "7              Добавить форму подписки на все основные страницы, чтобы собрать базу клиентов для email-рассылок   \n",
       "8                                                       Запустить акцию, дающую скидку на товар в день рождения   \n",
       "\n",
       "   Reach  Impact  Confidence  Efforts  \n",
       "0      3      10           8        6  \n",
       "1      2       5           4       10  \n",
       "2      8       3           7        3  \n",
       "3      8       3           3        8  \n",
       "4      3       1           1        1  \n",
       "5      3       2           2        3  \n",
       "6      5       3           8        3  \n",
       "7     10       7           8        5  \n",
       "8      1       9           9        5  "
      ]
     },
     "metadata": {},
     "output_type": "display_data"
    },
    {
     "data": {
      "text/html": [
       "<div>\n",
       "<style scoped>\n",
       "    .dataframe tbody tr th:only-of-type {\n",
       "        vertical-align: middle;\n",
       "    }\n",
       "\n",
       "    .dataframe tbody tr th {\n",
       "        vertical-align: top;\n",
       "    }\n",
       "\n",
       "    .dataframe thead th {\n",
       "        text-align: right;\n",
       "    }\n",
       "</style>\n",
       "<table border=\"1\" class=\"dataframe\">\n",
       "  <thead>\n",
       "    <tr style=\"text-align: right;\">\n",
       "      <th></th>\n",
       "      <th>transactionId</th>\n",
       "      <th>visitorId</th>\n",
       "      <th>date</th>\n",
       "      <th>revenue</th>\n",
       "      <th>group</th>\n",
       "    </tr>\n",
       "  </thead>\n",
       "  <tbody>\n",
       "    <tr>\n",
       "      <th>0</th>\n",
       "      <td>3667963787</td>\n",
       "      <td>3312258926</td>\n",
       "      <td>2019-08-15</td>\n",
       "      <td>1650</td>\n",
       "      <td>B</td>\n",
       "    </tr>\n",
       "    <tr>\n",
       "      <th>1</th>\n",
       "      <td>2804400009</td>\n",
       "      <td>3642806036</td>\n",
       "      <td>2019-08-15</td>\n",
       "      <td>730</td>\n",
       "      <td>B</td>\n",
       "    </tr>\n",
       "    <tr>\n",
       "      <th>2</th>\n",
       "      <td>2961555356</td>\n",
       "      <td>4069496402</td>\n",
       "      <td>2019-08-15</td>\n",
       "      <td>400</td>\n",
       "      <td>A</td>\n",
       "    </tr>\n",
       "    <tr>\n",
       "      <th>3</th>\n",
       "      <td>3797467345</td>\n",
       "      <td>1196621759</td>\n",
       "      <td>2019-08-15</td>\n",
       "      <td>9759</td>\n",
       "      <td>B</td>\n",
       "    </tr>\n",
       "    <tr>\n",
       "      <th>4</th>\n",
       "      <td>2282983706</td>\n",
       "      <td>2322279887</td>\n",
       "      <td>2019-08-15</td>\n",
       "      <td>2308</td>\n",
       "      <td>B</td>\n",
       "    </tr>\n",
       "  </tbody>\n",
       "</table>\n",
       "</div>"
      ],
      "text/plain": [
       "   transactionId   visitorId        date  revenue group\n",
       "0     3667963787  3312258926  2019-08-15     1650     B\n",
       "1     2804400009  3642806036  2019-08-15      730     B\n",
       "2     2961555356  4069496402  2019-08-15      400     A\n",
       "3     3797467345  1196621759  2019-08-15     9759     B\n",
       "4     2282983706  2322279887  2019-08-15     2308     B"
      ]
     },
     "metadata": {},
     "output_type": "display_data"
    },
    {
     "data": {
      "text/html": [
       "<div>\n",
       "<style scoped>\n",
       "    .dataframe tbody tr th:only-of-type {\n",
       "        vertical-align: middle;\n",
       "    }\n",
       "\n",
       "    .dataframe tbody tr th {\n",
       "        vertical-align: top;\n",
       "    }\n",
       "\n",
       "    .dataframe thead th {\n",
       "        text-align: right;\n",
       "    }\n",
       "</style>\n",
       "<table border=\"1\" class=\"dataframe\">\n",
       "  <thead>\n",
       "    <tr style=\"text-align: right;\">\n",
       "      <th></th>\n",
       "      <th>date</th>\n",
       "      <th>group</th>\n",
       "      <th>visitors</th>\n",
       "    </tr>\n",
       "  </thead>\n",
       "  <tbody>\n",
       "    <tr>\n",
       "      <th>0</th>\n",
       "      <td>2019-08-01</td>\n",
       "      <td>A</td>\n",
       "      <td>719</td>\n",
       "    </tr>\n",
       "    <tr>\n",
       "      <th>1</th>\n",
       "      <td>2019-08-02</td>\n",
       "      <td>A</td>\n",
       "      <td>619</td>\n",
       "    </tr>\n",
       "    <tr>\n",
       "      <th>2</th>\n",
       "      <td>2019-08-03</td>\n",
       "      <td>A</td>\n",
       "      <td>507</td>\n",
       "    </tr>\n",
       "    <tr>\n",
       "      <th>3</th>\n",
       "      <td>2019-08-04</td>\n",
       "      <td>A</td>\n",
       "      <td>717</td>\n",
       "    </tr>\n",
       "    <tr>\n",
       "      <th>4</th>\n",
       "      <td>2019-08-05</td>\n",
       "      <td>A</td>\n",
       "      <td>756</td>\n",
       "    </tr>\n",
       "  </tbody>\n",
       "</table>\n",
       "</div>"
      ],
      "text/plain": [
       "         date group  visitors\n",
       "0  2019-08-01     A       719\n",
       "1  2019-08-02     A       619\n",
       "2  2019-08-03     A       507\n",
       "3  2019-08-04     A       717\n",
       "4  2019-08-05     A       756"
      ]
     },
     "metadata": {},
     "output_type": "display_data"
    }
   ],
   "source": [
    "hypothesis, orders, visits = (\n",
    "  pd.read_csv(\"C:\\\\Users\\\\user\\\\Desktop\\\\Projects\\\\9\\\\hypothesis.csv\"),  # оценка гипотез по критериям\n",
    "  pd.read_csv(\"C:\\\\Users\\\\user\\\\Desktop\\\\Projects\\\\9\\\\orders.csv\"),  # заказы\n",
    "  pd.read_csv(\"C:\\\\Users\\\\user\\\\Desktop\\\\Projects\\\\9\\\\visitors.csv\"),  # посещения сайта\n",
    ") \n",
    "\n",
    "pd.set_option('display.max_colwidth', None)#для вывода на экран всего текста гипотез без усечения\n",
    "\n",
    "display(hypothesis)\n",
    "display(orders.head())   \n",
    "display(visits.head())"
   ]
  },
  {
   "cell_type": "code",
   "execution_count": 3,
   "metadata": {
    "scrolled": false
   },
   "outputs": [
    {
     "name": "stdout",
     "output_type": "stream",
     "text": [
      "Дубликатов в гипотезах: 0\n",
      "Дубликатов заказов: 0\n",
      "Дубликатов посещений: 0\n",
      "_________________________ hypothesis info: _________________________\n",
      "<class 'pandas.core.frame.DataFrame'>\n",
      "RangeIndex: 9 entries, 0 to 8\n",
      "Data columns (total 5 columns):\n",
      " #   Column      Non-Null Count  Dtype \n",
      "---  ------      --------------  ----- \n",
      " 0   hypothesis  9 non-null      object\n",
      " 1   reach       9 non-null      int64 \n",
      " 2   impact      9 non-null      int64 \n",
      " 3   confidence  9 non-null      int64 \n",
      " 4   efforts     9 non-null      int64 \n",
      "dtypes: int64(4), object(1)\n",
      "memory usage: 488.0+ bytes\n"
     ]
    },
    {
     "data": {
      "text/html": [
       "<div>\n",
       "<style scoped>\n",
       "    .dataframe tbody tr th:only-of-type {\n",
       "        vertical-align: middle;\n",
       "    }\n",
       "\n",
       "    .dataframe tbody tr th {\n",
       "        vertical-align: top;\n",
       "    }\n",
       "\n",
       "    .dataframe thead th {\n",
       "        text-align: right;\n",
       "    }\n",
       "</style>\n",
       "<table border=\"1\" class=\"dataframe\">\n",
       "  <thead>\n",
       "    <tr style=\"text-align: right;\">\n",
       "      <th></th>\n",
       "      <th>reach</th>\n",
       "      <th>impact</th>\n",
       "      <th>confidence</th>\n",
       "      <th>efforts</th>\n",
       "    </tr>\n",
       "  </thead>\n",
       "  <tbody>\n",
       "    <tr>\n",
       "      <th>count</th>\n",
       "      <td>9.000000</td>\n",
       "      <td>9.000000</td>\n",
       "      <td>9.000000</td>\n",
       "      <td>9.000000</td>\n",
       "    </tr>\n",
       "    <tr>\n",
       "      <th>mean</th>\n",
       "      <td>4.777778</td>\n",
       "      <td>4.777778</td>\n",
       "      <td>5.555556</td>\n",
       "      <td>4.888889</td>\n",
       "    </tr>\n",
       "    <tr>\n",
       "      <th>std</th>\n",
       "      <td>3.153481</td>\n",
       "      <td>3.192874</td>\n",
       "      <td>3.045944</td>\n",
       "      <td>2.803767</td>\n",
       "    </tr>\n",
       "    <tr>\n",
       "      <th>min</th>\n",
       "      <td>1.000000</td>\n",
       "      <td>1.000000</td>\n",
       "      <td>1.000000</td>\n",
       "      <td>1.000000</td>\n",
       "    </tr>\n",
       "    <tr>\n",
       "      <th>25%</th>\n",
       "      <td>3.000000</td>\n",
       "      <td>3.000000</td>\n",
       "      <td>3.000000</td>\n",
       "      <td>3.000000</td>\n",
       "    </tr>\n",
       "    <tr>\n",
       "      <th>50%</th>\n",
       "      <td>3.000000</td>\n",
       "      <td>3.000000</td>\n",
       "      <td>7.000000</td>\n",
       "      <td>5.000000</td>\n",
       "    </tr>\n",
       "    <tr>\n",
       "      <th>75%</th>\n",
       "      <td>8.000000</td>\n",
       "      <td>7.000000</td>\n",
       "      <td>8.000000</td>\n",
       "      <td>6.000000</td>\n",
       "    </tr>\n",
       "    <tr>\n",
       "      <th>max</th>\n",
       "      <td>10.000000</td>\n",
       "      <td>10.000000</td>\n",
       "      <td>9.000000</td>\n",
       "      <td>10.000000</td>\n",
       "    </tr>\n",
       "  </tbody>\n",
       "</table>\n",
       "</div>"
      ],
      "text/plain": [
       "           reach     impact  confidence    efforts\n",
       "count   9.000000   9.000000    9.000000   9.000000\n",
       "mean    4.777778   4.777778    5.555556   4.888889\n",
       "std     3.153481   3.192874    3.045944   2.803767\n",
       "min     1.000000   1.000000    1.000000   1.000000\n",
       "25%     3.000000   3.000000    3.000000   3.000000\n",
       "50%     3.000000   3.000000    7.000000   5.000000\n",
       "75%     8.000000   7.000000    8.000000   6.000000\n",
       "max    10.000000  10.000000    9.000000  10.000000"
      ]
     },
     "execution_count": 3,
     "metadata": {},
     "output_type": "execute_result"
    }
   ],
   "source": [
    "print('Дубликатов в гипотезах:', hypothesis.duplicated().sum()) #Проверим наличие дубликатов строк\n",
    "print('Дубликатов заказов:', orders.duplicated().sum())\n",
    "print('Дубликатов посещений:', visits.duplicated().sum()) \n",
    "\n",
    "hypothesis.columns=hypothesis.columns.str.lower() #переводим названия столбцов в нижний регистр\n",
    "orders.columns=orders.columns.str.lower()\n",
    "print('_'*25, 'hypothesis info:', '_'*25)\n",
    "hypothesis.info() # изучим информацию о типах данных в столбцах и размере датафрейма, возможных пропусках в данных \n",
    "hypothesis.describe() #попытаемся понять, есть ли аномальные значения"
   ]
  },
  {
   "cell_type": "code",
   "execution_count": 4,
   "metadata": {
    "scrolled": false
   },
   "outputs": [
    {
     "name": "stdout",
     "output_type": "stream",
     "text": [
      "_________________________ orders info: _________________________\n",
      "<class 'pandas.core.frame.DataFrame'>\n",
      "RangeIndex: 1197 entries, 0 to 1196\n",
      "Data columns (total 5 columns):\n",
      " #   Column         Non-Null Count  Dtype \n",
      "---  ------         --------------  ----- \n",
      " 0   transactionid  1197 non-null   int64 \n",
      " 1   visitorid      1197 non-null   int64 \n",
      " 2   date           1197 non-null   object\n",
      " 3   revenue        1197 non-null   int64 \n",
      " 4   group          1197 non-null   object\n",
      "dtypes: int64(3), object(2)\n",
      "memory usage: 46.9+ KB\n"
     ]
    },
    {
     "data": {
      "text/plain": [
       "count       1197.000\n",
       "mean        8348.006\n",
       "std        39191.132\n",
       "min           50.000\n",
       "25%         1220.000\n",
       "50%         2978.000\n",
       "75%         8290.000\n",
       "max      1294500.000\n",
       "Name: revenue, dtype: object"
      ]
     },
     "execution_count": 4,
     "metadata": {},
     "output_type": "execute_result"
    }
   ],
   "source": [
    "print('_'*25, 'orders info:', '_'*25)\n",
    "orders.info() # изучим информацию о типах данных в столбцах и размере датафрейма, возможных пропусках в данных \n",
    "orders['revenue'].describe().apply(\"{0:.3f}\".format) #попытаемся понять, есть ли аномальные значения"
   ]
  },
  {
   "cell_type": "code",
   "execution_count": 5,
   "metadata": {
    "scrolled": true
   },
   "outputs": [
    {
     "data": {
      "image/png": "[encoded data removed]",
      "text/plain": [
       "<Figure size 432x288 with 1 Axes>"
      ]
     },
     "metadata": {},
     "output_type": "display_data"
    }
   ],
   "source": [
    "plt.hist(orders['revenue']);# строим общую гистограмму для всех сумм заказов range(0,1240000)"
   ]
  },
  {
   "cell_type": "markdown",
   "metadata": {},
   "source": [
    "Распределение по сумме заказов необходимо рассмотреть без выбросов, т.к. с выбросами основная часть данных попадает в одну корзину."
   ]
  },
  {
   "cell_type": "code",
   "execution_count": 6,
   "metadata": {
    "scrolled": false
   },
   "outputs": [
    {
     "name": "stdout",
     "output_type": "stream",
     "text": [
      "_________________________ visits info: _________________________\n",
      "<class 'pandas.core.frame.DataFrame'>\n",
      "RangeIndex: 62 entries, 0 to 61\n",
      "Data columns (total 3 columns):\n",
      " #   Column    Non-Null Count  Dtype \n",
      "---  ------    --------------  ----- \n",
      " 0   date      62 non-null     object\n",
      " 1   group     62 non-null     object\n",
      " 2   visitors  62 non-null     int64 \n",
      "dtypes: int64(1), object(2)\n",
      "memory usage: 1.6+ KB\n"
     ]
    },
    {
     "data": {
      "text/html": [
       "<div>\n",
       "<style scoped>\n",
       "    .dataframe tbody tr th:only-of-type {\n",
       "        vertical-align: middle;\n",
       "    }\n",
       "\n",
       "    .dataframe tbody tr th {\n",
       "        vertical-align: top;\n",
       "    }\n",
       "\n",
       "    .dataframe thead th {\n",
       "        text-align: right;\n",
       "    }\n",
       "</style>\n",
       "<table border=\"1\" class=\"dataframe\">\n",
       "  <thead>\n",
       "    <tr style=\"text-align: right;\">\n",
       "      <th></th>\n",
       "      <th>visitors</th>\n",
       "    </tr>\n",
       "  </thead>\n",
       "  <tbody>\n",
       "    <tr>\n",
       "      <th>count</th>\n",
       "      <td>62.000000</td>\n",
       "    </tr>\n",
       "    <tr>\n",
       "      <th>mean</th>\n",
       "      <td>607.290323</td>\n",
       "    </tr>\n",
       "    <tr>\n",
       "      <th>std</th>\n",
       "      <td>114.400560</td>\n",
       "    </tr>\n",
       "    <tr>\n",
       "      <th>min</th>\n",
       "      <td>361.000000</td>\n",
       "    </tr>\n",
       "    <tr>\n",
       "      <th>25%</th>\n",
       "      <td>534.000000</td>\n",
       "    </tr>\n",
       "    <tr>\n",
       "      <th>50%</th>\n",
       "      <td>624.500000</td>\n",
       "    </tr>\n",
       "    <tr>\n",
       "      <th>75%</th>\n",
       "      <td>710.500000</td>\n",
       "    </tr>\n",
       "    <tr>\n",
       "      <th>max</th>\n",
       "      <td>770.000000</td>\n",
       "    </tr>\n",
       "  </tbody>\n",
       "</table>\n",
       "</div>"
      ],
      "text/plain": [
       "         visitors\n",
       "count   62.000000\n",
       "mean   607.290323\n",
       "std    114.400560\n",
       "min    361.000000\n",
       "25%    534.000000\n",
       "50%    624.500000\n",
       "75%    710.500000\n",
       "max    770.000000"
      ]
     },
     "execution_count": 6,
     "metadata": {},
     "output_type": "execute_result"
    }
   ],
   "source": [
    "print('_'*25, 'visits info:', '_'*25)\n",
    "visits.info() # изучим информацию о типах данных в столбцах и размере датафрейма, возможных пропусках в данных \n",
    "visits.describe() #попытаемся понять, есть ли аномальные значения\n"
   ]
  },
  {
   "cell_type": "code",
   "execution_count": 7,
   "metadata": {
    "scrolled": true
   },
   "outputs": [
    {
     "data": {
      "image/png": "[encoded data removed]",
      "text/plain": [
       "<Figure size 432x288 with 1 Axes>"
      ]
     },
     "metadata": {},
     "output_type": "display_data"
    }
   ],
   "source": [
    "plt.hist(visits['visitors']);# строим общую гистограмму для всех посещений"
   ]
  },
  {
   "cell_type": "markdown",
   "metadata": {},
   "source": [
    "В распределении выделяются две группы с количеством посещений 360-500, 500-750."
   ]
  },
  {
   "cell_type": "code",
   "execution_count": 8,
   "metadata": {
    "scrolled": false
   },
   "outputs": [
    {
     "name": "stdout",
     "output_type": "stream",
     "text": [
      "<class 'pandas.core.frame.DataFrame'>\n",
      "RangeIndex: 1197 entries, 0 to 1196\n",
      "Data columns (total 5 columns):\n",
      " #   Column         Non-Null Count  Dtype         \n",
      "---  ------         --------------  -----         \n",
      " 0   transactionid  1197 non-null   int64         \n",
      " 1   visitorid      1197 non-null   int64         \n",
      " 2   date           1197 non-null   datetime64[ns]\n",
      " 3   revenue        1197 non-null   int64         \n",
      " 4   group          1197 non-null   object        \n",
      "dtypes: datetime64[ns](1), int64(3), object(1)\n",
      "memory usage: 46.9+ KB\n",
      "<class 'pandas.core.frame.DataFrame'>\n",
      "RangeIndex: 62 entries, 0 to 61\n",
      "Data columns (total 3 columns):\n",
      " #   Column    Non-Null Count  Dtype         \n",
      "---  ------    --------------  -----         \n",
      " 0   date      62 non-null     datetime64[ns]\n",
      " 1   group     62 non-null     object        \n",
      " 2   visitors  62 non-null     int64         \n",
      "dtypes: datetime64[ns](1), int64(1), object(1)\n",
      "memory usage: 1.6+ KB\n"
     ]
    }
   ],
   "source": [
    "#Заменим значения дат в файлах orders и visits на тип данных datetime:\n",
    "orders['date'] = pd.to_datetime(orders['date'])\n",
    "visits['date'] = pd.to_datetime(visits['date'])\n",
    "orders.info()\n",
    "visits.info()"
   ]
  },
  {
   "cell_type": "code",
   "execution_count": 12,
   "metadata": {},
   "outputs": [
    {
     "name": "stdout",
     "output_type": "stream",
     "text": [
      "58\n"
     ]
    }
   ],
   "source": [
    "print(orders.groupby('visitorid', as_index=False).agg({'group' : 'nunique'}).query('group>1')['visitorid'].count())"
   ]
  },
  {
   "cell_type": "code",
   "execution_count": 9,
   "metadata": {
    "scrolled": true
   },
   "outputs": [
    {
     "name": "stdout",
     "output_type": "stream",
     "text": [
      "Всего пользователей в выборке:  1031\n",
      "Всего заказов в выборке:  1197\n",
      "Количество пользователей в группе А:  503\n",
      "Количество пользователей в группе B:  586\n",
      "Количество пересекающихся пользователей в группах А и В:  58\n",
      "Количество заказов у пересекающихся пользователей:  181\n",
      "Доля суммы заказов у пересекающихся пользователей по отношению\n",
      " ко всей сумме заказов:  15.6 %\n",
      "\n",
      "Все транзакции посетителей, у которых есть заказы с одной и той же датой, номером посетителя, суммой заказа:\n",
      "     transactionid   visitorid       date  revenue group\n",
      "415     1825231501  2587333274 2019-08-06     8870     B\n",
      "662     1811671147  4266935830 2019-08-29    78990     A\n",
      "682     1216533772  4266935830 2019-08-29    78990     B\n",
      "729     2667448076  2587333274 2019-08-07     6170     B\n",
      "970     3478707774  2587333274 2019-08-08     3600     A\n",
      "972     2419539947  2587333274 2019-08-08     3600     B\n"
     ]
    }
   ],
   "source": [
    "#Посмотрим, сколько посетителей в группе А и группе В и есть ли среди них те, кто попал \n",
    "#одноверменно и в группу А и в группу В.\n",
    "visitorsA = orders[orders['group'] == 'A'].groupby('visitorid', as_index=False)\\\n",
    "             .agg({'visitorid': 'max', 'transactionid': 'count'})\n",
    "visitorsB = orders[orders['group'] == 'B'].groupby('visitorid', as_index=False)\\\n",
    "             .agg({'visitorid': 'max', 'transactionid': 'count'}) \n",
    "print('Всего пользователей в выборке: ', len(orders.groupby('visitorid', as_index=False)))\n",
    "print('Всего заказов в выборке: ', len(orders.groupby('transactionid', as_index=False)))\n",
    "print('Количество пользователей в группе А: ', len(visitorsA))\n",
    "print('Количество пользователей в группе B: ', len(visitorsB))\n",
    "\n",
    "\n",
    "#выделим данные по пересекающимся посетителям в группах А и В в отдельную переменную ordersAB, составив предварительно список \n",
    "#таких посетителей в visitorsAB\n",
    "visitorsAB = visitorsB[visitorsB['visitorid'].isin(visitorsA['visitorid'].unique())]\n",
    "ordersAB = orders[orders['visitorid'].isin(visitorsAB['visitorid'].unique())]\n",
    "print('Количество пересекающихся пользователей в группах А и В: ', len(ordersAB['visitorid'].unique()))\n",
    "print('Количество заказов у пересекающихся пользователей: ', len(ordersAB['visitorid']))\n",
    "print('Доля суммы заказов у пересекающихся пользователей по отношению\\n ко всей сумме заказов: ', \\\n",
    "      round((ordersAB['revenue'].sum()/orders['revenue'].sum()*100), 2), '%')\n",
    "\n",
    "\n",
    "#узнаем, есть ли посетители, у которых сразу в трех столбцах 'visitorid', 'date', 'revenue' одинаковые данные.\n",
    "ordersABC = ordersAB[ordersAB.duplicated(['visitorid', 'date', 'revenue'])]\n",
    "print('')\n",
    "print('Все транзакции посетителей, у которых есть заказы с одной и той же датой, номером посетителя, суммой заказа:')\n",
    "print(ordersAB[(ordersAB['visitorid'].isin(ordersABC['visitorid'].unique()))]);"
   ]
  },
  {
   "cell_type": "markdown",
   "metadata": {},
   "source": [
    "В данных присутствуют посетители, которые отмечены как в группе А, так и в группе В - пересекаюшиеся клиенты.\n",
    "Из 1031 посетителя 58 являются пересекающимися. \n",
    "Сумма заказов пересекающихся клиентов превышает 15% от общей суммы заказов всех посетителей.\n",
    "Есть также по 2 транзакции в группах А и В, которые имеют одну и ту же дату, номер посетителя, сумму заказа, но при этом\n",
    "они находятся в разных группах и номер каждой транзакции отличается. Поэтому считаю, что это разные заказы и они не являются дубликатами.   <br>\n",
    "Учитывая, что явных дубликатов нет, аномальных значений нет, заказы не зависят один от другого, то удаление данных по всем пересекающимся посетителям (имеющим уникальные номера заказов) существенно повлияет на результат анализа. Оставим данные, как есть. "
   ]
  },
  {
   "cell_type": "markdown",
   "metadata": {},
   "source": [
    "**Подитог 1 по разделу об изучении данных:**  \n",
    "В таблице hypothesis 9 строк, пропусков нет, дубликатов нет. Перевели названия столбцов в нижний регистр.    \n",
    "В таблице orders 1197 строк, пропусков нет, дубликатов нет. Формат столбца date приведен к формату Datetime.  \n",
    "В таблице visits 62 строки, пропусков нет, дубликатов нет. Формат столбца date приведен к формату Datetime.  \n",
    "Есть аномальные значения (выбросы) столбца revenue таблицы orders, сильно выбивающиеся из общей массы значений этого столбца. \n",
    "<br>\n",
    "В данных присутствуют посетители, которые отмечены как в группе А, так и в группе В - пересекаюшиеся клиенты.\n",
    "Из 1031 посетителя 58 являются пересекающимися. \n",
    "Сумма заказов пересекающихся клиентов превышает 15% от общей суммы заказов всех посетителей.\n",
    "Есть также по 2 транзакции в группах А и В, которые имеют одну и ту же дату, номер посетителя, сумму заказа, но при этом\n",
    "они находятся в разных группах и номер каждой транзакции отличается. Поэтому считаю, что это разные заказы и они не являются дубликатами.   <br>\n",
    "Учитывая, что явных дубликатов нет, аномальных значений нет, заказы не зависят один от другого, то удаление данных по всем пересекающимся посетителям (имеющим уникальные номера заказов) существенно повлияет на результат анализа. Оставим данные, как есть."
   ]
  },
  {
   "cell_type": "markdown",
   "metadata": {},
   "source": [
    "### 2. Ранжирование гипотез в порядке приоритета"
   ]
  },
  {
   "cell_type": "markdown",
   "metadata": {},
   "source": [
    "#### 2.1. Применим фреймворк ICE для приоритизации гипотез. Отсортируем гипотезы по убыванию приоритета."
   ]
  },
  {
   "cell_type": "code",
   "execution_count": 15,
   "metadata": {
    "scrolled": true
   },
   "outputs": [
    {
     "data": {
      "text/html": [
       "<div>\n",
       "<style scoped>\n",
       "    .dataframe tbody tr th:only-of-type {\n",
       "        vertical-align: middle;\n",
       "    }\n",
       "\n",
       "    .dataframe tbody tr th {\n",
       "        vertical-align: top;\n",
       "    }\n",
       "\n",
       "    .dataframe thead th {\n",
       "        text-align: right;\n",
       "    }\n",
       "</style>\n",
       "<table border=\"1\" class=\"dataframe\">\n",
       "  <thead>\n",
       "    <tr style=\"text-align: right;\">\n",
       "      <th></th>\n",
       "      <th>hypothesis</th>\n",
       "      <th>ice</th>\n",
       "    </tr>\n",
       "  </thead>\n",
       "  <tbody>\n",
       "    <tr>\n",
       "      <th>8</th>\n",
       "      <td>Запустить акцию, дающую скидку на товар в день рождения</td>\n",
       "      <td>16.2</td>\n",
       "    </tr>\n",
       "    <tr>\n",
       "      <th>0</th>\n",
       "      <td>Добавить два новых канала привлечения трафика, что позволит привлекать на 30% больше пользователей</td>\n",
       "      <td>13.3</td>\n",
       "    </tr>\n",
       "    <tr>\n",
       "      <th>7</th>\n",
       "      <td>Добавить форму подписки на все основные страницы, чтобы собрать базу клиентов для email-рассылок</td>\n",
       "      <td>11.2</td>\n",
       "    </tr>\n",
       "    <tr>\n",
       "      <th>6</th>\n",
       "      <td>Показать на главной странице баннеры с актуальными акциями и распродажами, чтобы увеличить конверсию</td>\n",
       "      <td>8.0</td>\n",
       "    </tr>\n",
       "    <tr>\n",
       "      <th>2</th>\n",
       "      <td>Добавить блоки рекомендаций товаров на сайт интернет магазина, чтобы повысить конверсию и средний чек заказа</td>\n",
       "      <td>7.0</td>\n",
       "    </tr>\n",
       "    <tr>\n",
       "      <th>1</th>\n",
       "      <td>Запустить собственную службу доставки, что сократит срок доставки заказов</td>\n",
       "      <td>2.0</td>\n",
       "    </tr>\n",
       "    <tr>\n",
       "      <th>5</th>\n",
       "      <td>Добавить страницу отзывов клиентов о магазине, что позволит увеличить количество заказов</td>\n",
       "      <td>1.3</td>\n",
       "    </tr>\n",
       "    <tr>\n",
       "      <th>3</th>\n",
       "      <td>Изменить структура категорий, что увеличит конверсию, т.к. пользователи быстрее найдут нужный товар</td>\n",
       "      <td>1.1</td>\n",
       "    </tr>\n",
       "    <tr>\n",
       "      <th>4</th>\n",
       "      <td>Изменить цвет фона главной страницы, чтобы увеличить вовлеченность пользователей</td>\n",
       "      <td>1.0</td>\n",
       "    </tr>\n",
       "  </tbody>\n",
       "</table>\n",
       "</div>"
      ],
      "text/plain": [
       "                                                                                                     hypothesis  \\\n",
       "8                                                       Запустить акцию, дающую скидку на товар в день рождения   \n",
       "0            Добавить два новых канала привлечения трафика, что позволит привлекать на 30% больше пользователей   \n",
       "7              Добавить форму подписки на все основные страницы, чтобы собрать базу клиентов для email-рассылок   \n",
       "6          Показать на главной странице баннеры с актуальными акциями и распродажами, чтобы увеличить конверсию   \n",
       "2  Добавить блоки рекомендаций товаров на сайт интернет магазина, чтобы повысить конверсию и средний чек заказа   \n",
       "1                                     Запустить собственную службу доставки, что сократит срок доставки заказов   \n",
       "5                      Добавить страницу отзывов клиентов о магазине, что позволит увеличить количество заказов   \n",
       "3           Изменить структура категорий, что увеличит конверсию, т.к. пользователи быстрее найдут нужный товар   \n",
       "4                              Изменить цвет фона главной страницы, чтобы увеличить вовлеченность пользователей   \n",
       "\n",
       "    ice  \n",
       "8  16.2  \n",
       "0  13.3  \n",
       "7  11.2  \n",
       "6   8.0  \n",
       "2   7.0  \n",
       "1   2.0  \n",
       "5   1.3  \n",
       "3   1.1  \n",
       "4   1.0  "
      ]
     },
     "metadata": {},
     "output_type": "display_data"
    }
   ],
   "source": [
    "hypothesis['ice'] = round((hypothesis['impact']*hypothesis['confidence'])/(hypothesis['efforts']), 1)\n",
    "display(hypothesis[['hypothesis', 'ice']].sort_values(by='ice', ascending=False))"
   ]
  },
  {
   "cell_type": "markdown",
   "metadata": {},
   "source": [
    "#### 2.2. Применим фреймворк RICE для приоритизации гипотез. Отсортируем гипотезы по убыванию приоритета."
   ]
  },
  {
   "cell_type": "code",
   "execution_count": 16,
   "metadata": {
    "scrolled": true
   },
   "outputs": [
    {
     "data": {
      "text/html": [
       "<div>\n",
       "<style scoped>\n",
       "    .dataframe tbody tr th:only-of-type {\n",
       "        vertical-align: middle;\n",
       "    }\n",
       "\n",
       "    .dataframe tbody tr th {\n",
       "        vertical-align: top;\n",
       "    }\n",
       "\n",
       "    .dataframe thead th {\n",
       "        text-align: right;\n",
       "    }\n",
       "</style>\n",
       "<table border=\"1\" class=\"dataframe\">\n",
       "  <thead>\n",
       "    <tr style=\"text-align: right;\">\n",
       "      <th></th>\n",
       "      <th>hypothesis</th>\n",
       "      <th>rice</th>\n",
       "      <th>ice</th>\n",
       "    </tr>\n",
       "  </thead>\n",
       "  <tbody>\n",
       "    <tr>\n",
       "      <th>7</th>\n",
       "      <td>Добавить форму подписки на все основные страницы, чтобы собрать базу клиентов для email-рассылок</td>\n",
       "      <td>112.0</td>\n",
       "      <td>11.2</td>\n",
       "    </tr>\n",
       "    <tr>\n",
       "      <th>2</th>\n",
       "      <td>Добавить блоки рекомендаций товаров на сайт интернет магазина, чтобы повысить конверсию и средний чек заказа</td>\n",
       "      <td>56.0</td>\n",
       "      <td>7.0</td>\n",
       "    </tr>\n",
       "    <tr>\n",
       "      <th>0</th>\n",
       "      <td>Добавить два новых канала привлечения трафика, что позволит привлекать на 30% больше пользователей</td>\n",
       "      <td>40.0</td>\n",
       "      <td>13.3</td>\n",
       "    </tr>\n",
       "    <tr>\n",
       "      <th>6</th>\n",
       "      <td>Показать на главной странице баннеры с актуальными акциями и распродажами, чтобы увеличить конверсию</td>\n",
       "      <td>40.0</td>\n",
       "      <td>8.0</td>\n",
       "    </tr>\n",
       "    <tr>\n",
       "      <th>8</th>\n",
       "      <td>Запустить акцию, дающую скидку на товар в день рождения</td>\n",
       "      <td>16.2</td>\n",
       "      <td>16.2</td>\n",
       "    </tr>\n",
       "    <tr>\n",
       "      <th>3</th>\n",
       "      <td>Изменить структура категорий, что увеличит конверсию, т.к. пользователи быстрее найдут нужный товар</td>\n",
       "      <td>9.0</td>\n",
       "      <td>1.1</td>\n",
       "    </tr>\n",
       "    <tr>\n",
       "      <th>1</th>\n",
       "      <td>Запустить собственную службу доставки, что сократит срок доставки заказов</td>\n",
       "      <td>4.0</td>\n",
       "      <td>2.0</td>\n",
       "    </tr>\n",
       "    <tr>\n",
       "      <th>5</th>\n",
       "      <td>Добавить страницу отзывов клиентов о магазине, что позволит увеличить количество заказов</td>\n",
       "      <td>4.0</td>\n",
       "      <td>1.3</td>\n",
       "    </tr>\n",
       "    <tr>\n",
       "      <th>4</th>\n",
       "      <td>Изменить цвет фона главной страницы, чтобы увеличить вовлеченность пользователей</td>\n",
       "      <td>3.0</td>\n",
       "      <td>1.0</td>\n",
       "    </tr>\n",
       "  </tbody>\n",
       "</table>\n",
       "</div>"
      ],
      "text/plain": [
       "                                                                                                     hypothesis  \\\n",
       "7              Добавить форму подписки на все основные страницы, чтобы собрать базу клиентов для email-рассылок   \n",
       "2  Добавить блоки рекомендаций товаров на сайт интернет магазина, чтобы повысить конверсию и средний чек заказа   \n",
       "0            Добавить два новых канала привлечения трафика, что позволит привлекать на 30% больше пользователей   \n",
       "6          Показать на главной странице баннеры с актуальными акциями и распродажами, чтобы увеличить конверсию   \n",
       "8                                                       Запустить акцию, дающую скидку на товар в день рождения   \n",
       "3           Изменить структура категорий, что увеличит конверсию, т.к. пользователи быстрее найдут нужный товар   \n",
       "1                                     Запустить собственную службу доставки, что сократит срок доставки заказов   \n",
       "5                      Добавить страницу отзывов клиентов о магазине, что позволит увеличить количество заказов   \n",
       "4                              Изменить цвет фона главной страницы, чтобы увеличить вовлеченность пользователей   \n",
       "\n",
       "    rice   ice  \n",
       "7  112.0  11.2  \n",
       "2   56.0   7.0  \n",
       "0   40.0  13.3  \n",
       "6   40.0   8.0  \n",
       "8   16.2  16.2  \n",
       "3    9.0   1.1  \n",
       "1    4.0   2.0  \n",
       "5    4.0   1.3  \n",
       "4    3.0   1.0  "
      ]
     },
     "metadata": {},
     "output_type": "display_data"
    }
   ],
   "source": [
    "hypothesis['rice'] = (hypothesis['reach']*hypothesis['impact']*hypothesis['confidence'])/(hypothesis['efforts'])\n",
    "display(hypothesis[['hypothesis', 'rice', 'ice']].sort_values(by='rice', ascending=False))"
   ]
  },
  {
   "cell_type": "markdown",
   "metadata": {},
   "source": [
    "#### 2.3.Рассмотрим, как изменилась приоритизация гипотез при применении фреймфорка RICE вместо ICE. "
   ]
  },
  {
   "cell_type": "markdown",
   "metadata": {},
   "source": [
    " *Подитог раздела 2 Ранжирование гипотез:*  \n",
    "При применении фреймворка ICE для приоретизации гипотез в таблице выше, высший приоритет получили гипотезы 8, 0, 7. При применении фреймворка \n",
    "RICE для приоретизации гипотез, высший приоритет получили гипотезы 7, 2, 0, 6. Разница в фреймфорках заключается в учете числа \n",
    "пользователей, которых предполагаемое изменение затронет (охват). Поэтому если охват учитывается (RICE), то более приоритетными становятся гипотезы 7, 2, 0, 6.  \n",
    "В обоих фреймворках среди наиболее приоритетных гипотез находятся гипотезы 0 и 7."
   ]
  },
  {
   "cell_type": "markdown",
   "metadata": {},
   "source": [
    "### 3. Анализ проведенного A/B-теста и полученных результатов (из файлов orders.csv и visitors.csv):"
   ]
  },
  {
   "cell_type": "markdown",
   "metadata": {},
   "source": [
    "#### 3.1. Построим график кумулятивной выручки по группам. "
   ]
  },
  {
   "cell_type": "code",
   "execution_count": 11,
   "metadata": {
    "scrolled": true
   },
   "outputs": [
    {
     "name": "stdout",
     "output_type": "stream",
     "text": [
      "        date group  orders  buyers  revenue  visitors\n",
      "0 2019-08-01     A      24      20   148579       719\n",
      "1 2019-08-01     B      21      20   101217       713\n",
      "2 2019-08-02     A      44      38   242401      1338\n",
      "3 2019-08-02     B      45      43   266748      1294\n",
      "4 2019-08-03     A      68      62   354874      1845\n"
     ]
    }
   ],
   "source": [
    "# создаем массив уникальных пар значений дат и групп теста\n",
    "datesGroups = orders[['date','group']].drop_duplicates()\n",
    "\n",
    "# получаем агрегированные кумулятивные по дням данные о заказах \n",
    "ordersAggregated = datesGroups.apply(lambda x: orders[np.logical_and(orders['date'] <= x['date'], orders['group'] == \n",
    "x['group'])].agg({'date' : 'max', 'group' : 'max', 'transactionid' : 'nunique', 'visitorid' : 'nunique', 'revenue' : 'sum'}), \n",
    "axis=1).sort_values(by=['date','group'])\n",
    "\n",
    "# получаем агрегированные кумулятивные по дням данные о посетителях интернет-магазина \n",
    "visitorsAggregated = datesGroups.apply(lambda x: visits[np.logical_and(visits['date'] <= x['date'], visits['group'] == \n",
    "     x['group'])].agg({'date' : 'max', 'group' : 'max', 'visitors' : 'sum'}), axis=1).sort_values(by=['date','group'])\n",
    "\n",
    "# объединяем кумулятивные данные в одной таблице и присваиваем ее столбцам понятные названия\n",
    "cumulativeData = ordersAggregated.merge(visitorsAggregated, left_on=['date', 'group'], right_on=['date', 'group'])\n",
    "cumulativeData.columns = ['date', 'group', 'orders', 'buyers', 'revenue', 'visitors']\n",
    "\n",
    "print(cumulativeData.head()) "
   ]
  },
  {
   "cell_type": "markdown",
   "metadata": {},
   "source": [
    "Построим графики кумулятивной выручки по дням и группам A/B-тестирования: \n"
   ]
  },
  {
   "cell_type": "code",
   "execution_count": 73,
   "metadata": {
    "scrolled": false
   },
   "outputs": [
    {
     "data": {
      "image/png": "[encoded data removed]",
      "text/plain": [
       "<Figure size 864x432 with 1 Axes>"
      ]
     },
     "metadata": {},
     "output_type": "display_data"
    }
   ],
   "source": [
    "# датафрейм с кумулятивным количеством заказов и кумулятивной выручкой по дням в группе А\n",
    "cumulativeRevenueA = cumulativeData[cumulativeData['group']=='A'][['date','revenue', 'orders']]\n",
    "\n",
    "# датафрейм с кумулятивным количеством заказов и кумулятивной выручкой по дням в группе B\n",
    "cumulativeRevenueB = cumulativeData[cumulativeData['group']=='B'][['date','revenue', 'orders']]\n",
    "\n",
    "plt.figure(figsize=(12, 6))\n",
    "# Строим график выручки группы А\n",
    "plt.plot(cumulativeRevenueA['date'], cumulativeRevenueA['revenue'], label='A')\n",
    "\n",
    "# Строим график выручки группы B\n",
    "plt.plot(cumulativeRevenueB['date'], cumulativeRevenueB['revenue'], label='B')\n",
    "plt.legend(title='Группы теста:')\n",
    "plt.xlabel('Дата')\n",
    "plt.ylabel('Кумулятивная выручка групп')\n",
    "plt.title('Кумулятивная выручка по дням в группе А и группе B');"
   ]
  },
  {
   "cell_type": "markdown",
   "metadata": {},
   "source": [
    "Кумулятивные выручки обеих группп растут почти равномерно. В группе B был небольшой период (18-19 августа) резкого роста выручки \n",
    "(большие заказы или большое количество заказов). Выручка группы В стабильно больше выручки группы А."
   ]
  },
  {
   "cell_type": "markdown",
   "metadata": {},
   "source": [
    "#### 3.2. Постром график кумулятивного среднего чека по группам. "
   ]
  },
  {
   "cell_type": "code",
   "execution_count": 72,
   "metadata": {
    "scrolled": false
   },
   "outputs": [
    {
     "data": {
      "image/png": "[encoded data removed]",
      "text/plain": [
       "<Figure size 864x432 with 1 Axes>"
      ]
     },
     "metadata": {},
     "output_type": "display_data"
    }
   ],
   "source": [
    "plt.figure(figsize=(12, 6))\n",
    "plt.plot(cumulativeRevenueA['date'], cumulativeRevenueA['revenue']/cumulativeRevenueA['orders'], label='A')\n",
    "plt.plot(cumulativeRevenueB['date'], cumulativeRevenueB['revenue']/cumulativeRevenueB['orders'], label='B')\n",
    "plt.legend(title='Группы теста:')\n",
    "plt.xlabel('Дата')\n",
    "plt.ylabel('Кумулятивный средний чек групп')\n",
    "plt.title('Кумулятивный средний чек по дням в группе А и группе B');"
   ]
  },
  {
   "cell_type": "markdown",
   "metadata": {},
   "source": [
    "Графики средних чеков обеих групп до 19 августа сильно менялись. Ососбенно 18-19 августа были сильные изменения в среднем чеке группы B. После 19 августа средний чек групп стал более равномерным. \n",
    "При этом в группе В он продолжает падать с 19 августа, а в группе А он установился в районе 7000.  \n",
    "Средний чек группы В выше среднего чека группы А. "
   ]
  },
  {
   "cell_type": "markdown",
   "metadata": {},
   "source": [
    "#### 3.3. Построим график относительного изменения кумулятивного среднего чека группы B к группе A. "
   ]
  },
  {
   "cell_type": "code",
   "execution_count": 71,
   "metadata": {
    "scrolled": false
   },
   "outputs": [
    {
     "data": {
      "image/png": "[encoded data removed]",
      "text/plain": [
       "<Figure size 864x432 with 1 Axes>"
      ]
     },
     "metadata": {},
     "output_type": "display_data"
    }
   ],
   "source": [
    "# собираем данные в одном датафрейме\n",
    "mergedCumulativeRevenue = cumulativeRevenueA.merge(cumulativeRevenueB, left_on='date', right_on='date', how='left', \n",
    "                                                   suffixes=['A', 'B'])\n",
    "plt.figure(figsize=(12, 6))\n",
    "# cтроим отношение средних чеков\n",
    "plt.plot(mergedCumulativeRevenue['date'], (mergedCumulativeRevenue['revenueB']/mergedCumulativeRevenue['ordersB'])/\n",
    "         (mergedCumulativeRevenue['revenueA']/mergedCumulativeRevenue['ordersA'])-1)\n",
    "\n",
    "# добавляем ось X\n",
    "plt.axhline(y=0, color='black', linestyle='--') \n",
    "plt.xlabel('Дата')\n",
    "plt.ylabel('Прирост среднего чека группы В к группе А')\n",
    "plt.title('Относительный прирост среднего чека группы В\\n к группе А');"
   ]
  },
  {
   "cell_type": "markdown",
   "metadata": {},
   "source": [
    "График различия среднего чека между сегментами резко «скачет» в нескольких местах. Скорее всего, это влияние крупных заказов и выбросов. Текущий график показывает, что средний чек у группы В больше, чем средний чек группы А."
   ]
  },
  {
   "cell_type": "markdown",
   "metadata": {},
   "source": [
    "#### 3.4. Построить график кумулятивного среднего количества заказов на посетителя по группам. Сделать выводы и предположения."
   ]
  },
  {
   "cell_type": "code",
   "execution_count": 70,
   "metadata": {
    "scrolled": true
   },
   "outputs": [
    {
     "data": {
      "image/png": "[encoded data removed]",
      "text/plain": [
       "<Figure size 864x216 with 1 Axes>"
      ]
     },
     "metadata": {},
     "output_type": "display_data"
    }
   ],
   "source": [
    "# считаем кумулятивное среднее количества заказов на посетителя \n",
    "cumulativeData['conversion'] = cumulativeData['orders']/cumulativeData['visitors']\n",
    "\n",
    "# отделяем данные по группе A\n",
    "cumulativeDataA = cumulativeData[cumulativeData['group']=='A']\n",
    "\n",
    "# отделяем данные по группе B\n",
    "cumulativeDataB = cumulativeData[cumulativeData['group']=='B']\n",
    "\n",
    "plt.figure(figsize=(12, 3))\n",
    "# строим графики\n",
    "plt.plot(cumulativeDataA['date'], cumulativeDataA['conversion'], label='A')\n",
    "plt.plot(cumulativeDataB['date'], cumulativeDataB['conversion'], label='B')\n",
    "plt.legend(title='Группы теста:')\n",
    "plt.xlabel('Дата')\n",
    "plt.ylabel('Кумулятивное среднее\\n количество заказов групп')\n",
    "plt.title('Кумулятивное среднее количество заказов на посетителя в группе А и группе B');\n"
   ]
  },
  {
   "cell_type": "markdown",
   "metadata": {},
   "source": [
    "Кумулятивное среднее количество заказов на посетителя в группе А и В зафиксировалось.   \n",
    "При этом с 06 августа среднее количество заказов на посетителя в группе В стабильно выше, чем в группе А."
   ]
  },
  {
   "cell_type": "markdown",
   "metadata": {},
   "source": [
    "#### 3.5. Построим график относительного изменения кумулятивного среднего количества заказов на посетителя группы B к группе A. "
   ]
  },
  {
   "cell_type": "code",
   "execution_count": 74,
   "metadata": {},
   "outputs": [
    {
     "data": {
      "image/png": "[encoded data removed]",
      "text/plain": [
       "<Figure size 864x288 with 1 Axes>"
      ]
     },
     "metadata": {},
     "output_type": "display_data"
    }
   ],
   "source": [
    "mergedCumulativeConversions = cumulativeDataA[['date','conversion']].merge(cumulativeDataB[['date','conversion']], \n",
    "                                                left_on='date', right_on='date', how='left', suffixes=['A', 'B'])\n",
    "plt.figure(figsize=(12, 4))\n",
    "plt.plot(mergedCumulativeConversions['date'], mergedCumulativeConversions['conversionB']/\n",
    "         mergedCumulativeConversions['conversionA']-1)\n",
    "plt.axhline(y=0, color='black', linestyle='--')\n",
    "plt.axhline(y=0.1, color='grey', linestyle='--')\n",
    "plt.xlabel('Дата')\n",
    "plt.ylabel('Прирост кумулятивного\\n среднего количества заказов\\n на посетителя группы В к группе А')\n",
    "plt.title('Относительный прирост кумулятивного среднего\\n количества заказов на посетителя группы В к группе А');"
   ]
  },
  {
   "cell_type": "markdown",
   "metadata": {},
   "source": [
    "В начале теста группа B проигрывала группе A по количеству заказов на посетителя. Затем c 06 августа кумулятивное количество заказов на посетителя группы В была стабильно выше, чем в группе А. "
   ]
  },
  {
   "cell_type": "markdown",
   "metadata": {},
   "source": [
    "#### 3.6. Построим точечный график количества заказов по пользователям. "
   ]
  },
  {
   "cell_type": "code",
   "execution_count": 75,
   "metadata": {
    "scrolled": false
   },
   "outputs": [
    {
     "data": {
      "image/png": "[encoded data removed]",
      "text/plain": [
       "<Figure size 432x288 with 1 Axes>"
      ]
     },
     "metadata": {},
     "output_type": "display_data"
    }
   ],
   "source": [
    "ordersByUsers = orders.groupby('visitorid', as_index=False).agg({'transactionid': 'nunique'})\n",
    "ordersByUsers.columns = ['userid', 'orders']\n",
    "x_values = pd.Series(range(0,len(ordersByUsers)))\n",
    "plt.scatter(x_values, ordersByUsers['orders']) \n",
    "plt.xlabel('Порядковый номер клиента')\n",
    "plt.ylabel('Количество заказов')\n",
    "plt.title('Количество заказов по пользователям');"
   ]
  },
  {
   "cell_type": "markdown",
   "metadata": {},
   "source": [
    "Основная масса клиентов сделала не более 3 заказов. Есть несколько клиентов, которые сделали более 3 заказов, в том числе 11 заказов."
   ]
  },
  {
   "cell_type": "markdown",
   "metadata": {},
   "source": [
    "#### 3.7. Посчитаем 95-й и 99-й перцентили количества заказов на пользователя. Выберем границу для определения аномальных пользователей."
   ]
  },
  {
   "cell_type": "code",
   "execution_count": 18,
   "metadata": {
    "scrolled": true
   },
   "outputs": [
    {
     "name": "stdout",
     "output_type": "stream",
     "text": [
      "[2. 4.]\n"
     ]
    }
   ],
   "source": [
    "print(np.percentile(ordersByUsers['orders'], [95, 99])) "
   ]
  },
  {
   "cell_type": "markdown",
   "metadata": {},
   "source": [
    "Не более 5% пользователей оформляли больше, чем 2.0 заказа. И 1% пользователей заказывали более 4.0 раз. \n",
    "Выбираем за верхнюю границу числа заказов 4 заказа на одного пользователя. \n",
    "Аномальными пользователями будут те, кто совершил 5 и более заказов (их не более 1%)."
   ]
  },
  {
   "cell_type": "markdown",
   "metadata": {},
   "source": [
    "#### 3.8. Построим точечный график стоимостей заказов. "
   ]
  },
  {
   "cell_type": "code",
   "execution_count": 280,
   "metadata": {
    "scrolled": true
   },
   "outputs": [
    {
     "data": {
      "image/png": "[encoded data removed]",
      "text/plain": [
       "<Figure size 432x288 with 1 Axes>"
      ]
     },
     "metadata": {},
     "output_type": "display_data"
    }
   ],
   "source": [
    "x_values = pd.Series(range(0,len(orders['revenue'])))\n",
    "plt.scatter(x_values, orders['revenue']) \n",
    "plt.xlabel('Порядковый номер заказа')\n",
    "plt.ylabel('Сумма заказа')\n",
    "plt.title('Сумма одного заказа');"
   ]
  },
  {
   "cell_type": "markdown",
   "metadata": {},
   "source": [
    "Основная масса заказов не дороже 0.2. Есть один заказ на сумму более 1,2, являясь аномальным значением."
   ]
  },
  {
   "cell_type": "markdown",
   "metadata": {},
   "source": [
    "Рассмотрим тот же график стоимостей заказов, но без двух аномальных значений выручки (возьмем значения ниже 180000)."
   ]
  },
  {
   "cell_type": "code",
   "execution_count": 298,
   "metadata": {},
   "outputs": [
    {
     "data": {
      "image/png": "[encoded data removed]",
      "text/plain": [
       "<Figure size 432x288 with 1 Axes>"
      ]
     },
     "metadata": {},
     "output_type": "display_data"
    }
   ],
   "source": [
    "x_values = pd.Series(range(0,len(orders[orders['revenue']<180000]['revenue'])))\n",
    "plt.scatter(x_values, orders[orders['revenue']<180000]['revenue']) \n",
    "plt.xlabel('Порядковый номер заказа')\n",
    "plt.ylabel('Сумма заказа')\n",
    "plt.title('Сумма одного заказа');"
   ]
  },
  {
   "cell_type": "markdown",
   "metadata": {},
   "source": [
    "Основная масса заказов, за исключением двух выбросов, имеет стоимость ниже 60000."
   ]
  },
  {
   "cell_type": "markdown",
   "metadata": {},
   "source": [
    "#### 3.9. Посчитаем 95-й и 99-й перцентили стоимости заказов. Выберем границу для определения аномальных заказов."
   ]
  },
  {
   "cell_type": "code",
   "execution_count": 20,
   "metadata": {
    "scrolled": true
   },
   "outputs": [
    {
     "name": "stdout",
     "output_type": "stream",
     "text": [
      "[28000.  58233.2]\n"
     ]
    }
   ],
   "source": [
    "print(np.percentile(orders['revenue'], [95, 99])) "
   ]
  },
  {
   "cell_type": "markdown",
   "metadata": {},
   "source": [
    "Имеется не более 5% заказов на сумму больше, чем 28 000. И 1% закзазов на сумму, больше, чем 58233.2. \n",
    "Выбираем за верхнюю границу суммы заказа 58233.2. Аномальными заказами будут те, сумма которых составит более 58233.2 (их не более 1%)."
   ]
  },
  {
   "cell_type": "markdown",
   "metadata": {},
   "source": [
    "#### 3.10. Посчитаем статистическую значимость различий в среднем количестве заказов на посетителя между группами по «сырым» данным. "
   ]
  },
  {
   "cell_type": "markdown",
   "metadata": {},
   "source": [
    "Посчитаем статистическую значимость различия в среднем количестве заказов между группами. \n",
    "    \n",
    "   Сформулируем основную гипотезу и ее альтернативу:  \n",
    "   - Нулевая гипотеза H_0: различий в среднем количестве заказов между группами нет.  \n",
    "   - Альтернативная гипотеза H_1: различия в среднем количестве заказов между группами имеются.  \n",
    "   Критический уровень статистической значимости примем в размере alpha = 0.05  \n",
    "   Для проверки гипотезы рассмотрим тест Уилкоксона-Манна-Уитни, основанный на структурном подходе, или непараметрический.\n",
    "\n",
    "Так как работа с самими значениями параметрических критериев невозможна из-за сильных выбросов (сильно сдвигающих параметрические результаты), то в данном случае проверять гипотезу будем с помощью непараметрического теста Уилкоксона-Манна-Уитни. Для этого используем критерий Манна-Уитни. Вероятности получения разных значений критерия Манна-Уитни рассчитаны теоретически, что даёт возможность делать вывод о различии или его отсутствии для любого заданного уровня значимости.\n"
   ]
  },
  {
   "cell_type": "code",
   "execution_count": 300,
   "metadata": {},
   "outputs": [
    {
     "name": "stdout",
     "output_type": "stream",
     "text": [
      "p-значение:  0.01679\n",
      "Отвергаем нулевую гипотезу: разница статистически значима\n",
      "0.138\n"
     ]
    }
   ],
   "source": [
    "#Создадим переменные ordersByUsersA и ordersByUsersB со столбцами ['userid', 'orders']. \n",
    "#В них для пользователей, которые заказывали хотя бы 1 раз, укажем число совершённых заказов\n",
    "ordersByUsersA = orders[orders['group'] == 'A'].groupby('visitorid', as_index=False).agg({'transactionid': pd.Series.nunique})\n",
    "ordersByUsersA.columns = ['userid', 'orders']\n",
    "\n",
    "ordersByUsersB = orders[orders['group'] == 'B'].groupby('visitorid', as_index=False).agg({'transactionid': pd.Series.nunique})\n",
    "ordersByUsersB.columns = ['userid', 'orders']\n",
    "\n",
    "\n",
    "#Объявим переменные sampleA и sampleB, в которых пользователям из разных групп будет соответствовать количество заказов. \n",
    "#Тем, кто ничего не заказал, будут соответствовать нули.\n",
    "\n",
    "sampleA = pd.concat([ordersByUsersA['orders'], pd.Series(0, index=np.arange(\n",
    "          visits[visits['group'] == 'A']['visitors'].sum() - len(ordersByUsersA['orders'])), name='orders')], axis=0)\n",
    "\n",
    "sampleB = pd.concat([ordersByUsersB['orders'], pd.Series(0, index=np.arange(\n",
    "          visits[visits['group'] == 'B']['visitors'].sum() - len(ordersByUsersB['orders'])), name='orders')], axis=0)\n",
    "\n",
    "#Посчитаем статистическую значимость различия в среднем количестве заказов между группами.\n",
    "#Применим критерий и отформатируем p-value, округлив его до 5 знаков после запятой.\n",
    "\n",
    "alpha = 0.05 # критический уровень статистической значимости\n",
    "results = stats.mannwhitneyu(sampleA, sampleB)\n",
    "print('p-значение: ',\"{0:.5f}\".format(results[1]))\n",
    "\n",
    "if results[1] < alpha:\n",
    "    print('Отвергаем нулевую гипотезу: разница статистически значима')\n",
    "else:\n",
    "    print('Не получилось отвергнуть нулевую гипотезу, вывод о различии сделать нельзя') \n",
    "\n",
    "#Выведем относительный прирост среднего числа заказов группы B к группе А:\n",
    "print(\"{0:.3f}\".format(sampleB.mean() / sampleA.mean() - 1))"
   ]
  },
  {
   "cell_type": "markdown",
   "metadata": {},
   "source": [
    "Согласно непараметрического теста Уилкоксона-Манна-Уитни среднее количество заказов у групп А и В отличаются.   \n",
    "Относительный выигрыш группы B равен 13.8%"
   ]
  },
  {
   "cell_type": "markdown",
   "metadata": {},
   "source": [
    "#### 3.11. Посчитаем статистическую значимость различий в среднем чеке заказа между группами по «сырым» данным. "
   ]
  },
  {
   "cell_type": "markdown",
   "metadata": {},
   "source": [
    "Сформулируем основную гипотезу и ее альтернативу:      \n",
    "   <p> -Нулевая гипотеза H_0: различий в среднем чеке заказа между группами нет.    <p> \n",
    " <p>   -Альтернативная гипотеза H_1: различия в среднем чеке заказа между группами имеются.  <p>    \n",
    "    Критический уровень статистической значимости примем в размере alpha = 0.05    "
   ]
  },
  {
   "cell_type": "code",
   "execution_count": 22,
   "metadata": {},
   "outputs": [
    {
     "name": "stdout",
     "output_type": "stream",
     "text": [
      "p-значение:  0.72929\n",
      "Не получилось отвергнуть нулевую гипотезу, вывод о различии сделать нельзя\n",
      "0.259\n"
     ]
    }
   ],
   "source": [
    "#Посчитаем статистическую значимость различия в среднем чеке заказа между группами.\n",
    "#Применим критерий и отформатируем p-value, округлив его до 5 знаков после запятой.\n",
    "\n",
    "alpha = 0.05 # критический уровень статистической значимости\n",
    "results = stats.mannwhitneyu(orders[orders['group']=='A']['revenue'], orders[orders['group']=='B']['revenue'])\n",
    "print('p-значение: ',\"{0:.5f}\".format(results[1]))\n",
    "\n",
    "if results[1] < alpha:\n",
    "    print('Отвергаем нулевую гипотезу: разница статистически значима')\n",
    "else:\n",
    "    print('Не получилось отвергнуть нулевую гипотезу, вывод о различии сделать нельзя') \n",
    "\n",
    "#Выведем относительный прирост среднего чека группы B к группе А: \n",
    "print('{0:.3f}'.format(orders[orders['group']=='B']['revenue'].mean()/orders[orders['group']=='A']['revenue'].mean()-1)) "
   ]
  },
  {
   "cell_type": "markdown",
   "metadata": {},
   "source": [
    "Согласно непараметрического теста Уилкоксона-Манна-Уитни различий в среднем чеке заказа между группами А и В нет.\n",
    "Относительный выигрыш группы B равен 25.9%"
   ]
  },
  {
   "cell_type": "markdown",
   "metadata": {},
   "source": [
    "#### 3.12. Посчитаем статистическую значимость различий в среднем количестве заказов на посетителя между группами по «очищенным» данным. "
   ]
  },
  {
   "cell_type": "code",
   "execution_count": 23,
   "metadata": {},
   "outputs": [
    {
     "name": "stdout",
     "output_type": "stream",
     "text": [
      "15\n"
     ]
    }
   ],
   "source": [
    "#Как отмечали выше 99% процентили по количеству заказов на клиента и стоимости заказа составили 4.0 и 58233.2.\n",
    "#Превышение этих значений считаем аномальными выбросами. Сгруппируем клиентов с аномальными данными.\n",
    "\n",
    "usersWithManyOrders = pd.concat([ordersByUsersA[ordersByUsersA['orders'] > 4]['userid'], \n",
    "                      ordersByUsersB[ordersByUsersB['orders'] > 4]['userid']],  axis=0)\n",
    "usersWithExpensiveOrders = orders[orders['revenue'] > 58233.2]['visitorid']\n",
    "abnormalUsers = pd.concat([usersWithManyOrders, usersWithExpensiveOrders], axis=0).drop_duplicates().sort_values()\n",
    "\n",
    "print(abnormalUsers.shape[0]) #количество клиентов с аномальными значениями количества или стоимости заказа."
   ]
  },
  {
   "cell_type": "markdown",
   "metadata": {},
   "source": [
    "Сформулируем основную гипотезу и ее альтернативу:  \n",
    "<p>- Нулевая гипотеза H_0: различий в среднем количестве заказов между группами нет.  <p>\n",
    "<p>- Альтернативная гипотеза H_1: различия в среднем количестве заказов между группами имеются.  <p>\n",
    "Критический уровень статистической значимости примем в размере alpha = 0.05 "
   ]
  },
  {
   "cell_type": "code",
   "execution_count": 24,
   "metadata": {},
   "outputs": [
    {
     "name": "stdout",
     "output_type": "stream",
     "text": [
      "p-значение:  0.01438\n",
      "Отвергаем нулевую гипотезу: разница статистически значима\n",
      "0.153\n"
     ]
    }
   ],
   "source": [
    "sampleAFiltered = pd.concat([ordersByUsersA[np.logical_not(ordersByUsersA['userid'].isin(abnormalUsers))]['orders'],\n",
    "        pd.Series(0, index=np.arange(visits[visits['group'] == 'A']['visitors'].sum() - len(ordersByUsersA['orders'])),\n",
    "            name='orders' )], axis=0)\n",
    "\n",
    "sampleBFiltered = pd.concat([ordersByUsersB[np.logical_not(ordersByUsersB['userid'].isin(abnormalUsers))]['orders'],\n",
    "        pd.Series(0, index=np.arange(visits[visits['group'] == 'B']['visitors'].sum() - len(ordersByUsersB['orders'])),\n",
    "            name='orders')], axis=0) \n",
    "\n",
    "#Посчитаем статистическую значимость различия в среднем количестве заказов между группами.\n",
    "#Применим критерий и отформатируем p-value, округлив его до 5 знаков после запятой.\n",
    "\n",
    "alpha = 0.05 # критический уровень статистической значимости\n",
    "results = stats.mannwhitneyu(sampleAFiltered, sampleBFiltered)\n",
    "print('p-значение: ',\"{0:.5f}\".format(results[1]))\n",
    "\n",
    "if results[1] < alpha:\n",
    "    print('Отвергаем нулевую гипотезу: разница статистически значима')\n",
    "else:\n",
    "    print('Не получилось отвергнуть нулевую гипотезу, вывод о различии сделать нельзя') \n",
    "\n",
    "#Выведем относительный прирост среднего числа заказов группы B к группе А:\n",
    "print('{0:.3f}'.format(sampleBFiltered.mean()/sampleAFiltered.mean()-1)) "
   ]
  },
  {
   "cell_type": "markdown",
   "metadata": {},
   "source": [
    "Согласно непараметрического теста Уилкоксона-Манна-Уитни среднее количество заказов у групп А и В отличаются также и по \"очищенным\" данным.\n",
    "Относительный выигрыш группы B увеличился по \"очищенным\" данным и равен 15.3%."
   ]
  },
  {
   "cell_type": "markdown",
   "metadata": {},
   "source": [
    "#### 3.13. Посчитаем статистическую значимость различий в среднем чеке заказа между группами по «очищенным» данным. "
   ]
  },
  {
   "cell_type": "markdown",
   "metadata": {},
   "source": [
    "Сформулируем основную гипотезу и ее альтернативу:  \n",
    "<p>- Нулевая гипотеза H_0: различий в среднем чеке заказа между группами нет.  <p>\n",
    "<p>- Альтернативная гипотеза H_1: различия в среднем чеке заказа между группами имеются.  <p>\n",
    "Критический уровень статистической значимости примем в размере alpha = 0.05  "
   ]
  },
  {
   "cell_type": "code",
   "execution_count": 25,
   "metadata": {
    "scrolled": true
   },
   "outputs": [
    {
     "name": "stdout",
     "output_type": "stream",
     "text": [
      "p-значение:  0.85091\n",
      "Не получилось отвергнуть нулевую гипотезу, вывод о различии сделать нельзя\n",
      "-0.006\n"
     ]
    }
   ],
   "source": [
    "#Посчитаем статистическую значимость различия в среднем чеке заказа между группами.\n",
    "#Применим критерий и отформатируем p-value, округлив его до 5 знаков после запятой.\n",
    "\n",
    "alpha = 0.05 # критический уровень статистической значимости\n",
    "results = stats.mannwhitneyu(orders[np.logical_and(orders['group'] == 'A', \n",
    "          np.logical_not(orders['visitorid'].isin(abnormalUsers)))]['revenue'],\n",
    "          orders[np.logical_and(orders['group'] == 'B', np.logical_not(orders['visitorid'].isin(abnormalUsers)),)]['revenue']) \n",
    "print('p-значение: ',\"{0:.5f}\".format(results[1]))\n",
    "\n",
    "if results[1] < alpha:\n",
    "    print('Отвергаем нулевую гипотезу: разница статистически значима')\n",
    "else:\n",
    "    print('Не получилось отвергнуть нулевую гипотезу, вывод о различии сделать нельзя') \n",
    "\n",
    "#Выведем относительный прирост среднего чека группы B к группе А: \n",
    "\n",
    "print(\"{0:.3f}\".format(orders[np.logical_and(orders['group'] == 'B', np.logical_not(orders['visitorid'].isin(abnormalUsers)))]\n",
    "                       ['revenue'].mean() / \n",
    "orders[np.logical_and(orders['group'] == 'A', np.logical_not(orders['visitorid'].isin(abnormalUsers)))]['revenue'].mean() - 1)) "
   ]
  },
  {
   "cell_type": "markdown",
   "metadata": {},
   "source": [
    "Согласно непараметрического теста Уилкоксона-Манна-Уитни различий в среднем чеке заказа между группами А и В нет по \"очищенным\" данным. Значение p-value сильно увеличилось по \"очищенным\" данным.  \n",
    "Относительный выигрыш группы B стал равен 0,6% (т.е. прироста значений по группе B не стало совсем, хотя ранее выигрыш группы B составлял 25.9%)."
   ]
  },
  {
   "cell_type": "markdown",
   "metadata": {},
   "source": [
    " **Подитог 3 по разделу об анализе проведенного A/B-теста и полученных результатов:**  \n",
    "1. Кумулятивные выручки обеих группп растут почти равномерно. В группе B был небольшой период (18-19 августа) резкого роста выручки (большие заказы или большое количество заказов). Выручка группы В стабильно больше выручки группы А.\n",
    "2. Графики средних чеков обеих групп до 19 августа сильно менялись. Ососбенно 18-19 августа были сильные изменения в среднем чеке группы B. После 19 августа средний чек групп стал более равномерным. При этом в группе В он продолжает падать с 19 августа, а в группе А он установился в районе 7000. Средний чек группы В выше среднего чека группы А.\n",
    "3. График различия среднего чека между сегментами резко «скачет» в нескольких местах. Скорее всего, это влияние крупных заказов и выбросов. Текущий график показывает, что средний чек у группы В больше, чем средний чек группы А.\n",
    "4. Кумулятивное среднее количество заказов на посетителя в группе А и В зафиксировалось. При этом с 06 августа среднее количество заказов на посетителя в группе В стабильно выше, чем в группе А.\n",
    "5. В начале теста группа B проигрывала группе A по количеству заказов на посетителя. Затем c 06 августа кумулятивное количество заказов на посетителя группы В была стабильно выше, чем в группе А.   \n",
    "6. Основная масса клиентов сделала не более 3 заказов. Есть несколько клиентов, которые сделали более 3 заказов, в том числе 11 заказов.\n",
    "7. Не более 5% пользователей оформляли больше, чем 2.0 заказа. И 1% пользователей заказывали более 4.0 раз. Выбираем за верхнюю границу числа заказов 4 заказа на одного пользователя. Аномальными пользователями будут те, кто совершил 5 и более заказов (их не более 1%).\n",
    "8. Основная масса заказов не дороже 0.2. Есть один заказ на сумму более 1,2, являясь аномальным значением. Основная масса заказов, за исключением двух выбросов, имеет стоимость ниже 60000.  \n",
    "9. Имеется не более 5% заказов на сумму больше, чем 28 000. И 1% закзазов на сумму, больше, чем 58233.2. Выбираем за верхнюю границу суммы заказа 58233.2. Аномальными заказами будут те, сумма которых составит более 58233.2 (их не более 1%).\n",
    "10. Согласно непараметрического теста Уилкоксона-Манна-Уитни среднее количество заказов у групп А и В отличаются. Относительный выигрыш группы B равен 13.8%\n",
    "11. Согласно непараметрического теста Уилкоксона-Манна-Уитни различий в среднем чеке заказа между группами А и В нет. Относительный выигрыш группы B равен 25.9%\n",
    "12. Согласно непараметрического теста Уилкоксона-Манна-Уитни среднее количество заказов у групп А и В отличаются также и по \"очищенным\" данным. Относительный выигрыш группы B увеличился по \"очищенным\" данным и равен 15.3%.\n",
    "13. Согласно непараметрического теста Уилкоксона-Манна-Уитни различий в среднем чеке заказа между группами А и В нет по \"очищенным\" данным. Значение p-value сильно увеличилось по \"очищенным\" данным. Относительный выигрыш группы B стал равен 0,6% (т.е. прироста значений по группе B не стало совсем, хотя ранее выигрыш группы B составлял 25.9%)."
   ]
  },
  {
   "cell_type": "markdown",
   "metadata": {},
   "source": [
    "### 4. Принятие решения по результатам A/B-теста."
   ]
  },
  {
   "cell_type": "markdown",
   "metadata": {},
   "source": [
    "<div style=\"border:solid Chocolate 2px; padding: 40px\">\n",
    "\n",
    "**Подведем итоги:** <br>\n",
    "1. Имеем статистически значимое различие по среднему количеству заказов между группами A и В (и по «сырым», и по данным после фильтрации аномалий). Относительный выигрыш группы B равен 14-15%;\n",
    "2. Нет статистически значимого различия по среднему чеку между группами ни по «сырым», ни по данным после фильтрации аномалий.\n",
    "   Хотя по \"сырым\" данным группа В имеет 25% прирост, по \"очищенным\" данным прироста нет (0,6%).\n",
    "3. По графику относительного отличия среднего количества заказов на посетителя группы В к группе А видно, что результаты группы А хуже группы B и нет значительной тенденции к улучшению (разница стабильно выше 10%). Кумулятивное среднее количество заказов на посетителя в группе А и В зафиксировалось. \n",
    "4. График различия среднего чека говорит о том, что результаты группы B постепенно падают по отношению к группе А. И обратной тенденции не наблюдается. Весь прирост значений группы B по отношению к группе А обеспечен исключительно аномальными разовыми крупными заказами. \n",
    "5. Кумулятивная выручка меняется плавно, и в группе В она стабильно выше, чем в группе А.\n",
    "<br>\n",
    "\n",
    "**ВЫВОД: Исходя из обнаруженных фактов, А/В тест следует остановить и признать его успешным. При имеющихся данных, сегмент B лучше сегмента A  по среднему количеству заказов (на 13,8% на момент последнего измерения). А вот по среднему чеку существенных отличий нет.**</div>"
   ]
  }
 ],
 "metadata": {
  "ExecuteTimeLog": [
   {
    "duration": 4,
    "start_time": "2023-02-10T13:19:20.823Z"
   },
   {
    "duration": 2,
    "start_time": "2023-02-10T13:19:26.692Z"
   },
   {
    "duration": 3,
    "start_time": "2023-02-10T13:19:35.151Z"
   },
   {
    "duration": 2,
    "start_time": "2023-02-10T13:19:53.843Z"
   },
   {
    "duration": 2,
    "start_time": "2023-02-10T13:19:54.788Z"
   },
   {
    "duration": 2,
    "start_time": "2023-02-10T13:19:55.925Z"
   },
   {
    "duration": 2,
    "start_time": "2023-02-10T13:20:14.464Z"
   },
   {
    "duration": 2,
    "start_time": "2023-02-10T13:23:03.329Z"
   },
   {
    "duration": 3,
    "start_time": "2023-02-10T13:24:00.619Z"
   },
   {
    "duration": 50,
    "start_time": "2023-02-10T13:40:52.816Z"
   },
   {
    "duration": 72,
    "start_time": "2023-02-10T13:40:54.322Z"
   },
   {
    "duration": 68,
    "start_time": "2023-02-10T13:41:00.487Z"
   },
   {
    "duration": 52,
    "start_time": "2023-02-10T14:19:58.502Z"
   },
   {
    "duration": 1166,
    "start_time": "2023-02-10T14:20:33.069Z"
   },
   {
    "duration": 69,
    "start_time": "2023-02-10T14:20:34.250Z"
   },
   {
    "duration": 90,
    "start_time": "2023-02-10T14:20:52.621Z"
   },
   {
    "duration": 31,
    "start_time": "2023-02-10T14:21:11.797Z"
   },
   {
    "duration": 56,
    "start_time": "2023-02-10T14:25:55.277Z"
   },
   {
    "duration": 3,
    "start_time": "2023-02-10T14:26:50.494Z"
   },
   {
    "duration": 4,
    "start_time": "2023-02-10T14:36:12.631Z"
   },
   {
    "duration": 159,
    "start_time": "2023-02-10T14:36:13.338Z"
   },
   {
    "duration": 63,
    "start_time": "2023-02-10T14:36:15.997Z"
   },
   {
    "duration": 31,
    "start_time": "2023-02-10T14:38:26.397Z"
   },
   {
    "duration": 19,
    "start_time": "2023-02-10T14:38:41.175Z"
   },
   {
    "duration": 60,
    "start_time": "2023-02-10T14:39:03.347Z"
   },
   {
    "duration": 11,
    "start_time": "2023-02-10T14:39:23.128Z"
   },
   {
    "duration": 53,
    "start_time": "2023-02-10T14:39:34.670Z"
   },
   {
    "duration": 85,
    "start_time": "2023-02-10T14:39:53.812Z"
   },
   {
    "duration": 44,
    "start_time": "2023-02-10T14:40:39.893Z"
   },
   {
    "duration": 28,
    "start_time": "2023-02-10T14:40:42.529Z"
   },
   {
    "duration": 23,
    "start_time": "2023-02-10T14:40:44.846Z"
   },
   {
    "duration": 53,
    "start_time": "2023-02-10T14:45:25.675Z"
   },
   {
    "duration": 36,
    "start_time": "2023-02-10T14:45:33.054Z"
   },
   {
    "duration": 35,
    "start_time": "2023-02-10T14:45:53.233Z"
   },
   {
    "duration": 34,
    "start_time": "2023-02-10T14:46:53.815Z"
   },
   {
    "duration": 25,
    "start_time": "2023-02-10T14:47:02.768Z"
   },
   {
    "duration": 28,
    "start_time": "2023-02-10T14:47:30.020Z"
   },
   {
    "duration": 3,
    "start_time": "2023-02-10T14:51:12.969Z"
   },
   {
    "duration": 22,
    "start_time": "2023-02-10T14:51:22.560Z"
   },
   {
    "duration": 5,
    "start_time": "2023-02-10T14:52:07.271Z"
   },
   {
    "duration": 23,
    "start_time": "2023-02-10T14:59:16.278Z"
   },
   {
    "duration": 22,
    "start_time": "2023-02-10T14:59:35.207Z"
   },
   {
    "duration": 28,
    "start_time": "2023-02-10T15:00:44.778Z"
   },
   {
    "duration": 28,
    "start_time": "2023-02-10T15:01:48.019Z"
   },
   {
    "duration": 28,
    "start_time": "2023-02-10T15:01:53.466Z"
   },
   {
    "duration": 26,
    "start_time": "2023-02-10T15:01:59.156Z"
   },
   {
    "duration": 27,
    "start_time": "2023-02-10T15:02:03.822Z"
   },
   {
    "duration": 25,
    "start_time": "2023-02-10T15:02:07.626Z"
   },
   {
    "duration": 25,
    "start_time": "2023-02-10T15:02:14.472Z"
   },
   {
    "duration": 35,
    "start_time": "2023-02-10T15:02:47.921Z"
   },
   {
    "duration": 34,
    "start_time": "2023-02-10T15:04:24.546Z"
   },
   {
    "duration": 31,
    "start_time": "2023-02-10T15:06:41.763Z"
   },
   {
    "duration": 39,
    "start_time": "2023-02-10T15:07:01.673Z"
   },
   {
    "duration": 33,
    "start_time": "2023-02-10T15:07:12.707Z"
   },
   {
    "duration": 43,
    "start_time": "2023-02-10T15:07:33.166Z"
   },
   {
    "duration": 28,
    "start_time": "2023-02-10T15:07:44.066Z"
   },
   {
    "duration": 45,
    "start_time": "2023-02-10T15:08:09.701Z"
   },
   {
    "duration": 34,
    "start_time": "2023-02-10T15:08:28.571Z"
   },
   {
    "duration": 26,
    "start_time": "2023-02-10T15:08:34.934Z"
   },
   {
    "duration": 34,
    "start_time": "2023-02-10T15:08:44.091Z"
   },
   {
    "duration": 31,
    "start_time": "2023-02-10T15:08:51.186Z"
   },
   {
    "duration": 17,
    "start_time": "2023-02-10T15:09:31.514Z"
   },
   {
    "duration": 205,
    "start_time": "2023-02-10T15:10:08.077Z"
   },
   {
    "duration": 16,
    "start_time": "2023-02-10T15:11:12.658Z"
   },
   {
    "duration": 24,
    "start_time": "2023-02-10T15:17:01.104Z"
   },
   {
    "duration": 26,
    "start_time": "2023-02-10T15:17:17.564Z"
   },
   {
    "duration": 31,
    "start_time": "2023-02-10T15:17:55.263Z"
   },
   {
    "duration": 26,
    "start_time": "2023-02-10T15:18:20.468Z"
   },
   {
    "duration": 35,
    "start_time": "2023-02-10T15:18:38.271Z"
   },
   {
    "duration": 26,
    "start_time": "2023-02-10T15:19:13.269Z"
   },
   {
    "duration": 31,
    "start_time": "2023-02-10T15:19:48.973Z"
   },
   {
    "duration": 21,
    "start_time": "2023-02-10T15:21:17.905Z"
   },
   {
    "duration": 16,
    "start_time": "2023-02-10T15:21:19.555Z"
   },
   {
    "duration": 32,
    "start_time": "2023-02-10T15:21:20.969Z"
   },
   {
    "duration": 74,
    "start_time": "2023-02-10T15:23:25.084Z"
   },
   {
    "duration": 74,
    "start_time": "2023-02-10T15:23:33.564Z"
   },
   {
    "duration": 96,
    "start_time": "2023-02-10T15:29:18.361Z"
   },
   {
    "duration": 387,
    "start_time": "2023-02-10T15:31:07.713Z"
   },
   {
    "duration": 109,
    "start_time": "2023-02-10T15:31:44.109Z"
   },
   {
    "duration": 227,
    "start_time": "2023-02-10T15:32:00.012Z"
   },
   {
    "duration": 255,
    "start_time": "2023-02-10T15:32:05.857Z"
   },
   {
    "duration": 182,
    "start_time": "2023-02-10T15:33:57.838Z"
   },
   {
    "duration": 212,
    "start_time": "2023-02-10T15:34:39.462Z"
   },
   {
    "duration": 176,
    "start_time": "2023-02-10T15:34:52.232Z"
   },
   {
    "duration": 327,
    "start_time": "2023-02-10T15:37:28.733Z"
   },
   {
    "duration": 199,
    "start_time": "2023-02-10T15:37:44.753Z"
   },
   {
    "duration": 326,
    "start_time": "2023-02-10T15:37:55.584Z"
   },
   {
    "duration": 25,
    "start_time": "2023-02-10T15:38:14.169Z"
   },
   {
    "duration": 26,
    "start_time": "2023-02-10T15:38:21.668Z"
   },
   {
    "duration": 27,
    "start_time": "2023-02-10T15:38:27.333Z"
   },
   {
    "duration": 263,
    "start_time": "2023-02-10T15:38:34.409Z"
   },
   {
    "duration": 287,
    "start_time": "2023-02-10T15:38:57.391Z"
   },
   {
    "duration": 186,
    "start_time": "2023-02-10T15:39:11.682Z"
   },
   {
    "duration": 1198,
    "start_time": "2023-02-10T15:42:34.140Z"
   },
   {
    "duration": 85,
    "start_time": "2023-02-10T15:42:35.340Z"
   },
   {
    "duration": 47,
    "start_time": "2023-02-10T15:42:35.427Z"
   },
   {
    "duration": 40,
    "start_time": "2023-02-10T15:42:35.476Z"
   },
   {
    "duration": 1273,
    "start_time": "2023-02-10T15:57:13.899Z"
   },
   {
    "duration": 191,
    "start_time": "2023-02-10T15:57:15.175Z"
   },
   {
    "duration": 42,
    "start_time": "2023-02-10T15:57:15.368Z"
   },
   {
    "duration": 17,
    "start_time": "2023-02-10T15:57:15.412Z"
   },
   {
    "duration": 1176,
    "start_time": "2023-02-10T16:01:10.731Z"
   },
   {
    "duration": 187,
    "start_time": "2023-02-10T16:01:11.909Z"
   },
   {
    "duration": 40,
    "start_time": "2023-02-10T16:01:12.098Z"
   },
   {
    "duration": 20,
    "start_time": "2023-02-10T16:01:12.139Z"
   },
   {
    "duration": 1159,
    "start_time": "2023-02-10T16:51:10.554Z"
   },
   {
    "duration": 183,
    "start_time": "2023-02-10T16:51:14.108Z"
   },
   {
    "duration": 35,
    "start_time": "2023-02-10T16:51:18.295Z"
   },
   {
    "duration": 18,
    "start_time": "2023-02-10T16:51:21.020Z"
   },
   {
    "duration": 173,
    "start_time": "2023-02-10T16:51:32.619Z"
   },
   {
    "duration": 1109,
    "start_time": "2023-02-10T16:52:38.387Z"
   },
   {
    "duration": 79,
    "start_time": "2023-02-10T16:52:39.498Z"
   },
   {
    "duration": 31,
    "start_time": "2023-02-10T16:52:39.578Z"
   },
   {
    "duration": 26,
    "start_time": "2023-02-10T16:52:39.611Z"
   },
   {
    "duration": 1194,
    "start_time": "2023-02-10T16:58:38.303Z"
   },
   {
    "duration": 188,
    "start_time": "2023-02-10T16:58:40.246Z"
   },
   {
    "duration": 34,
    "start_time": "2023-02-10T16:58:43.368Z"
   },
   {
    "duration": 20,
    "start_time": "2023-02-10T16:58:45.064Z"
   },
   {
    "duration": 1140,
    "start_time": "2023-02-10T19:36:13.092Z"
   },
   {
    "duration": 185,
    "start_time": "2023-02-10T19:36:15.606Z"
   },
   {
    "duration": 32,
    "start_time": "2023-02-10T19:36:18.637Z"
   },
   {
    "duration": 17,
    "start_time": "2023-02-10T19:36:20.910Z"
   },
   {
    "duration": 178,
    "start_time": "2023-02-10T19:36:23.245Z"
   },
   {
    "duration": 22,
    "start_time": "2023-02-10T19:36:25.479Z"
   },
   {
    "duration": 170,
    "start_time": "2023-02-10T19:36:28.032Z"
   },
   {
    "duration": 22,
    "start_time": "2023-02-10T19:36:30.670Z"
   },
   {
    "duration": 3,
    "start_time": "2023-02-10T20:32:58.925Z"
   },
   {
    "duration": 3,
    "start_time": "2023-02-10T20:33:00.673Z"
   },
   {
    "duration": 76,
    "start_time": "2023-02-10T20:33:01.197Z"
   },
   {
    "duration": 29,
    "start_time": "2023-02-10T20:33:12.208Z"
   },
   {
    "duration": 17,
    "start_time": "2023-02-10T20:33:15.120Z"
   },
   {
    "duration": 148,
    "start_time": "2023-02-10T20:33:17.462Z"
   },
   {
    "duration": 18,
    "start_time": "2023-02-10T20:33:19.364Z"
   },
   {
    "duration": 170,
    "start_time": "2023-02-10T20:33:21.264Z"
   },
   {
    "duration": 20,
    "start_time": "2023-02-10T20:33:23.026Z"
   },
   {
    "duration": 50,
    "start_time": "2023-02-11T04:38:17.882Z"
   },
   {
    "duration": 854,
    "start_time": "2023-02-11T04:52:20.469Z"
   },
   {
    "duration": 77,
    "start_time": "2023-02-11T04:52:55.812Z"
   },
   {
    "duration": 30,
    "start_time": "2023-02-11T04:52:59.357Z"
   },
   {
    "duration": 18,
    "start_time": "2023-02-11T04:53:01.067Z"
   },
   {
    "duration": 151,
    "start_time": "2023-02-11T04:53:03.460Z"
   },
   {
    "duration": 146,
    "start_time": "2023-02-11T04:53:04.439Z"
   },
   {
    "duration": 20,
    "start_time": "2023-02-11T04:53:07.814Z"
   },
   {
    "duration": 150,
    "start_time": "2023-02-11T04:53:10.764Z"
   },
   {
    "duration": 21,
    "start_time": "2023-02-11T04:53:12.910Z"
   },
   {
    "duration": 760,
    "start_time": "2023-02-11T04:53:16.318Z"
   },
   {
    "duration": 14,
    "start_time": "2023-02-11T04:53:42.158Z"
   },
   {
    "duration": 70,
    "start_time": "2023-02-11T04:55:16.283Z"
   },
   {
    "duration": 52,
    "start_time": "2023-02-11T05:01:38.039Z"
   },
   {
    "duration": 48,
    "start_time": "2023-02-11T05:03:10.596Z"
   },
   {
    "duration": 52,
    "start_time": "2023-02-11T05:03:25.722Z"
   },
   {
    "duration": 46,
    "start_time": "2023-02-11T05:03:33.237Z"
   },
   {
    "duration": 75,
    "start_time": "2023-02-11T05:04:15.713Z"
   },
   {
    "duration": 67,
    "start_time": "2023-02-11T05:04:23.352Z"
   },
   {
    "duration": 254,
    "start_time": "2023-02-11T05:04:32.132Z"
   },
   {
    "duration": 4,
    "start_time": "2023-02-11T05:06:00.701Z"
   },
   {
    "duration": 250,
    "start_time": "2023-02-11T05:06:01.341Z"
   },
   {
    "duration": 74,
    "start_time": "2023-02-11T05:06:39.985Z"
   },
   {
    "duration": 73,
    "start_time": "2023-02-11T05:06:53.493Z"
   },
   {
    "duration": 32,
    "start_time": "2023-02-11T05:07:03.450Z"
   },
   {
    "duration": 28,
    "start_time": "2023-02-11T05:07:07.288Z"
   },
   {
    "duration": 29,
    "start_time": "2023-02-11T05:07:32.312Z"
   },
   {
    "duration": 8,
    "start_time": "2023-02-11T05:09:14.408Z"
   },
   {
    "duration": 8,
    "start_time": "2023-02-11T05:09:27.528Z"
   },
   {
    "duration": 8,
    "start_time": "2023-02-11T05:09:40.772Z"
   },
   {
    "duration": 9,
    "start_time": "2023-02-11T05:11:01.380Z"
   },
   {
    "duration": 10,
    "start_time": "2023-02-11T05:11:25.057Z"
   },
   {
    "duration": 9,
    "start_time": "2023-02-11T05:11:37.396Z"
   },
   {
    "duration": 9,
    "start_time": "2023-02-11T05:11:44.594Z"
   },
   {
    "duration": 72,
    "start_time": "2023-02-11T05:27:46.281Z"
   },
   {
    "duration": 77,
    "start_time": "2023-02-11T05:27:55.986Z"
   },
   {
    "duration": 72,
    "start_time": "2023-02-11T06:18:40.763Z"
   },
   {
    "duration": 74,
    "start_time": "2023-02-11T06:20:09.691Z"
   },
   {
    "duration": 710,
    "start_time": "2023-02-11T06:20:27.025Z"
   },
   {
    "duration": 3,
    "start_time": "2023-02-11T06:20:36.516Z"
   },
   {
    "duration": 79,
    "start_time": "2023-02-11T06:20:37.296Z"
   },
   {
    "duration": 755,
    "start_time": "2023-02-11T06:20:44.138Z"
   },
   {
    "duration": 32,
    "start_time": "2023-02-11T06:21:08.064Z"
   },
   {
    "duration": 15,
    "start_time": "2023-02-11T06:21:09.910Z"
   },
   {
    "duration": 153,
    "start_time": "2023-02-11T06:21:12.010Z"
   },
   {
    "duration": 18,
    "start_time": "2023-02-11T06:21:13.686Z"
   },
   {
    "duration": 235,
    "start_time": "2023-02-11T06:21:15.648Z"
   },
   {
    "duration": 19,
    "start_time": "2023-02-11T06:21:17.782Z"
   },
   {
    "duration": 47,
    "start_time": "2023-02-11T06:21:20.091Z"
   },
   {
    "duration": 9,
    "start_time": "2023-02-11T06:21:24.448Z"
   },
   {
    "duration": 8,
    "start_time": "2023-02-11T06:21:31.804Z"
   },
   {
    "duration": 8,
    "start_time": "2023-02-11T06:21:36.406Z"
   },
   {
    "duration": 73,
    "start_time": "2023-02-11T06:21:52.781Z"
   },
   {
    "duration": 73,
    "start_time": "2023-02-11T06:22:04.791Z"
   },
   {
    "duration": 654,
    "start_time": "2023-02-11T06:22:13.998Z"
   },
   {
    "duration": 3,
    "start_time": "2023-02-11T06:22:20.644Z"
   },
   {
    "duration": 74,
    "start_time": "2023-02-11T06:22:21.322Z"
   },
   {
    "duration": 31,
    "start_time": "2023-02-11T06:22:23.537Z"
   },
   {
    "duration": 15,
    "start_time": "2023-02-11T06:22:25.091Z"
   },
   {
    "duration": 146,
    "start_time": "2023-02-11T06:22:26.881Z"
   },
   {
    "duration": 24,
    "start_time": "2023-02-11T06:22:28.345Z"
   },
   {
    "duration": 173,
    "start_time": "2023-02-11T06:22:30.126Z"
   },
   {
    "duration": 22,
    "start_time": "2023-02-11T06:22:31.458Z"
   },
   {
    "duration": 7,
    "start_time": "2023-02-11T06:22:34.247Z"
   },
   {
    "duration": 8,
    "start_time": "2023-02-11T11:24:37.912Z"
   },
   {
    "duration": 11,
    "start_time": "2023-02-11T11:24:49.414Z"
   },
   {
    "duration": 10,
    "start_time": "2023-02-11T11:25:09.414Z"
   },
   {
    "duration": 72,
    "start_time": "2023-02-11T11:25:40.835Z"
   },
   {
    "duration": 71,
    "start_time": "2023-02-11T11:25:47.868Z"
   },
   {
    "duration": 74,
    "start_time": "2023-02-11T11:26:01.595Z"
   },
   {
    "duration": 71,
    "start_time": "2023-02-11T11:26:09.868Z"
   },
   {
    "duration": 73,
    "start_time": "2023-02-11T11:26:14.669Z"
   },
   {
    "duration": 75,
    "start_time": "2023-02-11T11:26:31.115Z"
   },
   {
    "duration": 651,
    "start_time": "2023-02-11T11:26:40.812Z"
   },
   {
    "duration": 657,
    "start_time": "2023-02-11T11:26:43.368Z"
   },
   {
    "duration": 4,
    "start_time": "2023-02-11T11:26:52.385Z"
   },
   {
    "duration": 71,
    "start_time": "2023-02-11T11:26:53.217Z"
   },
   {
    "duration": 33,
    "start_time": "2023-02-11T11:26:56.532Z"
   },
   {
    "duration": 15,
    "start_time": "2023-02-11T11:26:58.307Z"
   },
   {
    "duration": 159,
    "start_time": "2023-02-11T11:27:00.174Z"
   },
   {
    "duration": 20,
    "start_time": "2023-02-11T11:27:01.456Z"
   },
   {
    "duration": 164,
    "start_time": "2023-02-11T11:27:03.549Z"
   },
   {
    "duration": 20,
    "start_time": "2023-02-11T11:27:05.026Z"
   },
   {
    "duration": 11,
    "start_time": "2023-02-11T11:27:07.462Z"
   },
   {
    "duration": 11,
    "start_time": "2023-02-11T11:27:14.090Z"
   },
   {
    "duration": 42,
    "start_time": "2023-02-11T11:27:27.472Z"
   },
   {
    "duration": 46,
    "start_time": "2023-02-11T11:48:28.265Z"
   },
   {
    "duration": 152,
    "start_time": "2023-02-11T11:48:42.535Z"
   },
   {
    "duration": 29,
    "start_time": "2023-02-11T11:56:07.306Z"
   },
   {
    "duration": 35,
    "start_time": "2023-02-11T11:58:19.126Z"
   },
   {
    "duration": 18,
    "start_time": "2023-02-11T11:58:28.662Z"
   },
   {
    "duration": 164,
    "start_time": "2023-02-11T11:59:07.214Z"
   },
   {
    "duration": 262,
    "start_time": "2023-02-11T11:59:58.576Z"
   },
   {
    "duration": 268,
    "start_time": "2023-02-11T12:00:21.119Z"
   },
   {
    "duration": 298,
    "start_time": "2023-02-11T12:02:58.556Z"
   },
   {
    "duration": 49,
    "start_time": "2023-02-11T12:12:32.185Z"
   },
   {
    "duration": 270,
    "start_time": "2023-02-11T12:12:51.985Z"
   },
   {
    "duration": 270,
    "start_time": "2023-02-11T12:13:05.088Z"
   },
   {
    "duration": 307,
    "start_time": "2023-02-11T12:13:31.571Z"
   },
   {
    "duration": 264,
    "start_time": "2023-02-11T12:14:45.521Z"
   },
   {
    "duration": 256,
    "start_time": "2023-02-11T12:15:01.957Z"
   },
   {
    "duration": 470,
    "start_time": "2023-02-11T12:15:37.690Z"
   },
   {
    "duration": 552,
    "start_time": "2023-02-11T12:15:43.154Z"
   },
   {
    "duration": 275,
    "start_time": "2023-02-11T12:16:11.042Z"
   },
   {
    "duration": 265,
    "start_time": "2023-02-11T12:16:20.325Z"
   },
   {
    "duration": 268,
    "start_time": "2023-02-11T12:16:37.134Z"
   },
   {
    "duration": 246,
    "start_time": "2023-02-11T12:18:14.745Z"
   },
   {
    "duration": 281,
    "start_time": "2023-02-11T12:20:50.567Z"
   },
   {
    "duration": 291,
    "start_time": "2023-02-11T12:21:18.828Z"
   },
   {
    "duration": 277,
    "start_time": "2023-02-11T12:22:27.346Z"
   },
   {
    "duration": 332,
    "start_time": "2023-02-11T12:34:34.853Z"
   },
   {
    "duration": 333,
    "start_time": "2023-02-11T12:34:53.646Z"
   },
   {
    "duration": 320,
    "start_time": "2023-02-11T12:35:09.045Z"
   },
   {
    "duration": 354,
    "start_time": "2023-02-11T12:35:22.712Z"
   },
   {
    "duration": 354,
    "start_time": "2023-02-11T12:35:34.416Z"
   },
   {
    "duration": 331,
    "start_time": "2023-02-11T12:35:49.443Z"
   },
   {
    "duration": 466,
    "start_time": "2023-02-11T12:36:01.448Z"
   },
   {
    "duration": 357,
    "start_time": "2023-02-11T12:36:38.245Z"
   },
   {
    "duration": 49,
    "start_time": "2023-02-11T12:37:58.188Z"
   },
   {
    "duration": 2,
    "start_time": "2023-02-11T12:38:50.630Z"
   },
   {
    "duration": 2,
    "start_time": "2023-02-11T12:40:08.064Z"
   },
   {
    "duration": 309,
    "start_time": "2023-02-11T12:47:42.224Z"
   },
   {
    "duration": 286,
    "start_time": "2023-02-11T12:48:00.365Z"
   },
   {
    "duration": 280,
    "start_time": "2023-02-11T12:48:16.927Z"
   },
   {
    "duration": 286,
    "start_time": "2023-02-11T12:49:30.236Z"
   },
   {
    "duration": 271,
    "start_time": "2023-02-11T12:49:43.843Z"
   },
   {
    "duration": 279,
    "start_time": "2023-02-11T12:49:52.442Z"
   },
   {
    "duration": 391,
    "start_time": "2023-02-11T12:53:28.953Z"
   },
   {
    "duration": 476,
    "start_time": "2023-02-11T12:54:31.572Z"
   },
   {
    "duration": 404,
    "start_time": "2023-02-11T12:54:45.325Z"
   },
   {
    "duration": 380,
    "start_time": "2023-02-11T12:58:09.533Z"
   },
   {
    "duration": 362,
    "start_time": "2023-02-11T12:58:25.025Z"
   },
   {
    "duration": 344,
    "start_time": "2023-02-11T12:58:47.257Z"
   },
   {
    "duration": 446,
    "start_time": "2023-02-11T12:59:06.395Z"
   },
   {
    "duration": 386,
    "start_time": "2023-02-11T12:59:24.131Z"
   },
   {
    "duration": 400,
    "start_time": "2023-02-11T13:00:10.302Z"
   },
   {
    "duration": 395,
    "start_time": "2023-02-11T13:00:51.272Z"
   },
   {
    "duration": 520,
    "start_time": "2023-02-11T13:01:05.386Z"
   },
   {
    "duration": 407,
    "start_time": "2023-02-11T13:01:19.792Z"
   },
   {
    "duration": 222,
    "start_time": "2023-02-11T13:01:34.883Z"
   },
   {
    "duration": 379,
    "start_time": "2023-02-11T13:02:00.326Z"
   },
   {
    "duration": 81,
    "start_time": "2023-02-11T13:02:37.460Z"
   },
   {
    "duration": 454,
    "start_time": "2023-02-11T13:02:53.877Z"
   },
   {
    "duration": 406,
    "start_time": "2023-02-11T13:03:42.559Z"
   },
   {
    "duration": 438,
    "start_time": "2023-02-11T13:04:30.989Z"
   },
   {
    "duration": 403,
    "start_time": "2023-02-11T13:08:53.703Z"
   },
   {
    "duration": 398,
    "start_time": "2023-02-11T13:11:24.972Z"
   },
   {
    "duration": 377,
    "start_time": "2023-02-11T13:12:36.408Z"
   },
   {
    "duration": 364,
    "start_time": "2023-02-11T13:13:17.535Z"
   },
   {
    "duration": 409,
    "start_time": "2023-02-11T13:13:47.486Z"
   },
   {
    "duration": 366,
    "start_time": "2023-02-11T13:14:44.047Z"
   },
   {
    "duration": 370,
    "start_time": "2023-02-11T13:15:24.813Z"
   },
   {
    "duration": 351,
    "start_time": "2023-02-11T13:15:33.228Z"
   },
   {
    "duration": 378,
    "start_time": "2023-02-11T13:15:52.607Z"
   },
   {
    "duration": 154,
    "start_time": "2023-02-11T13:18:59.140Z"
   },
   {
    "duration": 193,
    "start_time": "2023-02-11T13:22:54.790Z"
   },
   {
    "duration": 10,
    "start_time": "2023-02-11T13:28:31.485Z"
   },
   {
    "duration": 13,
    "start_time": "2023-02-11T13:28:45.824Z"
   },
   {
    "duration": 129,
    "start_time": "2023-02-11T13:28:57.970Z"
   },
   {
    "duration": 14,
    "start_time": "2023-02-11T13:30:03.996Z"
   },
   {
    "duration": 740,
    "start_time": "2023-02-11T13:30:21.016Z"
   },
   {
    "duration": 140,
    "start_time": "2023-02-11T13:30:36.809Z"
   },
   {
    "duration": 132,
    "start_time": "2023-02-11T13:33:33.646Z"
   },
   {
    "duration": 130,
    "start_time": "2023-02-11T13:33:41.239Z"
   },
   {
    "duration": 345,
    "start_time": "2023-02-11T13:34:07.341Z"
   },
   {
    "duration": 302,
    "start_time": "2023-02-11T13:35:44.939Z"
   },
   {
    "duration": 156,
    "start_time": "2023-02-11T13:37:07.464Z"
   },
   {
    "duration": 154,
    "start_time": "2023-02-11T13:37:51.272Z"
   },
   {
    "duration": 320,
    "start_time": "2023-02-11T13:39:28.865Z"
   },
   {
    "duration": 4,
    "start_time": "2023-02-11T13:40:31.001Z"
   },
   {
    "duration": 145,
    "start_time": "2023-02-11T13:45:44.517Z"
   },
   {
    "duration": 157,
    "start_time": "2023-02-11T13:46:51.831Z"
   },
   {
    "duration": 187,
    "start_time": "2023-02-11T13:47:03.760Z"
   },
   {
    "duration": 172,
    "start_time": "2023-02-11T13:47:15.071Z"
   },
   {
    "duration": 6,
    "start_time": "2023-02-11T13:49:57.412Z"
   },
   {
    "duration": 259,
    "start_time": "2023-02-11T16:15:49.148Z"
   },
   {
    "duration": 261,
    "start_time": "2023-02-11T16:16:21.170Z"
   },
   {
    "duration": 301,
    "start_time": "2023-02-11T16:16:46.205Z"
   },
   {
    "duration": 139,
    "start_time": "2023-02-11T16:21:58.249Z"
   },
   {
    "duration": 3,
    "start_time": "2023-02-11T16:24:05.274Z"
   },
   {
    "duration": 3,
    "start_time": "2023-02-11T16:24:10.831Z"
   },
   {
    "duration": 157,
    "start_time": "2023-02-11T16:24:20.002Z"
   },
   {
    "duration": 140,
    "start_time": "2023-02-11T16:34:26.453Z"
   },
   {
    "duration": 53,
    "start_time": "2023-02-11T16:36:24.978Z"
   },
   {
    "duration": 44,
    "start_time": "2023-02-11T16:36:44.432Z"
   },
   {
    "duration": 49,
    "start_time": "2023-02-11T16:37:06.260Z"
   },
   {
    "duration": 49,
    "start_time": "2023-02-11T16:38:13.854Z"
   },
   {
    "duration": 55,
    "start_time": "2023-02-11T16:38:30.192Z"
   },
   {
    "duration": 47,
    "start_time": "2023-02-11T16:38:54.662Z"
   },
   {
    "duration": 168,
    "start_time": "2023-02-11T16:39:08.284Z"
   },
   {
    "duration": 155,
    "start_time": "2023-02-11T16:39:50.049Z"
   },
   {
    "duration": 48,
    "start_time": "2023-02-11T16:40:00.370Z"
   },
   {
    "duration": 384,
    "start_time": "2023-02-11T16:40:10.679Z"
   },
   {
    "duration": 66,
    "start_time": "2023-02-11T16:40:23.221Z"
   },
   {
    "duration": 49,
    "start_time": "2023-02-11T16:40:28.528Z"
   },
   {
    "duration": 65,
    "start_time": "2023-02-11T16:40:46.450Z"
   },
   {
    "duration": 72,
    "start_time": "2023-02-11T16:41:48.341Z"
   },
   {
    "duration": 150,
    "start_time": "2023-02-11T16:41:53.991Z"
   },
   {
    "duration": 43,
    "start_time": "2023-02-11T16:43:32.955Z"
   },
   {
    "duration": 53,
    "start_time": "2023-02-11T16:43:41.747Z"
   },
   {
    "duration": 168,
    "start_time": "2023-02-11T16:43:50.968Z"
   },
   {
    "duration": 163,
    "start_time": "2023-02-11T16:44:05.828Z"
   },
   {
    "duration": 49,
    "start_time": "2023-02-11T16:44:28.978Z"
   },
   {
    "duration": 140,
    "start_time": "2023-02-11T16:44:35.620Z"
   },
   {
    "duration": 170,
    "start_time": "2023-02-11T16:44:47.966Z"
   },
   {
    "duration": 146,
    "start_time": "2023-02-11T16:45:20.785Z"
   },
   {
    "duration": 168,
    "start_time": "2023-02-11T16:45:37.291Z"
   },
   {
    "duration": 144,
    "start_time": "2023-02-11T16:45:45.407Z"
   },
   {
    "duration": 149,
    "start_time": "2023-02-11T16:46:15.984Z"
   },
   {
    "duration": 144,
    "start_time": "2023-02-11T16:46:20.779Z"
   },
   {
    "duration": 139,
    "start_time": "2023-02-11T16:46:35.814Z"
   },
   {
    "duration": 151,
    "start_time": "2023-02-11T16:47:01.337Z"
   },
   {
    "duration": 54,
    "start_time": "2023-02-11T16:50:24.188Z"
   },
   {
    "duration": 147,
    "start_time": "2023-02-11T16:50:36.089Z"
   },
   {
    "duration": 11,
    "start_time": "2023-02-11T17:00:26.091Z"
   },
   {
    "duration": 12,
    "start_time": "2023-02-11T17:00:49.085Z"
   },
   {
    "duration": 724,
    "start_time": "2023-02-11T17:07:39.792Z"
   },
   {
    "duration": 142,
    "start_time": "2023-02-11T17:08:04.694Z"
   },
   {
    "duration": 663,
    "start_time": "2023-02-11T17:08:06.858Z"
   },
   {
    "duration": 669,
    "start_time": "2023-02-11T17:08:54.740Z"
   },
   {
    "duration": 4,
    "start_time": "2023-02-11T17:09:50.752Z"
   },
   {
    "duration": 8,
    "start_time": "2023-02-11T17:10:09.126Z"
   },
   {
    "duration": 675,
    "start_time": "2023-02-11T17:10:23.892Z"
   },
   {
    "duration": 8,
    "start_time": "2023-02-11T17:10:35.640Z"
   },
   {
    "duration": 9,
    "start_time": "2023-02-11T17:10:46.728Z"
   },
   {
    "duration": 8,
    "start_time": "2023-02-11T17:10:59.328Z"
   },
   {
    "duration": 29,
    "start_time": "2023-02-11T17:19:04.045Z"
   },
   {
    "duration": 666,
    "start_time": "2023-02-11T17:26:41.521Z"
   },
   {
    "duration": 16,
    "start_time": "2023-02-11T17:29:19.052Z"
   },
   {
    "duration": 22,
    "start_time": "2023-02-11T17:58:02.524Z"
   },
   {
    "duration": 3,
    "start_time": "2023-02-11T17:58:14.549Z"
   },
   {
    "duration": 74,
    "start_time": "2023-02-11T17:58:15.836Z"
   },
   {
    "duration": 31,
    "start_time": "2023-02-11T17:58:17.825Z"
   },
   {
    "duration": 17,
    "start_time": "2023-02-11T17:58:19.575Z"
   },
   {
    "duration": 157,
    "start_time": "2023-02-11T17:58:21.706Z"
   },
   {
    "duration": 19,
    "start_time": "2023-02-11T17:58:23.775Z"
   },
   {
    "duration": 161,
    "start_time": "2023-02-11T17:58:25.636Z"
   },
   {
    "duration": 24,
    "start_time": "2023-02-11T17:58:27.157Z"
   },
   {
    "duration": 11,
    "start_time": "2023-02-11T17:58:30.667Z"
   },
   {
    "duration": 34,
    "start_time": "2023-02-11T17:59:22.192Z"
   },
   {
    "duration": 75,
    "start_time": "2023-02-11T17:59:27.329Z"
   },
   {
    "duration": 82,
    "start_time": "2023-02-11T17:59:28.592Z"
   },
   {
    "duration": 1067,
    "start_time": "2023-02-11T17:59:39.651Z"
   },
   {
    "duration": 77,
    "start_time": "2023-02-11T17:59:40.720Z"
   },
   {
    "duration": 34,
    "start_time": "2023-02-11T17:59:40.798Z"
   },
   {
    "duration": 16,
    "start_time": "2023-02-11T17:59:40.834Z"
   },
   {
    "duration": 189,
    "start_time": "2023-02-11T17:59:40.852Z"
   },
   {
    "duration": 20,
    "start_time": "2023-02-11T17:59:41.043Z"
   },
   {
    "duration": 212,
    "start_time": "2023-02-11T17:59:41.065Z"
   },
   {
    "duration": 27,
    "start_time": "2023-02-11T17:59:41.278Z"
   },
   {
    "duration": 11,
    "start_time": "2023-02-11T17:59:41.307Z"
   },
   {
    "duration": 12,
    "start_time": "2023-02-11T17:59:41.320Z"
   },
   {
    "duration": 471,
    "start_time": "2023-02-11T17:59:41.334Z"
   },
   {
    "duration": 376,
    "start_time": "2023-02-11T17:59:41.806Z"
   },
   {
    "duration": 280,
    "start_time": "2023-02-11T17:59:42.184Z"
   },
   {
    "duration": 418,
    "start_time": "2023-02-11T17:59:42.465Z"
   },
   {
    "duration": 355,
    "start_time": "2023-02-11T17:59:42.885Z"
   },
   {
    "duration": 363,
    "start_time": "2023-02-11T17:59:43.242Z"
   },
   {
    "duration": 230,
    "start_time": "2023-02-11T17:59:43.606Z"
   },
   {
    "duration": 4,
    "start_time": "2023-02-11T17:59:43.838Z"
   },
   {
    "duration": 186,
    "start_time": "2023-02-11T17:59:43.843Z"
   },
   {
    "duration": 4,
    "start_time": "2023-02-11T17:59:44.030Z"
   },
   {
    "duration": 154,
    "start_time": "2023-02-11T17:59:44.036Z"
   },
   {
    "duration": 11,
    "start_time": "2023-02-11T17:59:44.198Z"
   },
   {
    "duration": 12,
    "start_time": "2023-02-11T17:59:44.210Z"
   },
   {
    "duration": 30,
    "start_time": "2023-02-11T17:59:44.224Z"
   },
   {
    "duration": 12,
    "start_time": "2023-02-11T17:59:44.256Z"
   },
   {
    "duration": 4,
    "start_time": "2023-02-11T17:59:49.890Z"
   },
   {
    "duration": 76,
    "start_time": "2023-02-11T17:59:51.336Z"
   },
   {
    "duration": 32,
    "start_time": "2023-02-11T17:59:53.918Z"
   },
   {
    "duration": 16,
    "start_time": "2023-02-11T17:59:56.902Z"
   },
   {
    "duration": 153,
    "start_time": "2023-02-11T17:59:58.836Z"
   },
   {
    "duration": 18,
    "start_time": "2023-02-11T18:00:00.560Z"
   },
   {
    "duration": 162,
    "start_time": "2023-02-11T18:00:02.926Z"
   },
   {
    "duration": 19,
    "start_time": "2023-02-11T18:00:04.671Z"
   },
   {
    "duration": 10,
    "start_time": "2023-02-11T18:00:11.835Z"
   },
   {
    "duration": 11,
    "start_time": "2023-02-11T18:00:14.376Z"
   },
   {
    "duration": 3,
    "start_time": "2023-02-11T18:02:26.923Z"
   },
   {
    "duration": 73,
    "start_time": "2023-02-11T18:02:28.014Z"
   },
   {
    "duration": 74,
    "start_time": "2023-02-11T18:02:31.582Z"
   },
   {
    "duration": 73,
    "start_time": "2023-02-11T18:03:04.244Z"
   },
   {
    "duration": 77,
    "start_time": "2023-02-11T18:03:06.686Z"
   },
   {
    "duration": 73,
    "start_time": "2023-02-11T18:03:43.113Z"
   },
   {
    "duration": 155,
    "start_time": "2023-02-11T18:03:51.324Z"
   },
   {
    "duration": 75,
    "start_time": "2023-02-11T18:03:59.607Z"
   },
   {
    "duration": 74,
    "start_time": "2023-02-11T18:04:12.021Z"
   },
   {
    "duration": 1081,
    "start_time": "2023-02-11T18:04:18.818Z"
   },
   {
    "duration": 79,
    "start_time": "2023-02-11T18:04:19.901Z"
   },
   {
    "duration": 32,
    "start_time": "2023-02-11T18:04:19.981Z"
   },
   {
    "duration": 15,
    "start_time": "2023-02-11T18:04:20.015Z"
   },
   {
    "duration": 186,
    "start_time": "2023-02-11T18:04:20.032Z"
   },
   {
    "duration": 18,
    "start_time": "2023-02-11T18:04:20.219Z"
   },
   {
    "duration": 194,
    "start_time": "2023-02-11T18:04:20.239Z"
   },
   {
    "duration": 20,
    "start_time": "2023-02-11T18:04:20.434Z"
   },
   {
    "duration": 16,
    "start_time": "2023-02-11T18:04:20.455Z"
   },
   {
    "duration": 26,
    "start_time": "2023-02-11T18:04:20.473Z"
   },
   {
    "duration": 267,
    "start_time": "2023-02-11T18:04:20.501Z"
   },
   {
    "duration": 354,
    "start_time": "2023-02-11T18:04:20.769Z"
   },
   {
    "duration": 289,
    "start_time": "2023-02-11T18:04:21.125Z"
   },
   {
    "duration": 402,
    "start_time": "2023-02-11T18:04:21.417Z"
   },
   {
    "duration": 280,
    "start_time": "2023-02-11T18:04:21.821Z"
   },
   {
    "duration": 407,
    "start_time": "2023-02-11T18:04:22.103Z"
   },
   {
    "duration": 247,
    "start_time": "2023-02-11T18:04:22.512Z"
   },
   {
    "duration": 4,
    "start_time": "2023-02-11T18:04:22.761Z"
   },
   {
    "duration": 181,
    "start_time": "2023-02-11T18:04:22.767Z"
   },
   {
    "duration": 5,
    "start_time": "2023-02-11T18:04:22.950Z"
   },
   {
    "duration": 160,
    "start_time": "2023-02-11T18:04:22.957Z"
   },
   {
    "duration": 11,
    "start_time": "2023-02-11T18:04:23.118Z"
   },
   {
    "duration": 7,
    "start_time": "2023-02-11T18:04:23.131Z"
   },
   {
    "duration": 32,
    "start_time": "2023-02-11T18:04:23.140Z"
   },
   {
    "duration": 33,
    "start_time": "2023-02-11T18:04:23.174Z"
   },
   {
    "duration": 3,
    "start_time": "2023-02-11T18:04:27.039Z"
   },
   {
    "duration": 78,
    "start_time": "2023-02-11T18:04:28.410Z"
   },
   {
    "duration": 1135,
    "start_time": "2023-02-11T18:05:06.870Z"
   },
   {
    "duration": 78,
    "start_time": "2023-02-11T18:05:08.007Z"
   },
   {
    "duration": 32,
    "start_time": "2023-02-11T18:05:08.086Z"
   },
   {
    "duration": 14,
    "start_time": "2023-02-11T18:05:08.121Z"
   },
   {
    "duration": 178,
    "start_time": "2023-02-11T18:05:08.137Z"
   },
   {
    "duration": 18,
    "start_time": "2023-02-11T18:05:08.316Z"
   },
   {
    "duration": 180,
    "start_time": "2023-02-11T18:05:08.336Z"
   },
   {
    "duration": 19,
    "start_time": "2023-02-11T18:05:08.518Z"
   },
   {
    "duration": 22,
    "start_time": "2023-02-11T18:05:08.538Z"
   },
   {
    "duration": 11,
    "start_time": "2023-02-11T18:05:08.562Z"
   },
   {
    "duration": 288,
    "start_time": "2023-02-11T18:05:08.575Z"
   },
   {
    "duration": 365,
    "start_time": "2023-02-11T18:05:08.865Z"
   },
   {
    "duration": 292,
    "start_time": "2023-02-11T18:05:09.231Z"
   },
   {
    "duration": 392,
    "start_time": "2023-02-11T18:05:09.525Z"
   },
   {
    "duration": 316,
    "start_time": "2023-02-11T18:05:09.919Z"
   },
   {
    "duration": 381,
    "start_time": "2023-02-11T18:05:10.236Z"
   },
   {
    "duration": 259,
    "start_time": "2023-02-11T18:05:10.619Z"
   },
   {
    "duration": 5,
    "start_time": "2023-02-11T18:05:10.880Z"
   },
   {
    "duration": 193,
    "start_time": "2023-02-11T18:05:10.886Z"
   },
   {
    "duration": 4,
    "start_time": "2023-02-11T18:05:11.081Z"
   },
   {
    "duration": 165,
    "start_time": "2023-02-11T18:05:11.087Z"
   },
   {
    "duration": 11,
    "start_time": "2023-02-11T18:05:11.254Z"
   },
   {
    "duration": 10,
    "start_time": "2023-02-11T18:05:11.266Z"
   },
   {
    "duration": 45,
    "start_time": "2023-02-11T18:05:11.277Z"
   },
   {
    "duration": 13,
    "start_time": "2023-02-11T18:05:11.324Z"
   },
   {
    "duration": 3,
    "start_time": "2023-02-11T18:05:15.540Z"
   },
   {
    "duration": 85,
    "start_time": "2023-02-11T18:05:17.139Z"
   },
   {
    "duration": 1170,
    "start_time": "2023-02-11T18:05:55.958Z"
   },
   {
    "duration": 89,
    "start_time": "2023-02-11T18:05:57.130Z"
   },
   {
    "duration": 36,
    "start_time": "2023-02-11T18:05:57.221Z"
   },
   {
    "duration": 39,
    "start_time": "2023-02-11T18:05:57.260Z"
   },
   {
    "duration": 187,
    "start_time": "2023-02-11T18:05:57.301Z"
   },
   {
    "duration": 26,
    "start_time": "2023-02-11T18:05:57.490Z"
   },
   {
    "duration": 193,
    "start_time": "2023-02-11T18:05:57.518Z"
   },
   {
    "duration": 20,
    "start_time": "2023-02-11T18:05:57.713Z"
   },
   {
    "duration": 11,
    "start_time": "2023-02-11T18:05:57.735Z"
   },
   {
    "duration": 12,
    "start_time": "2023-02-11T18:05:57.748Z"
   },
   {
    "duration": 291,
    "start_time": "2023-02-11T18:05:57.761Z"
   },
   {
    "duration": 348,
    "start_time": "2023-02-11T18:05:58.053Z"
   },
   {
    "duration": 290,
    "start_time": "2023-02-11T18:05:58.403Z"
   },
   {
    "duration": 388,
    "start_time": "2023-02-11T18:05:58.694Z"
   },
   {
    "duration": 276,
    "start_time": "2023-02-11T18:05:59.084Z"
   },
   {
    "duration": 373,
    "start_time": "2023-02-11T18:05:59.362Z"
   },
   {
    "duration": 222,
    "start_time": "2023-02-11T18:05:59.736Z"
   },
   {
    "duration": 4,
    "start_time": "2023-02-11T18:05:59.959Z"
   },
   {
    "duration": 167,
    "start_time": "2023-02-11T18:05:59.965Z"
   },
   {
    "duration": 4,
    "start_time": "2023-02-11T18:06:00.134Z"
   },
   {
    "duration": 172,
    "start_time": "2023-02-11T18:06:00.140Z"
   },
   {
    "duration": 12,
    "start_time": "2023-02-11T18:06:00.313Z"
   },
   {
    "duration": 47,
    "start_time": "2023-02-11T18:06:00.326Z"
   },
   {
    "duration": 62,
    "start_time": "2023-02-11T18:06:00.375Z"
   },
   {
    "duration": 16,
    "start_time": "2023-02-11T18:06:00.439Z"
   },
   {
    "duration": 3,
    "start_time": "2023-02-11T18:06:04.535Z"
   },
   {
    "duration": 73,
    "start_time": "2023-02-11T18:06:06.930Z"
   },
   {
    "duration": 1091,
    "start_time": "2023-02-11T18:06:17.505Z"
   },
   {
    "duration": 77,
    "start_time": "2023-02-11T18:06:18.597Z"
   },
   {
    "duration": 35,
    "start_time": "2023-02-11T18:06:18.676Z"
   },
   {
    "duration": 17,
    "start_time": "2023-02-11T18:06:18.713Z"
   },
   {
    "duration": 185,
    "start_time": "2023-02-11T18:06:18.733Z"
   },
   {
    "duration": 20,
    "start_time": "2023-02-11T18:06:18.920Z"
   },
   {
    "duration": 176,
    "start_time": "2023-02-11T18:06:18.941Z"
   },
   {
    "duration": 22,
    "start_time": "2023-02-11T18:06:19.118Z"
   },
   {
    "duration": 12,
    "start_time": "2023-02-11T18:06:19.142Z"
   },
   {
    "duration": 11,
    "start_time": "2023-02-11T18:06:19.156Z"
   },
   {
    "duration": 280,
    "start_time": "2023-02-11T18:06:19.199Z"
   },
   {
    "duration": 352,
    "start_time": "2023-02-11T18:06:19.480Z"
   },
   {
    "duration": 276,
    "start_time": "2023-02-11T18:06:19.834Z"
   },
   {
    "duration": 368,
    "start_time": "2023-02-11T18:06:20.113Z"
   },
   {
    "duration": 267,
    "start_time": "2023-02-11T18:06:20.483Z"
   },
   {
    "duration": 362,
    "start_time": "2023-02-11T18:06:20.752Z"
   },
   {
    "duration": 240,
    "start_time": "2023-02-11T18:06:21.116Z"
   },
   {
    "duration": 4,
    "start_time": "2023-02-11T18:06:21.358Z"
   },
   {
    "duration": 184,
    "start_time": "2023-02-11T18:06:21.364Z"
   },
   {
    "duration": 4,
    "start_time": "2023-02-11T18:06:21.550Z"
   },
   {
    "duration": 161,
    "start_time": "2023-02-11T18:06:21.556Z"
   },
   {
    "duration": 12,
    "start_time": "2023-02-11T18:06:21.718Z"
   },
   {
    "duration": 9,
    "start_time": "2023-02-11T18:06:21.732Z"
   },
   {
    "duration": 27,
    "start_time": "2023-02-11T18:06:21.743Z"
   },
   {
    "duration": 15,
    "start_time": "2023-02-11T18:06:21.800Z"
   },
   {
    "duration": 3,
    "start_time": "2023-02-11T18:06:25.350Z"
   },
   {
    "duration": 72,
    "start_time": "2023-02-11T18:06:26.463Z"
   },
   {
    "duration": 74,
    "start_time": "2023-02-11T18:06:30.492Z"
   },
   {
    "duration": 1066,
    "start_time": "2023-02-11T18:06:36.746Z"
   },
   {
    "duration": 77,
    "start_time": "2023-02-11T18:06:37.814Z"
   },
   {
    "duration": 35,
    "start_time": "2023-02-11T18:06:37.893Z"
   },
   {
    "duration": 16,
    "start_time": "2023-02-11T18:06:37.930Z"
   },
   {
    "duration": 198,
    "start_time": "2023-02-11T18:06:37.948Z"
   },
   {
    "duration": 19,
    "start_time": "2023-02-11T18:06:38.148Z"
   },
   {
    "duration": 178,
    "start_time": "2023-02-11T18:06:38.169Z"
   },
   {
    "duration": 23,
    "start_time": "2023-02-11T18:06:38.349Z"
   },
   {
    "duration": 36,
    "start_time": "2023-02-11T18:06:38.374Z"
   },
   {
    "duration": 13,
    "start_time": "2023-02-11T18:06:38.412Z"
   },
   {
    "duration": 285,
    "start_time": "2023-02-11T18:06:38.426Z"
   },
   {
    "duration": 356,
    "start_time": "2023-02-11T18:06:38.713Z"
   },
   {
    "duration": 321,
    "start_time": "2023-02-11T18:06:39.071Z"
   },
   {
    "duration": 386,
    "start_time": "2023-02-11T18:06:39.395Z"
   },
   {
    "duration": 282,
    "start_time": "2023-02-11T18:06:39.783Z"
   },
   {
    "duration": 412,
    "start_time": "2023-02-11T18:06:40.067Z"
   },
   {
    "duration": 229,
    "start_time": "2023-02-11T18:06:40.480Z"
   },
   {
    "duration": 4,
    "start_time": "2023-02-11T18:06:40.711Z"
   },
   {
    "duration": 173,
    "start_time": "2023-02-11T18:06:40.716Z"
   },
   {
    "duration": 10,
    "start_time": "2023-02-11T18:06:40.891Z"
   },
   {
    "duration": 175,
    "start_time": "2023-02-11T18:06:40.903Z"
   },
   {
    "duration": 19,
    "start_time": "2023-02-11T18:06:41.080Z"
   },
   {
    "duration": 9,
    "start_time": "2023-02-11T18:06:41.101Z"
   },
   {
    "duration": 34,
    "start_time": "2023-02-11T18:06:41.112Z"
   },
   {
    "duration": 14,
    "start_time": "2023-02-11T18:06:41.148Z"
   },
   {
    "duration": 3,
    "start_time": "2023-02-11T18:06:45.506Z"
   },
   {
    "duration": 73,
    "start_time": "2023-02-11T18:06:46.949Z"
   },
   {
    "duration": 32,
    "start_time": "2023-02-11T18:06:50.416Z"
   },
   {
    "duration": 16,
    "start_time": "2023-02-11T18:06:52.497Z"
   },
   {
    "duration": 172,
    "start_time": "2023-02-11T18:06:54.591Z"
   },
   {
    "duration": 19,
    "start_time": "2023-02-11T18:06:56.973Z"
   },
   {
    "duration": 176,
    "start_time": "2023-02-11T18:07:00.011Z"
   },
   {
    "duration": 22,
    "start_time": "2023-02-11T18:07:02.144Z"
   },
   {
    "duration": 11,
    "start_time": "2023-02-11T18:07:06.015Z"
   },
   {
    "duration": 10,
    "start_time": "2023-02-11T18:07:07.954Z"
   },
   {
    "duration": 261,
    "start_time": "2023-02-11T18:07:11.783Z"
   },
   {
    "duration": 293,
    "start_time": "2023-02-11T18:07:14.031Z"
   },
   {
    "duration": 273,
    "start_time": "2023-02-11T18:07:16.463Z"
   },
   {
    "duration": 412,
    "start_time": "2023-02-11T18:07:18.773Z"
   },
   {
    "duration": 267,
    "start_time": "2023-02-11T18:07:21.803Z"
   },
   {
    "duration": 392,
    "start_time": "2023-02-11T18:07:23.973Z"
   },
   {
    "duration": 164,
    "start_time": "2023-02-11T18:07:30.524Z"
   },
   {
    "duration": 5,
    "start_time": "2023-02-11T18:07:33.846Z"
   },
   {
    "duration": 167,
    "start_time": "2023-02-11T18:07:35.281Z"
   },
   {
    "duration": 5,
    "start_time": "2023-02-11T18:07:41.402Z"
   },
   {
    "duration": 166,
    "start_time": "2023-02-11T18:07:43.218Z"
   },
   {
    "duration": 11,
    "start_time": "2023-02-11T18:07:47.458Z"
   },
   {
    "duration": 8,
    "start_time": "2023-02-11T18:07:49.284Z"
   },
   {
    "duration": 29,
    "start_time": "2023-02-11T18:07:50.820Z"
   },
   {
    "duration": 14,
    "start_time": "2023-02-11T18:07:54.184Z"
   },
   {
    "duration": 18,
    "start_time": "2023-02-11T18:28:30.395Z"
   },
   {
    "duration": 170,
    "start_time": "2023-02-11T18:29:35.266Z"
   },
   {
    "duration": 149,
    "start_time": "2023-02-11T18:31:21.585Z"
   },
   {
    "duration": 250,
    "start_time": "2023-02-11T18:33:07.497Z"
   },
   {
    "duration": 151,
    "start_time": "2023-02-11T18:34:03.704Z"
   },
   {
    "duration": 136,
    "start_time": "2023-02-11T18:34:20.543Z"
   },
   {
    "duration": 10,
    "start_time": "2023-02-11T18:34:53.694Z"
   },
   {
    "duration": 9,
    "start_time": "2023-02-11T18:35:51.075Z"
   },
   {
    "duration": 7,
    "start_time": "2023-02-11T18:36:38.371Z"
   },
   {
    "duration": 9,
    "start_time": "2023-02-11T18:36:56.340Z"
   },
   {
    "duration": 29,
    "start_time": "2023-02-11T18:39:31.833Z"
   },
   {
    "duration": 14,
    "start_time": "2023-02-11T18:39:58.203Z"
   },
   {
    "duration": 1183,
    "start_time": "2023-02-11T19:47:31.322Z"
   },
   {
    "duration": 110,
    "start_time": "2023-02-11T19:47:32.507Z"
   },
   {
    "duration": 45,
    "start_time": "2023-02-11T19:47:32.619Z"
   },
   {
    "duration": 19,
    "start_time": "2023-02-11T19:47:32.672Z"
   },
   {
    "duration": 189,
    "start_time": "2023-02-11T19:47:32.692Z"
   },
   {
    "duration": 18,
    "start_time": "2023-02-11T19:47:32.883Z"
   },
   {
    "duration": 195,
    "start_time": "2023-02-11T19:47:32.904Z"
   },
   {
    "duration": 21,
    "start_time": "2023-02-11T19:47:33.101Z"
   },
   {
    "duration": 27,
    "start_time": "2023-02-11T19:47:33.124Z"
   },
   {
    "duration": 17,
    "start_time": "2023-02-11T19:47:33.153Z"
   },
   {
    "duration": 311,
    "start_time": "2023-02-11T19:47:33.175Z"
   },
   {
    "duration": 426,
    "start_time": "2023-02-11T19:47:33.487Z"
   },
   {
    "duration": 339,
    "start_time": "2023-02-11T19:47:33.915Z"
   },
   {
    "duration": 416,
    "start_time": "2023-02-11T19:47:34.255Z"
   },
   {
    "duration": 270,
    "start_time": "2023-02-11T19:47:34.678Z"
   },
   {
    "duration": 402,
    "start_time": "2023-02-11T19:47:34.951Z"
   },
   {
    "duration": 247,
    "start_time": "2023-02-11T19:47:35.355Z"
   },
   {
    "duration": 4,
    "start_time": "2023-02-11T19:47:35.604Z"
   },
   {
    "duration": 199,
    "start_time": "2023-02-11T19:47:35.609Z"
   },
   {
    "duration": 5,
    "start_time": "2023-02-11T19:47:35.809Z"
   },
   {
    "duration": 172,
    "start_time": "2023-02-11T19:47:35.816Z"
   },
   {
    "duration": 12,
    "start_time": "2023-02-11T19:47:35.990Z"
   },
   {
    "duration": 10,
    "start_time": "2023-02-11T19:47:36.003Z"
   },
   {
    "duration": 61,
    "start_time": "2023-02-11T19:47:36.015Z"
   },
   {
    "duration": 25,
    "start_time": "2023-02-11T19:47:36.078Z"
   },
   {
    "duration": 11,
    "start_time": "2023-02-11T20:49:10.498Z"
   },
   {
    "duration": 11,
    "start_time": "2023-02-11T20:49:39.314Z"
   },
   {
    "duration": 10,
    "start_time": "2023-02-11T20:49:49.801Z"
   },
   {
    "duration": 10,
    "start_time": "2023-02-11T20:50:02.463Z"
   },
   {
    "duration": 44,
    "start_time": "2023-02-11T20:51:05.256Z"
   },
   {
    "duration": 260,
    "start_time": "2023-02-11T20:53:48.264Z"
   },
   {
    "duration": 263,
    "start_time": "2023-02-11T20:54:02.438Z"
   },
   {
    "duration": 256,
    "start_time": "2023-02-11T20:54:19.806Z"
   },
   {
    "duration": 389,
    "start_time": "2023-02-11T20:54:46.826Z"
   },
   {
    "duration": 286,
    "start_time": "2023-02-11T20:54:54.276Z"
   },
   {
    "duration": 275,
    "start_time": "2023-02-11T20:55:00.443Z"
   },
   {
    "duration": 386,
    "start_time": "2023-02-11T20:55:25.985Z"
   },
   {
    "duration": 165,
    "start_time": "2023-02-11T20:55:55.723Z"
   },
   {
    "duration": 14,
    "start_time": "2023-02-11T22:10:51.358Z"
   },
   {
    "duration": 3,
    "start_time": "2023-02-11T22:17:44.401Z"
   },
   {
    "duration": 15,
    "start_time": "2023-02-11T22:17:57.434Z"
   },
   {
    "duration": 13,
    "start_time": "2023-02-11T22:18:00.482Z"
   },
   {
    "duration": 3,
    "start_time": "2023-02-12T07:02:24.586Z"
   },
   {
    "duration": 82,
    "start_time": "2023-02-12T07:02:25.516Z"
   },
   {
    "duration": 35,
    "start_time": "2023-02-12T07:02:28.010Z"
   },
   {
    "duration": 17,
    "start_time": "2023-02-12T07:02:29.906Z"
   },
   {
    "duration": 159,
    "start_time": "2023-02-12T07:02:31.784Z"
   },
   {
    "duration": 20,
    "start_time": "2023-02-12T07:02:33.277Z"
   },
   {
    "duration": 165,
    "start_time": "2023-02-12T07:02:35.099Z"
   },
   {
    "duration": 21,
    "start_time": "2023-02-12T07:02:36.746Z"
   },
   {
    "duration": 4,
    "start_time": "2023-02-12T07:02:39.775Z"
   },
   {
    "duration": 11,
    "start_time": "2023-02-12T07:02:50.049Z"
   },
   {
    "duration": 67,
    "start_time": "2023-02-12T07:03:12.706Z"
   },
   {
    "duration": 13,
    "start_time": "2023-02-12T07:03:27.075Z"
   },
   {
    "duration": 10,
    "start_time": "2023-02-12T07:04:27.617Z"
   },
   {
    "duration": 13,
    "start_time": "2023-02-12T07:04:43.696Z"
   },
   {
    "duration": 14,
    "start_time": "2023-02-12T07:04:55.211Z"
   },
   {
    "duration": 15,
    "start_time": "2023-02-12T07:05:05.508Z"
   },
   {
    "duration": 15,
    "start_time": "2023-02-12T07:05:22.804Z"
   },
   {
    "duration": 8,
    "start_time": "2023-02-12T07:05:46.407Z"
   },
   {
    "duration": 81,
    "start_time": "2023-02-12T07:05:55.605Z"
   },
   {
    "duration": 12,
    "start_time": "2023-02-12T07:06:00.788Z"
   },
   {
    "duration": 10,
    "start_time": "2023-02-12T07:06:58.874Z"
   },
   {
    "duration": 13,
    "start_time": "2023-02-12T07:07:22.258Z"
   },
   {
    "duration": 16,
    "start_time": "2023-02-12T07:07:29.258Z"
   },
   {
    "duration": 18,
    "start_time": "2023-02-12T07:09:11.518Z"
   },
   {
    "duration": 20,
    "start_time": "2023-02-12T07:10:19.413Z"
   },
   {
    "duration": 23,
    "start_time": "2023-02-12T07:12:40.497Z"
   },
   {
    "duration": 23,
    "start_time": "2023-02-12T07:13:07.418Z"
   },
   {
    "duration": 89,
    "start_time": "2023-02-12T07:13:27.376Z"
   },
   {
    "duration": 8,
    "start_time": "2023-02-12T07:13:45.256Z"
   },
   {
    "duration": 22,
    "start_time": "2023-02-12T07:14:47.987Z"
   },
   {
    "duration": 30,
    "start_time": "2023-02-12T07:15:01.628Z"
   },
   {
    "duration": 29,
    "start_time": "2023-02-12T07:15:08.600Z"
   },
   {
    "duration": 24,
    "start_time": "2023-02-12T07:15:26.715Z"
   },
   {
    "duration": 52,
    "start_time": "2023-02-12T07:16:14.248Z"
   },
   {
    "duration": 80,
    "start_time": "2023-02-12T07:16:32.754Z"
   },
   {
    "duration": 44,
    "start_time": "2023-02-12T07:17:13.248Z"
   },
   {
    "duration": 134,
    "start_time": "2023-02-12T07:17:28.014Z"
   },
   {
    "duration": 19,
    "start_time": "2023-02-12T07:17:37.177Z"
   },
   {
    "duration": 20,
    "start_time": "2023-02-12T07:21:47.760Z"
   },
   {
    "duration": 19,
    "start_time": "2023-02-12T07:23:17.313Z"
   },
   {
    "duration": 23,
    "start_time": "2023-02-12T07:23:32.798Z"
   },
   {
    "duration": 19,
    "start_time": "2023-02-12T07:24:21.222Z"
   },
   {
    "duration": 21,
    "start_time": "2023-02-12T07:24:40.697Z"
   },
   {
    "duration": 21,
    "start_time": "2023-02-12T07:24:58.890Z"
   },
   {
    "duration": 21,
    "start_time": "2023-02-12T07:25:20.070Z"
   },
   {
    "duration": 28,
    "start_time": "2023-02-12T07:26:10.536Z"
   },
   {
    "duration": 27,
    "start_time": "2023-02-12T07:26:39.073Z"
   },
   {
    "duration": 28,
    "start_time": "2023-02-12T07:26:55.001Z"
   },
   {
    "duration": 29,
    "start_time": "2023-02-12T07:27:34.113Z"
   },
   {
    "duration": 30,
    "start_time": "2023-02-12T07:28:03.935Z"
   },
   {
    "duration": 27,
    "start_time": "2023-02-12T07:28:15.555Z"
   },
   {
    "duration": 26,
    "start_time": "2023-02-12T07:28:23.109Z"
   },
   {
    "duration": 27,
    "start_time": "2023-02-12T07:28:39.340Z"
   },
   {
    "duration": 23,
    "start_time": "2023-02-12T07:29:56.431Z"
   },
   {
    "duration": 28,
    "start_time": "2023-02-12T07:30:27.654Z"
   },
   {
    "duration": 15,
    "start_time": "2023-02-12T07:31:08.117Z"
   },
   {
    "duration": 28,
    "start_time": "2023-02-12T07:31:15.046Z"
   },
   {
    "duration": 24,
    "start_time": "2023-02-12T07:31:41.636Z"
   },
   {
    "duration": 21,
    "start_time": "2023-02-12T07:32:26.692Z"
   },
   {
    "duration": 23,
    "start_time": "2023-02-12T07:32:33.397Z"
   },
   {
    "duration": 21,
    "start_time": "2023-02-12T07:33:11.400Z"
   },
   {
    "duration": 19,
    "start_time": "2023-02-12T07:33:35.585Z"
   },
   {
    "duration": 89,
    "start_time": "2023-02-12T07:34:06.368Z"
   },
   {
    "duration": 19,
    "start_time": "2023-02-12T07:34:24.351Z"
   },
   {
    "duration": 34,
    "start_time": "2023-02-12T07:35:23.526Z"
   },
   {
    "duration": 32,
    "start_time": "2023-02-12T07:37:00.330Z"
   },
   {
    "duration": 23,
    "start_time": "2023-02-12T07:37:12.407Z"
   },
   {
    "duration": 754,
    "start_time": "2023-02-12T07:37:37.619Z"
   },
   {
    "duration": 79,
    "start_time": "2023-02-12T07:40:02.868Z"
   },
   {
    "duration": 4100,
    "start_time": "2023-02-12T07:40:09.073Z"
   },
   {
    "duration": 25,
    "start_time": "2023-02-12T07:40:40.875Z"
   },
   {
    "duration": 23,
    "start_time": "2023-02-12T07:41:12.859Z"
   },
   {
    "duration": 17,
    "start_time": "2023-02-12T07:41:20.669Z"
   },
   {
    "duration": 5,
    "start_time": "2023-02-12T07:43:02.625Z"
   },
   {
    "duration": 30,
    "start_time": "2023-02-12T07:43:08.595Z"
   },
   {
    "duration": 27,
    "start_time": "2023-02-12T07:43:31.504Z"
   },
   {
    "duration": 26,
    "start_time": "2023-02-12T07:44:06.772Z"
   },
   {
    "duration": 33,
    "start_time": "2023-02-12T07:44:22.423Z"
   },
   {
    "duration": 23,
    "start_time": "2023-02-12T07:44:46.387Z"
   },
   {
    "duration": 27,
    "start_time": "2023-02-12T07:45:17.043Z"
   },
   {
    "duration": 29,
    "start_time": "2023-02-12T07:47:53.513Z"
   },
   {
    "duration": 31,
    "start_time": "2023-02-12T07:48:16.317Z"
   },
   {
    "duration": 30,
    "start_time": "2023-02-12T07:50:00.989Z"
   },
   {
    "duration": 31,
    "start_time": "2023-02-12T07:50:12.231Z"
   },
   {
    "duration": 33,
    "start_time": "2023-02-12T07:50:33.858Z"
   },
   {
    "duration": 30,
    "start_time": "2023-02-12T07:51:10.837Z"
   },
   {
    "duration": 433,
    "start_time": "2023-02-12T07:53:40.331Z"
   },
   {
    "duration": 51,
    "start_time": "2023-02-12T07:54:00.175Z"
   },
   {
    "duration": 62,
    "start_time": "2023-02-12T07:54:11.495Z"
   },
   {
    "duration": 25,
    "start_time": "2023-02-12T07:54:23.812Z"
   },
   {
    "duration": 26,
    "start_time": "2023-02-12T07:54:36.946Z"
   },
   {
    "duration": 198,
    "start_time": "2023-02-12T07:56:35.985Z"
   },
   {
    "duration": 27,
    "start_time": "2023-02-12T07:56:50.331Z"
   },
   {
    "duration": 24,
    "start_time": "2023-02-12T07:57:02.674Z"
   },
   {
    "duration": 26,
    "start_time": "2023-02-12T07:57:37.856Z"
   },
   {
    "duration": 67,
    "start_time": "2023-02-12T07:58:16.254Z"
   },
   {
    "duration": 5,
    "start_time": "2023-02-12T07:58:22.585Z"
   },
   {
    "duration": 24,
    "start_time": "2023-02-12T07:58:28.320Z"
   },
   {
    "duration": 23,
    "start_time": "2023-02-12T07:58:42.125Z"
   },
   {
    "duration": 27,
    "start_time": "2023-02-12T07:59:42.258Z"
   },
   {
    "duration": 22,
    "start_time": "2023-02-12T07:59:51.659Z"
   },
   {
    "duration": 48,
    "start_time": "2023-02-12T08:00:05.793Z"
   },
   {
    "duration": 31,
    "start_time": "2023-02-12T08:00:56.986Z"
   },
   {
    "duration": 201,
    "start_time": "2023-02-12T08:01:27.440Z"
   },
   {
    "duration": 182,
    "start_time": "2023-02-12T08:05:53.754Z"
   },
   {
    "duration": 16,
    "start_time": "2023-02-12T08:05:59.995Z"
   },
   {
    "duration": 16,
    "start_time": "2023-02-12T08:06:24.479Z"
   },
   {
    "duration": 18,
    "start_time": "2023-02-12T08:06:35.553Z"
   },
   {
    "duration": 15,
    "start_time": "2023-02-12T08:07:05.865Z"
   },
   {
    "duration": 7,
    "start_time": "2023-02-12T08:10:28.111Z"
   },
   {
    "duration": 25,
    "start_time": "2023-02-12T08:10:36.973Z"
   },
   {
    "duration": 35,
    "start_time": "2023-02-12T08:11:53.928Z"
   },
   {
    "duration": 27,
    "start_time": "2023-02-12T08:12:09.649Z"
   },
   {
    "duration": 32,
    "start_time": "2023-02-12T08:12:54.505Z"
   },
   {
    "duration": 56,
    "start_time": "2023-02-12T08:13:45.627Z"
   },
   {
    "duration": 18,
    "start_time": "2023-02-12T08:23:55.640Z"
   },
   {
    "duration": 52,
    "start_time": "2023-02-12T08:26:03.525Z"
   },
   {
    "duration": 47,
    "start_time": "2023-02-12T08:26:42.685Z"
   },
   {
    "duration": 29,
    "start_time": "2023-02-12T08:31:24.436Z"
   },
   {
    "duration": 707,
    "start_time": "2023-02-12T08:32:07.051Z"
   },
   {
    "duration": 49,
    "start_time": "2023-02-12T08:32:53.479Z"
   },
   {
    "duration": 62,
    "start_time": "2023-02-12T08:33:39.478Z"
   },
   {
    "duration": 66,
    "start_time": "2023-02-12T08:34:17.191Z"
   },
   {
    "duration": 68,
    "start_time": "2023-02-12T08:36:30.795Z"
   },
   {
    "duration": 26,
    "start_time": "2023-02-12T08:37:46.843Z"
   },
   {
    "duration": 66,
    "start_time": "2023-02-12T08:37:55.263Z"
   },
   {
    "duration": 69,
    "start_time": "2023-02-12T08:38:51.353Z"
   },
   {
    "duration": 74,
    "start_time": "2023-02-12T08:39:10.838Z"
   },
   {
    "duration": 67,
    "start_time": "2023-02-12T08:39:50.490Z"
   },
   {
    "duration": 69,
    "start_time": "2023-02-12T08:40:26.810Z"
   },
   {
    "duration": 72,
    "start_time": "2023-02-12T08:40:31.725Z"
   },
   {
    "duration": 70,
    "start_time": "2023-02-12T08:42:36.325Z"
   },
   {
    "duration": 78,
    "start_time": "2023-02-12T08:43:02.090Z"
   },
   {
    "duration": 153,
    "start_time": "2023-02-12T08:43:55.337Z"
   },
   {
    "duration": 715,
    "start_time": "2023-02-12T08:44:56.131Z"
   },
   {
    "duration": 708,
    "start_time": "2023-02-12T08:45:22.231Z"
   },
   {
    "duration": 748,
    "start_time": "2023-02-12T08:45:39.576Z"
   },
   {
    "duration": 688,
    "start_time": "2023-02-12T08:46:33.645Z"
   },
   {
    "duration": 800,
    "start_time": "2023-02-12T08:47:30.495Z"
   },
   {
    "duration": 841,
    "start_time": "2023-02-12T08:49:25.160Z"
   },
   {
    "duration": 790,
    "start_time": "2023-02-12T08:49:43.446Z"
   },
   {
    "duration": 74,
    "start_time": "2023-02-12T08:50:04.913Z"
   },
   {
    "duration": 703,
    "start_time": "2023-02-12T08:51:05.488Z"
   },
   {
    "duration": 103,
    "start_time": "2023-02-12T08:51:44.141Z"
   },
   {
    "duration": 86,
    "start_time": "2023-02-12T08:52:11.754Z"
   },
   {
    "duration": 91,
    "start_time": "2023-02-12T08:52:46.784Z"
   },
   {
    "duration": 95,
    "start_time": "2023-02-12T08:53:00.103Z"
   },
   {
    "duration": 84,
    "start_time": "2023-02-12T08:53:51.520Z"
   },
   {
    "duration": 696,
    "start_time": "2023-02-12T08:54:32.886Z"
   },
   {
    "duration": 727,
    "start_time": "2023-02-12T08:56:53.740Z"
   },
   {
    "duration": 119,
    "start_time": "2023-02-12T08:57:08.871Z"
   },
   {
    "duration": 28,
    "start_time": "2023-02-12T08:57:21.358Z"
   },
   {
    "duration": 26,
    "start_time": "2023-02-12T08:57:46.523Z"
   },
   {
    "duration": 24,
    "start_time": "2023-02-12T08:57:50.081Z"
   },
   {
    "duration": 23,
    "start_time": "2023-02-12T08:58:06.103Z"
   },
   {
    "duration": 26,
    "start_time": "2023-02-12T08:58:17.321Z"
   },
   {
    "duration": 81,
    "start_time": "2023-02-12T09:00:01.962Z"
   },
   {
    "duration": 767,
    "start_time": "2023-02-12T09:00:07.784Z"
   },
   {
    "duration": 31,
    "start_time": "2023-02-12T09:11:02.779Z"
   },
   {
    "duration": 28,
    "start_time": "2023-02-12T09:11:41.962Z"
   },
   {
    "duration": 31,
    "start_time": "2023-02-12T09:11:45.775Z"
   },
   {
    "duration": 30,
    "start_time": "2023-02-12T09:12:22.406Z"
   },
   {
    "duration": 29,
    "start_time": "2023-02-12T09:12:27.099Z"
   },
   {
    "duration": 207,
    "start_time": "2023-02-12T09:13:13.308Z"
   },
   {
    "duration": 6,
    "start_time": "2023-02-12T09:17:32.621Z"
   },
   {
    "duration": 35,
    "start_time": "2023-02-12T09:17:49.472Z"
   },
   {
    "duration": 29,
    "start_time": "2023-02-12T09:19:16.027Z"
   },
   {
    "duration": 41,
    "start_time": "2023-02-12T09:24:54.940Z"
   },
   {
    "duration": 7,
    "start_time": "2023-02-12T09:26:13.068Z"
   },
   {
    "duration": 45,
    "start_time": "2023-02-12T09:26:42.458Z"
   },
   {
    "duration": 36,
    "start_time": "2023-02-12T09:26:54.371Z"
   },
   {
    "duration": 50,
    "start_time": "2023-02-12T09:27:28.480Z"
   },
   {
    "duration": 29,
    "start_time": "2023-02-12T09:27:38.585Z"
   },
   {
    "duration": 27,
    "start_time": "2023-02-12T09:27:44.908Z"
   },
   {
    "duration": 31,
    "start_time": "2023-02-12T09:27:52.229Z"
   },
   {
    "duration": 33,
    "start_time": "2023-02-12T09:30:28.187Z"
   },
   {
    "duration": 30,
    "start_time": "2023-02-12T09:30:38.731Z"
   },
   {
    "duration": 32,
    "start_time": "2023-02-12T09:31:25.075Z"
   },
   {
    "duration": 33,
    "start_time": "2023-02-12T09:31:39.152Z"
   },
   {
    "duration": 25,
    "start_time": "2023-02-12T09:31:46.731Z"
   },
   {
    "duration": 28,
    "start_time": "2023-02-12T09:31:57.176Z"
   },
   {
    "duration": 28,
    "start_time": "2023-02-12T09:33:17.296Z"
   },
   {
    "duration": 31,
    "start_time": "2023-02-12T09:33:59.004Z"
   },
   {
    "duration": 595,
    "start_time": "2023-02-12T09:37:54.975Z"
   },
   {
    "duration": 28,
    "start_time": "2023-02-12T09:38:15.812Z"
   },
   {
    "duration": 35,
    "start_time": "2023-02-12T09:40:03.029Z"
   },
   {
    "duration": 27,
    "start_time": "2023-02-12T09:40:37.477Z"
   },
   {
    "duration": 29,
    "start_time": "2023-02-12T09:41:00.629Z"
   },
   {
    "duration": 18,
    "start_time": "2023-02-12T09:48:10.895Z"
   },
   {
    "duration": 22,
    "start_time": "2023-02-12T09:49:09.037Z"
   },
   {
    "duration": 20,
    "start_time": "2023-02-12T09:52:14.105Z"
   },
   {
    "duration": 20,
    "start_time": "2023-02-12T09:53:00.354Z"
   },
   {
    "duration": 22,
    "start_time": "2023-02-12T09:53:07.312Z"
   },
   {
    "duration": 23,
    "start_time": "2023-02-12T09:53:20.254Z"
   },
   {
    "duration": 20,
    "start_time": "2023-02-12T09:54:14.553Z"
   },
   {
    "duration": 19,
    "start_time": "2023-02-12T09:54:31.509Z"
   },
   {
    "duration": 18,
    "start_time": "2023-02-12T09:54:44.554Z"
   },
   {
    "duration": 23,
    "start_time": "2023-02-12T09:55:02.828Z"
   },
   {
    "duration": 24,
    "start_time": "2023-02-12T09:55:08.635Z"
   },
   {
    "duration": 21,
    "start_time": "2023-02-12T09:55:17.290Z"
   },
   {
    "duration": 19,
    "start_time": "2023-02-12T09:55:40.381Z"
   },
   {
    "duration": 27,
    "start_time": "2023-02-12T10:00:04.033Z"
   },
   {
    "duration": 32,
    "start_time": "2023-02-12T10:02:45.765Z"
   },
   {
    "duration": 27,
    "start_time": "2023-02-12T10:03:01.958Z"
   },
   {
    "duration": 30,
    "start_time": "2023-02-12T10:03:12.738Z"
   },
   {
    "duration": 45,
    "start_time": "2023-02-12T10:03:33.397Z"
   },
   {
    "duration": 35,
    "start_time": "2023-02-12T10:04:17.408Z"
   },
   {
    "duration": 32,
    "start_time": "2023-02-12T10:05:49.905Z"
   },
   {
    "duration": 32,
    "start_time": "2023-02-12T10:07:16.582Z"
   },
   {
    "duration": 41,
    "start_time": "2023-02-12T10:07:41.210Z"
   },
   {
    "duration": 33,
    "start_time": "2023-02-12T10:07:58.506Z"
   },
   {
    "duration": 30,
    "start_time": "2023-02-12T10:08:25.678Z"
   },
   {
    "duration": 53,
    "start_time": "2023-02-12T10:08:38.813Z"
   },
   {
    "duration": 70,
    "start_time": "2023-02-12T10:10:21.683Z"
   },
   {
    "duration": 33,
    "start_time": "2023-02-12T10:13:07.358Z"
   },
   {
    "duration": 30,
    "start_time": "2023-02-12T10:21:43.069Z"
   },
   {
    "duration": 799,
    "start_time": "2023-02-12T10:23:59.137Z"
   },
   {
    "duration": 56,
    "start_time": "2023-02-12T10:24:13.657Z"
   },
   {
    "duration": 791,
    "start_time": "2023-02-12T10:24:22.368Z"
   },
   {
    "duration": 36,
    "start_time": "2023-02-12T10:24:55.987Z"
   },
   {
    "duration": 32,
    "start_time": "2023-02-12T10:25:55.337Z"
   },
   {
    "duration": 29,
    "start_time": "2023-02-12T10:26:52.757Z"
   },
   {
    "duration": 67,
    "start_time": "2023-02-12T10:45:50.498Z"
   },
   {
    "duration": 778,
    "start_time": "2023-02-12T10:46:05.819Z"
   },
   {
    "duration": 658,
    "start_time": "2023-02-12T10:46:35.575Z"
   },
   {
    "duration": 954,
    "start_time": "2023-02-12T10:46:58.606Z"
   },
   {
    "duration": 33,
    "start_time": "2023-02-12T10:47:43.132Z"
   },
   {
    "duration": 27,
    "start_time": "2023-02-12T10:47:56.099Z"
   },
   {
    "duration": 35,
    "start_time": "2023-02-12T10:48:02.251Z"
   },
   {
    "duration": 39,
    "start_time": "2023-02-12T10:49:34.235Z"
   },
   {
    "duration": 28,
    "start_time": "2023-02-12T10:50:02.372Z"
   },
   {
    "duration": 50,
    "start_time": "2023-02-12T10:53:39.965Z"
   },
   {
    "duration": 25,
    "start_time": "2023-02-12T10:54:06.274Z"
   },
   {
    "duration": 52,
    "start_time": "2023-02-12T10:54:58.113Z"
   },
   {
    "duration": 51,
    "start_time": "2023-02-12T10:55:36.355Z"
   },
   {
    "duration": 27,
    "start_time": "2023-02-12T10:55:52.705Z"
   },
   {
    "duration": 42,
    "start_time": "2023-02-12T10:56:41.126Z"
   },
   {
    "duration": 26,
    "start_time": "2023-02-12T10:57:41.700Z"
   },
   {
    "duration": 26,
    "start_time": "2023-02-12T10:57:50.686Z"
   },
   {
    "duration": 41,
    "start_time": "2023-02-12T10:58:04.325Z"
   },
   {
    "duration": 28,
    "start_time": "2023-02-12T10:59:24.075Z"
   },
   {
    "duration": 28,
    "start_time": "2023-02-12T11:03:27.668Z"
   },
   {
    "duration": 45,
    "start_time": "2023-02-12T11:07:42.816Z"
   },
   {
    "duration": 30,
    "start_time": "2023-02-12T11:09:53.180Z"
   },
   {
    "duration": 25,
    "start_time": "2023-02-12T11:09:58.934Z"
   },
   {
    "duration": 214,
    "start_time": "2023-02-12T11:10:07.724Z"
   },
   {
    "duration": 24,
    "start_time": "2023-02-12T11:10:14.240Z"
   },
   {
    "duration": 21,
    "start_time": "2023-02-12T11:10:20.499Z"
   },
   {
    "duration": 274,
    "start_time": "2023-02-12T11:10:26.082Z"
   },
   {
    "duration": 27,
    "start_time": "2023-02-12T15:28:34.289Z"
   },
   {
    "duration": 25,
    "start_time": "2023-02-12T15:28:53.676Z"
   },
   {
    "duration": 29,
    "start_time": "2023-02-12T15:30:08.258Z"
   },
   {
    "duration": 26,
    "start_time": "2023-02-12T15:30:29.496Z"
   },
   {
    "duration": 27,
    "start_time": "2023-02-12T15:30:41.389Z"
   },
   {
    "duration": 28,
    "start_time": "2023-02-12T15:31:26.331Z"
   },
   {
    "duration": 659,
    "start_time": "2023-02-12T15:31:48.717Z"
   },
   {
    "duration": 30,
    "start_time": "2023-02-12T15:32:03.605Z"
   },
   {
    "duration": 29,
    "start_time": "2023-02-12T15:32:15.305Z"
   },
   {
    "duration": 24,
    "start_time": "2023-02-12T15:32:25.564Z"
   },
   {
    "duration": 27,
    "start_time": "2023-02-12T15:48:24.427Z"
   },
   {
    "duration": 24,
    "start_time": "2023-02-12T15:48:41.267Z"
   },
   {
    "duration": 50,
    "start_time": "2023-02-12T16:00:25.086Z"
   },
   {
    "duration": 41,
    "start_time": "2023-02-12T16:01:09.812Z"
   },
   {
    "duration": 179,
    "start_time": "2023-02-12T16:12:23.027Z"
   },
   {
    "duration": 57,
    "start_time": "2023-02-12T16:14:09.123Z"
   },
   {
    "duration": 44,
    "start_time": "2023-02-12T16:14:15.208Z"
   },
   {
    "duration": 160,
    "start_time": "2023-02-12T16:15:26.996Z"
   },
   {
    "duration": 347,
    "start_time": "2023-02-12T16:15:44.281Z"
   },
   {
    "duration": 158,
    "start_time": "2023-02-12T16:16:04.269Z"
   },
   {
    "duration": 149,
    "start_time": "2023-02-12T16:17:10.619Z"
   },
   {
    "duration": 176,
    "start_time": "2023-02-12T16:57:47.162Z"
   },
   {
    "duration": 13,
    "start_time": "2023-02-12T16:59:37.811Z"
   },
   {
    "duration": 4,
    "start_time": "2023-02-12T17:01:33.208Z"
   },
   {
    "duration": 166,
    "start_time": "2023-02-12T17:01:45.823Z"
   },
   {
    "duration": 166,
    "start_time": "2023-02-12T17:01:59.974Z"
   },
   {
    "duration": 159,
    "start_time": "2023-02-12T17:02:32.662Z"
   },
   {
    "duration": 7,
    "start_time": "2023-02-12T17:03:09.124Z"
   },
   {
    "duration": 6,
    "start_time": "2023-02-12T17:03:18.517Z"
   },
   {
    "duration": 6,
    "start_time": "2023-02-12T17:04:11.550Z"
   },
   {
    "duration": 10,
    "start_time": "2023-02-12T17:04:23.980Z"
   },
   {
    "duration": 217,
    "start_time": "2023-02-12T17:04:49.090Z"
   },
   {
    "duration": 176,
    "start_time": "2023-02-12T17:05:06.633Z"
   },
   {
    "duration": 6,
    "start_time": "2023-02-12T17:05:24.097Z"
   },
   {
    "duration": 173,
    "start_time": "2023-02-12T17:29:28.522Z"
   },
   {
    "duration": 67,
    "start_time": "2023-02-12T17:30:27.408Z"
   },
   {
    "duration": 1477,
    "start_time": "2023-02-13T20:18:48.119Z"
   },
   {
    "duration": 106,
    "start_time": "2023-02-13T20:20:20.148Z"
   },
   {
    "duration": 12,
    "start_time": "2023-02-13T21:04:29.369Z"
   },
   {
    "duration": 3,
    "start_time": "2023-02-13T21:04:33.788Z"
   },
   {
    "duration": 260,
    "start_time": "2023-02-13T21:04:34.897Z"
   },
   {
    "duration": 41,
    "start_time": "2023-02-13T21:04:38.679Z"
   },
   {
    "duration": 55,
    "start_time": "2023-02-16T13:17:57.786Z"
   },
   {
    "duration": 1222,
    "start_time": "2023-02-16T13:18:05.800Z"
   },
   {
    "duration": 446,
    "start_time": "2023-02-16T13:18:07.024Z"
   },
   {
    "duration": 27,
    "start_time": "2023-02-16T13:18:07.776Z"
   },
   {
    "duration": 39,
    "start_time": "2023-02-16T13:18:10.386Z"
   },
   {
    "duration": 17,
    "start_time": "2023-02-16T13:18:12.180Z"
   },
   {
    "duration": 20,
    "start_time": "2023-02-16T13:18:13.557Z"
   },
   {
    "duration": 191,
    "start_time": "2023-02-16T13:18:15.378Z"
   },
   {
    "duration": 26,
    "start_time": "2023-02-16T13:18:16.684Z"
   },
   {
    "duration": 42,
    "start_time": "2023-02-16T13:18:18.064Z"
   },
   {
    "duration": 36,
    "start_time": "2023-02-16T13:39:20.454Z"
   },
   {
    "duration": 1260,
    "start_time": "2023-02-20T07:31:20.039Z"
   },
   {
    "duration": 313,
    "start_time": "2023-02-20T07:31:21.303Z"
   },
   {
    "duration": 31,
    "start_time": "2023-02-20T07:31:23.913Z"
   },
   {
    "duration": 17,
    "start_time": "2023-02-20T07:31:25.796Z"
   },
   {
    "duration": 215,
    "start_time": "2023-02-20T07:31:28.098Z"
   },
   {
    "duration": 24,
    "start_time": "2023-02-20T07:31:29.632Z"
   },
   {
    "duration": 170,
    "start_time": "2023-02-20T07:31:31.593Z"
   },
   {
    "duration": 26,
    "start_time": "2023-02-20T07:31:33.102Z"
   },
   {
    "duration": 68,
    "start_time": "2023-02-20T07:31:34.651Z"
   },
   {
    "duration": 25,
    "start_time": "2023-02-20T07:32:42.261Z"
   },
   {
    "duration": 1938,
    "start_time": "2023-02-20T07:33:34.700Z"
   },
   {
    "duration": 11,
    "start_time": "2023-02-20T07:34:09.129Z"
   }
  ],
  "kernelspec": {
   "display_name": "Python 3 (ipykernel)",
   "language": "python",
   "name": "python3"
  },
  "language_info": {
   "codemirror_mode": {
    "name": "ipython",
    "version": 3
   },
   "file_extension": ".py",
   "mimetype": "text/x-python",
   "name": "python",
   "nbconvert_exporter": "python",
   "pygments_lexer": "ipython3",
   "version": "3.9.13"
  },
  "toc": {
   "base_numbering": 1,
   "nav_menu": {},
   "number_sections": true,
   "sideBar": true,
   "skip_h1_title": true,
   "title_cell": "Table of Contents",
   "title_sidebar": "Contents",
   "toc_cell": true,
   "toc_position": {},
   "toc_section_display": true,
   "toc_window_display": false
  }
 },
 "nbformat": 4,
 "nbformat_minor": 2
}
